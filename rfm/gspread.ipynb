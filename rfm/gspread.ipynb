{
 "cells": [
  {
   "cell_type": "code",
   "execution_count": 5,
   "metadata": {},
   "outputs": [
    {
     "data": {
      "application/vnd.jupyter.widget-view+json": {
       "model_id": "6c669f3536464b7daf6c85d96d901d15",
       "version_major": 2,
       "version_minor": 0
      },
      "text/plain": [
       "Textarea(value='', description='SQL Query:', layout=Layout(width='auto'), placeholder='Enter SQL query')"
      ]
     },
     "metadata": {},
     "output_type": "display_data"
    },
    {
     "data": {
      "application/vnd.jupyter.widget-view+json": {
       "model_id": "2817913aeb29413ea32181dc92f26bf5",
       "version_major": 2,
       "version_minor": 0
      },
      "text/plain": [
       "Text(value='', description='탭이름:', layout=Layout(width='auto'), placeholder='구글시트 이름을 넣으세요.')"
      ]
     },
     "metadata": {},
     "output_type": "display_data"
    },
    {
     "data": {
      "application/vnd.jupyter.widget-view+json": {
       "model_id": "3035049b21c24e52bc35bc3bf781c9e5",
       "version_major": 2,
       "version_minor": 0
      },
      "text/plain": [
       "Button(description='Execute', style=ButtonStyle())"
      ]
     },
     "metadata": {},
     "output_type": "display_data"
    }
   ],
   "source": [
    "import ipywidgets as widgets\n",
    "from IPython.display import display, HTML\n",
    "from rfm import copy_db_to_google_spread\n",
    "\n",
    "# Create a Textarea widget for SQL query\n",
    "sql_query_textarea = widgets.Textarea(\n",
    "    value=\"\",\n",
    "    placeholder=\"Enter SQL query\",\n",
    "    description=\"SQL Query:\",\n",
    "    layout=widgets.Layout(width=\"auto\"),\n",
    ")\n",
    "\n",
    "# Create a Text widget for worksheet name\n",
    "worksheet_name_textfield = widgets.Text(\n",
    "    value=\"\",\n",
    "    placeholder=\"구글시트 이름을 넣으세요.\",\n",
    "    description=\"탭이름:\",\n",
    "    layout=widgets.Layout(width=\"auto\"),\n",
    ")\n",
    "\n",
    "# Create a Button widget\n",
    "execute_button = widgets.Button(description=\"Execute\")\n",
    "\n",
    "\n",
    "def on_button_clicked(b):\n",
    "    # This function will be called when the button is clicked\n",
    "    # It executes the copy_db_to_google_spread function with the entered SQL query and worksheet name\n",
    "    sql_query = sql_query_textarea.value\n",
    "    worksheet_name = worksheet_name_textfield.value\n",
    "    link = copy_db_to_google_spread(sql_query, worksheet_name)\n",
    "\n",
    "    # Display the link as a hyperlink\n",
    "    display(HTML(f'<a href=\"{link}\" target=\"_blank\">{worksheet_name}</a>'))\n",
    "\n",
    "\n",
    "execute_button.on_click(on_button_clicked)\n",
    "\n",
    "# Display the widgets\n",
    "display(sql_query_textarea, worksheet_name_textfield, execute_button)"
   ]
  }
 ],
 "metadata": {
  "kernelspec": {
   "display_name": "Python 3 (ipykernel)",
   "language": "python",
   "name": "python3"
  },
  "language_info": {
   "codemirror_mode": {
    "name": "ipython",
    "version": 3
   },
   "file_extension": ".py",
   "mimetype": "text/x-python",
   "name": "python",
   "nbconvert_exporter": "python",
   "pygments_lexer": "ipython3",
   "version": "3.10.13"
  }
 },
 "nbformat": 4,
 "nbformat_minor": 4
}
