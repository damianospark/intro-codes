{
 "cells": [
  {
   "cell_type": "markdown",
   "metadata": {},
   "source": [
    "방문객 기준의 패턴 분석\n"
   ]
  },
  {
   "cell_type": "code",
   "execution_count": null,
   "metadata": {},
   "outputs": [
    {
     "name": "stderr",
     "output_type": "stream",
     "text": [
      "/tmp/ipykernel_2111613/3738671290.py:66: UserWarning:\n",
      "\n",
      "pandas only supports SQLAlchemy connectable (engine/connection) or database string URI or sqlite3 DBAPI2 connection. Other DBAPI2 objects are not tested. Please consider using SQLAlchemy.\n",
      "\n"
     ]
    },
    {
     "data": {
      "application/vnd.plotly.v1+json": {
       "config": {
        "plotlyServerURL": "https://plot.ly"
       },
       "data": [
        {
         "marker": {
          "color": "red"
         },
         "name": "일",
         "text": [
          "103 visits<br>(1.04%)",
          "78 visits<br>(0.79%)",
          "39 visits<br>(0.40%)",
          "36 visits<br>(0.36%)",
          "29 visits<br>(0.29%)",
          "23 visits<br>(0.23%)",
          "24 visits<br>(0.24%)",
          "24 visits<br>(0.24%)",
          "52 visits<br>(0.53%)",
          "69 visits<br>(0.70%)",
          "69 visits<br>(0.70%)",
          "86 visits<br>(0.87%)",
          "81 visits<br>(0.82%)",
          "77 visits<br>(0.78%)",
          "66 visits<br>(0.67%)",
          "55 visits<br>(0.56%)",
          "71 visits<br>(0.72%)",
          "65 visits<br>(0.66%)",
          "56 visits<br>(0.57%)",
          "59 visits<br>(0.60%)",
          "51 visits<br>(0.52%)",
          "58 visits<br>(0.59%)",
          "43 visits<br>(0.44%)",
          "10 visits<br>(0.10%)"
         ],
         "textposition": "auto",
         "type": "bar",
         "x": [
          0,
          1,
          2,
          3,
          4,
          5,
          6,
          7,
          8,
          9,
          10,
          11,
          12,
          13,
          14,
          15,
          16,
          17,
          18,
          19,
          20,
          21,
          22,
          23
         ],
         "y": [
          103,
          78,
          39,
          36,
          29,
          23,
          24,
          24,
          52,
          69,
          69,
          86,
          81,
          77,
          66,
          55,
          71,
          65,
          56,
          59,
          51,
          58,
          43,
          10
         ]
        },
        {
         "marker": {
          "color": "orange"
         },
         "name": "월",
         "text": [
          "101 visits<br>(1.02%)",
          "53 visits<br>(0.54%)",
          "43 visits<br>(0.44%)",
          "14 visits<br>(0.14%)",
          "16 visits<br>(0.16%)",
          "19 visits<br>(0.19%)",
          "27 visits<br>(0.27%)",
          "46 visits<br>(0.47%)",
          "62 visits<br>(0.63%)",
          "59 visits<br>(0.60%)",
          "50 visits<br>(0.51%)",
          "44 visits<br>(0.45%)",
          "49 visits<br>(0.50%)",
          "45 visits<br>(0.46%)",
          "61 visits<br>(0.62%)",
          "58 visits<br>(0.59%)",
          "104 visits<br>(1.05%)",
          "146 visits<br>(1.48%)",
          "156 visits<br>(1.58%)",
          "91 visits<br>(0.92%)",
          "101 visits<br>(1.02%)",
          "156 visits<br>(1.58%)",
          "179 visits<br>(1.81%)",
          "123 visits<br>(1.25%)"
         ],
         "textposition": "auto",
         "type": "bar",
         "x": [
          0,
          1,
          2,
          3,
          4,
          5,
          6,
          7,
          8,
          9,
          10,
          11,
          12,
          13,
          14,
          15,
          16,
          17,
          18,
          19,
          20,
          21,
          22,
          23
         ],
         "y": [
          101,
          53,
          43,
          14,
          16,
          19,
          27,
          46,
          62,
          59,
          50,
          44,
          49,
          45,
          61,
          58,
          104,
          146,
          156,
          91,
          101,
          156,
          179,
          123
         ]
        },
        {
         "marker": {
          "color": "yellow"
         },
         "name": "화",
         "text": [
          "158 visits<br>(1.60%)",
          "88 visits<br>(0.89%)",
          "57 visits<br>(0.58%)",
          "32 visits<br>(0.32%)",
          "23 visits<br>(0.23%)",
          "23 visits<br>(0.23%)",
          "49 visits<br>(0.50%)",
          "59 visits<br>(0.60%)",
          "98 visits<br>(0.99%)",
          "76 visits<br>(0.77%)",
          "93 visits<br>(0.94%)",
          "83 visits<br>(0.84%)",
          "101 visits<br>(1.02%)",
          "97 visits<br>(0.98%)",
          "79 visits<br>(0.80%)",
          "97 visits<br>(0.98%)",
          "74 visits<br>(0.75%)",
          "77 visits<br>(0.78%)",
          "115 visits<br>(1.17%)",
          "87 visits<br>(0.88%)",
          "81 visits<br>(0.82%)",
          "77 visits<br>(0.78%)",
          "77 visits<br>(0.78%)",
          "96 visits<br>(0.97%)"
         ],
         "textposition": "auto",
         "type": "bar",
         "x": [
          0,
          1,
          2,
          3,
          4,
          5,
          6,
          7,
          8,
          9,
          10,
          11,
          12,
          13,
          14,
          15,
          16,
          17,
          18,
          19,
          20,
          21,
          22,
          23
         ],
         "y": [
          158,
          88,
          57,
          32,
          23,
          23,
          49,
          59,
          98,
          76,
          93,
          83,
          101,
          97,
          79,
          97,
          74,
          77,
          115,
          87,
          81,
          77,
          77,
          96
         ]
        },
        {
         "marker": {
          "color": "green"
         },
         "name": "수",
         "text": [
          "101 visits<br>(1.02%)",
          "66 visits<br>(0.67%)",
          "30 visits<br>(0.30%)",
          "31 visits<br>(0.31%)",
          "15 visits<br>(0.15%)",
          "27 visits<br>(0.27%)",
          "39 visits<br>(0.40%)",
          "48 visits<br>(0.49%)",
          "72 visits<br>(0.73%)",
          "61 visits<br>(0.62%)",
          "76 visits<br>(0.77%)",
          "51 visits<br>(0.52%)",
          "60 visits<br>(0.61%)",
          "68 visits<br>(0.69%)",
          "61 visits<br>(0.62%)",
          "73 visits<br>(0.74%)",
          "64 visits<br>(0.65%)",
          "43 visits<br>(0.44%)",
          "68 visits<br>(0.69%)",
          "33 visits<br>(0.33%)",
          "51 visits<br>(0.52%)",
          "49 visits<br>(0.50%)",
          "38 visits<br>(0.39%)",
          "62 visits<br>(0.63%)"
         ],
         "textposition": "auto",
         "type": "bar",
         "x": [
          0,
          1,
          2,
          3,
          4,
          5,
          6,
          7,
          8,
          9,
          10,
          11,
          12,
          13,
          14,
          15,
          16,
          17,
          18,
          19,
          20,
          21,
          22,
          23
         ],
         "y": [
          101,
          66,
          30,
          31,
          15,
          27,
          39,
          48,
          72,
          61,
          76,
          51,
          60,
          68,
          61,
          73,
          64,
          43,
          68,
          33,
          51,
          49,
          38,
          62
         ]
        },
        {
         "marker": {
          "color": "blue"
         },
         "name": "목",
         "text": [
          "73 visits<br>(0.74%)",
          "46 visits<br>(0.47%)",
          "17 visits<br>(0.17%)",
          "18 visits<br>(0.18%)",
          "15 visits<br>(0.15%)",
          "8 visits<br>(0.08%)",
          "22 visits<br>(0.22%)",
          "25 visits<br>(0.25%)",
          "40 visits<br>(0.41%)",
          "50 visits<br>(0.51%)",
          "46 visits<br>(0.47%)",
          "49 visits<br>(0.50%)",
          "57 visits<br>(0.58%)",
          "54 visits<br>(0.55%)",
          "59 visits<br>(0.60%)",
          "59 visits<br>(0.60%)",
          "76 visits<br>(0.77%)",
          "41 visits<br>(0.42%)",
          "78 visits<br>(0.79%)",
          "67 visits<br>(0.68%)",
          "56 visits<br>(0.57%)",
          "65 visits<br>(0.66%)",
          "60 visits<br>(0.61%)",
          "66 visits<br>(0.67%)"
         ],
         "textposition": "auto",
         "type": "bar",
         "x": [
          0,
          1,
          2,
          3,
          4,
          5,
          6,
          7,
          8,
          9,
          10,
          11,
          12,
          13,
          14,
          15,
          16,
          17,
          18,
          19,
          20,
          21,
          22,
          23
         ],
         "y": [
          73,
          46,
          17,
          18,
          15,
          8,
          22,
          25,
          40,
          50,
          46,
          49,
          57,
          54,
          59,
          59,
          76,
          41,
          78,
          67,
          56,
          65,
          60,
          66
         ]
        },
        {
         "marker": {
          "color": "indigo"
         },
         "name": "금",
         "text": [
          "68 visits<br>(0.69%)",
          "50 visits<br>(0.51%)",
          "43 visits<br>(0.44%)",
          "20 visits<br>(0.20%)",
          "27 visits<br>(0.27%)",
          "10 visits<br>(0.10%)",
          "21 visits<br>(0.21%)",
          "58 visits<br>(0.59%)",
          "60 visits<br>(0.61%)",
          "60 visits<br>(0.61%)",
          "51 visits<br>(0.52%)",
          "39 visits<br>(0.40%)",
          "66 visits<br>(0.67%)",
          "39 visits<br>(0.40%)",
          "58 visits<br>(0.59%)",
          "62 visits<br>(0.63%)",
          "82 visits<br>(0.83%)",
          "97 visits<br>(0.98%)",
          "62 visits<br>(0.63%)",
          "75 visits<br>(0.76%)",
          "62 visits<br>(0.63%)",
          "55 visits<br>(0.56%)",
          "53 visits<br>(0.54%)",
          "36 visits<br>(0.36%)"
         ],
         "textposition": "auto",
         "type": "bar",
         "x": [
          0,
          1,
          2,
          3,
          4,
          5,
          6,
          7,
          8,
          9,
          10,
          11,
          12,
          13,
          14,
          15,
          16,
          17,
          18,
          19,
          20,
          21,
          22,
          23
         ],
         "y": [
          68,
          50,
          43,
          20,
          27,
          10,
          21,
          58,
          60,
          60,
          51,
          39,
          66,
          39,
          58,
          62,
          82,
          97,
          62,
          75,
          62,
          55,
          53,
          36
         ]
        },
        {
         "marker": {
          "color": "violet"
         },
         "name": "토",
         "text": [
          "85 visits<br>(0.86%)",
          "73 visits<br>(0.74%)",
          "34 visits<br>(0.34%)",
          "21 visits<br>(0.21%)",
          "28 visits<br>(0.28%)",
          "16 visits<br>(0.16%)",
          "25 visits<br>(0.25%)",
          "43 visits<br>(0.44%)",
          "54 visits<br>(0.55%)",
          "60 visits<br>(0.61%)",
          "40 visits<br>(0.41%)",
          "57 visits<br>(0.58%)",
          "68 visits<br>(0.69%)",
          "54 visits<br>(0.55%)",
          "49 visits<br>(0.50%)",
          "50 visits<br>(0.51%)",
          "53 visits<br>(0.54%)",
          "45 visits<br>(0.46%)",
          "47 visits<br>(0.48%)",
          "53 visits<br>(0.54%)",
          "60 visits<br>(0.61%)",
          "69 visits<br>(0.70%)",
          "54 visits<br>(0.55%)",
          "20 visits<br>(0.20%)"
         ],
         "textposition": "auto",
         "type": "bar",
         "x": [
          0,
          1,
          2,
          3,
          4,
          5,
          6,
          7,
          8,
          9,
          10,
          11,
          12,
          13,
          14,
          15,
          16,
          17,
          18,
          19,
          20,
          21,
          22,
          23
         ],
         "y": [
          85,
          73,
          34,
          21,
          28,
          16,
          25,
          43,
          54,
          60,
          40,
          57,
          68,
          54,
          49,
          50,
          53,
          45,
          47,
          53,
          60,
          69,
          54,
          20
         ]
        }
       ],
       "layout": {
        "barmode": "stack",
        "height": 1200,
        "template": {
         "data": {
          "bar": [
           {
            "error_x": {
             "color": "#2a3f5f"
            },
            "error_y": {
             "color": "#2a3f5f"
            },
            "marker": {
             "line": {
              "color": "#E5ECF6",
              "width": 0.5
             },
             "pattern": {
              "fillmode": "overlay",
              "size": 10,
              "solidity": 0.2
             }
            },
            "type": "bar"
           }
          ],
          "barpolar": [
           {
            "marker": {
             "line": {
              "color": "#E5ECF6",
              "width": 0.5
             },
             "pattern": {
              "fillmode": "overlay",
              "size": 10,
              "solidity": 0.2
             }
            },
            "type": "barpolar"
           }
          ],
          "carpet": [
           {
            "aaxis": {
             "endlinecolor": "#2a3f5f",
             "gridcolor": "white",
             "linecolor": "white",
             "minorgridcolor": "white",
             "startlinecolor": "#2a3f5f"
            },
            "baxis": {
             "endlinecolor": "#2a3f5f",
             "gridcolor": "white",
             "linecolor": "white",
             "minorgridcolor": "white",
             "startlinecolor": "#2a3f5f"
            },
            "type": "carpet"
           }
          ],
          "choropleth": [
           {
            "colorbar": {
             "outlinewidth": 0,
             "ticks": ""
            },
            "type": "choropleth"
           }
          ],
          "contour": [
           {
            "colorbar": {
             "outlinewidth": 0,
             "ticks": ""
            },
            "colorscale": [
             [
              0,
              "#0d0887"
             ],
             [
              0.1111111111111111,
              "#46039f"
             ],
             [
              0.2222222222222222,
              "#7201a8"
             ],
             [
              0.3333333333333333,
              "#9c179e"
             ],
             [
              0.4444444444444444,
              "#bd3786"
             ],
             [
              0.5555555555555556,
              "#d8576b"
             ],
             [
              0.6666666666666666,
              "#ed7953"
             ],
             [
              0.7777777777777778,
              "#fb9f3a"
             ],
             [
              0.8888888888888888,
              "#fdca26"
             ],
             [
              1,
              "#f0f921"
             ]
            ],
            "type": "contour"
           }
          ],
          "contourcarpet": [
           {
            "colorbar": {
             "outlinewidth": 0,
             "ticks": ""
            },
            "type": "contourcarpet"
           }
          ],
          "heatmap": [
           {
            "colorbar": {
             "outlinewidth": 0,
             "ticks": ""
            },
            "colorscale": [
             [
              0,
              "#0d0887"
             ],
             [
              0.1111111111111111,
              "#46039f"
             ],
             [
              0.2222222222222222,
              "#7201a8"
             ],
             [
              0.3333333333333333,
              "#9c179e"
             ],
             [
              0.4444444444444444,
              "#bd3786"
             ],
             [
              0.5555555555555556,
              "#d8576b"
             ],
             [
              0.6666666666666666,
              "#ed7953"
             ],
             [
              0.7777777777777778,
              "#fb9f3a"
             ],
             [
              0.8888888888888888,
              "#fdca26"
             ],
             [
              1,
              "#f0f921"
             ]
            ],
            "type": "heatmap"
           }
          ],
          "heatmapgl": [
           {
            "colorbar": {
             "outlinewidth": 0,
             "ticks": ""
            },
            "colorscale": [
             [
              0,
              "#0d0887"
             ],
             [
              0.1111111111111111,
              "#46039f"
             ],
             [
              0.2222222222222222,
              "#7201a8"
             ],
             [
              0.3333333333333333,
              "#9c179e"
             ],
             [
              0.4444444444444444,
              "#bd3786"
             ],
             [
              0.5555555555555556,
              "#d8576b"
             ],
             [
              0.6666666666666666,
              "#ed7953"
             ],
             [
              0.7777777777777778,
              "#fb9f3a"
             ],
             [
              0.8888888888888888,
              "#fdca26"
             ],
             [
              1,
              "#f0f921"
             ]
            ],
            "type": "heatmapgl"
           }
          ],
          "histogram": [
           {
            "marker": {
             "pattern": {
              "fillmode": "overlay",
              "size": 10,
              "solidity": 0.2
             }
            },
            "type": "histogram"
           }
          ],
          "histogram2d": [
           {
            "colorbar": {
             "outlinewidth": 0,
             "ticks": ""
            },
            "colorscale": [
             [
              0,
              "#0d0887"
             ],
             [
              0.1111111111111111,
              "#46039f"
             ],
             [
              0.2222222222222222,
              "#7201a8"
             ],
             [
              0.3333333333333333,
              "#9c179e"
             ],
             [
              0.4444444444444444,
              "#bd3786"
             ],
             [
              0.5555555555555556,
              "#d8576b"
             ],
             [
              0.6666666666666666,
              "#ed7953"
             ],
             [
              0.7777777777777778,
              "#fb9f3a"
             ],
             [
              0.8888888888888888,
              "#fdca26"
             ],
             [
              1,
              "#f0f921"
             ]
            ],
            "type": "histogram2d"
           }
          ],
          "histogram2dcontour": [
           {
            "colorbar": {
             "outlinewidth": 0,
             "ticks": ""
            },
            "colorscale": [
             [
              0,
              "#0d0887"
             ],
             [
              0.1111111111111111,
              "#46039f"
             ],
             [
              0.2222222222222222,
              "#7201a8"
             ],
             [
              0.3333333333333333,
              "#9c179e"
             ],
             [
              0.4444444444444444,
              "#bd3786"
             ],
             [
              0.5555555555555556,
              "#d8576b"
             ],
             [
              0.6666666666666666,
              "#ed7953"
             ],
             [
              0.7777777777777778,
              "#fb9f3a"
             ],
             [
              0.8888888888888888,
              "#fdca26"
             ],
             [
              1,
              "#f0f921"
             ]
            ],
            "type": "histogram2dcontour"
           }
          ],
          "mesh3d": [
           {
            "colorbar": {
             "outlinewidth": 0,
             "ticks": ""
            },
            "type": "mesh3d"
           }
          ],
          "parcoords": [
           {
            "line": {
             "colorbar": {
              "outlinewidth": 0,
              "ticks": ""
             }
            },
            "type": "parcoords"
           }
          ],
          "pie": [
           {
            "automargin": true,
            "type": "pie"
           }
          ],
          "scatter": [
           {
            "fillpattern": {
             "fillmode": "overlay",
             "size": 10,
             "solidity": 0.2
            },
            "type": "scatter"
           }
          ],
          "scatter3d": [
           {
            "line": {
             "colorbar": {
              "outlinewidth": 0,
              "ticks": ""
             }
            },
            "marker": {
             "colorbar": {
              "outlinewidth": 0,
              "ticks": ""
             }
            },
            "type": "scatter3d"
           }
          ],
          "scattercarpet": [
           {
            "marker": {
             "colorbar": {
              "outlinewidth": 0,
              "ticks": ""
             }
            },
            "type": "scattercarpet"
           }
          ],
          "scattergeo": [
           {
            "marker": {
             "colorbar": {
              "outlinewidth": 0,
              "ticks": ""
             }
            },
            "type": "scattergeo"
           }
          ],
          "scattergl": [
           {
            "marker": {
             "colorbar": {
              "outlinewidth": 0,
              "ticks": ""
             }
            },
            "type": "scattergl"
           }
          ],
          "scattermapbox": [
           {
            "marker": {
             "colorbar": {
              "outlinewidth": 0,
              "ticks": ""
             }
            },
            "type": "scattermapbox"
           }
          ],
          "scatterpolar": [
           {
            "marker": {
             "colorbar": {
              "outlinewidth": 0,
              "ticks": ""
             }
            },
            "type": "scatterpolar"
           }
          ],
          "scatterpolargl": [
           {
            "marker": {
             "colorbar": {
              "outlinewidth": 0,
              "ticks": ""
             }
            },
            "type": "scatterpolargl"
           }
          ],
          "scatterternary": [
           {
            "marker": {
             "colorbar": {
              "outlinewidth": 0,
              "ticks": ""
             }
            },
            "type": "scatterternary"
           }
          ],
          "surface": [
           {
            "colorbar": {
             "outlinewidth": 0,
             "ticks": ""
            },
            "colorscale": [
             [
              0,
              "#0d0887"
             ],
             [
              0.1111111111111111,
              "#46039f"
             ],
             [
              0.2222222222222222,
              "#7201a8"
             ],
             [
              0.3333333333333333,
              "#9c179e"
             ],
             [
              0.4444444444444444,
              "#bd3786"
             ],
             [
              0.5555555555555556,
              "#d8576b"
             ],
             [
              0.6666666666666666,
              "#ed7953"
             ],
             [
              0.7777777777777778,
              "#fb9f3a"
             ],
             [
              0.8888888888888888,
              "#fdca26"
             ],
             [
              1,
              "#f0f921"
             ]
            ],
            "type": "surface"
           }
          ],
          "table": [
           {
            "cells": {
             "fill": {
              "color": "#EBF0F8"
             },
             "line": {
              "color": "white"
             }
            },
            "header": {
             "fill": {
              "color": "#C8D4E3"
             },
             "line": {
              "color": "white"
             }
            },
            "type": "table"
           }
          ]
         },
         "layout": {
          "annotationdefaults": {
           "arrowcolor": "#2a3f5f",
           "arrowhead": 0,
           "arrowwidth": 1
          },
          "autotypenumbers": "strict",
          "coloraxis": {
           "colorbar": {
            "outlinewidth": 0,
            "ticks": ""
           }
          },
          "colorscale": {
           "diverging": [
            [
             0,
             "#8e0152"
            ],
            [
             0.1,
             "#c51b7d"
            ],
            [
             0.2,
             "#de77ae"
            ],
            [
             0.3,
             "#f1b6da"
            ],
            [
             0.4,
             "#fde0ef"
            ],
            [
             0.5,
             "#f7f7f7"
            ],
            [
             0.6,
             "#e6f5d0"
            ],
            [
             0.7,
             "#b8e186"
            ],
            [
             0.8,
             "#7fbc41"
            ],
            [
             0.9,
             "#4d9221"
            ],
            [
             1,
             "#276419"
            ]
           ],
           "sequential": [
            [
             0,
             "#0d0887"
            ],
            [
             0.1111111111111111,
             "#46039f"
            ],
            [
             0.2222222222222222,
             "#7201a8"
            ],
            [
             0.3333333333333333,
             "#9c179e"
            ],
            [
             0.4444444444444444,
             "#bd3786"
            ],
            [
             0.5555555555555556,
             "#d8576b"
            ],
            [
             0.6666666666666666,
             "#ed7953"
            ],
            [
             0.7777777777777778,
             "#fb9f3a"
            ],
            [
             0.8888888888888888,
             "#fdca26"
            ],
            [
             1,
             "#f0f921"
            ]
           ],
           "sequentialminus": [
            [
             0,
             "#0d0887"
            ],
            [
             0.1111111111111111,
             "#46039f"
            ],
            [
             0.2222222222222222,
             "#7201a8"
            ],
            [
             0.3333333333333333,
             "#9c179e"
            ],
            [
             0.4444444444444444,
             "#bd3786"
            ],
            [
             0.5555555555555556,
             "#d8576b"
            ],
            [
             0.6666666666666666,
             "#ed7953"
            ],
            [
             0.7777777777777778,
             "#fb9f3a"
            ],
            [
             0.8888888888888888,
             "#fdca26"
            ],
            [
             1,
             "#f0f921"
            ]
           ]
          },
          "colorway": [
           "#636efa",
           "#EF553B",
           "#00cc96",
           "#ab63fa",
           "#FFA15A",
           "#19d3f3",
           "#FF6692",
           "#B6E880",
           "#FF97FF",
           "#FECB52"
          ],
          "font": {
           "color": "#2a3f5f"
          },
          "geo": {
           "bgcolor": "white",
           "lakecolor": "white",
           "landcolor": "#E5ECF6",
           "showlakes": true,
           "showland": true,
           "subunitcolor": "white"
          },
          "hoverlabel": {
           "align": "left"
          },
          "hovermode": "closest",
          "mapbox": {
           "style": "light"
          },
          "paper_bgcolor": "white",
          "plot_bgcolor": "#E5ECF6",
          "polar": {
           "angularaxis": {
            "gridcolor": "white",
            "linecolor": "white",
            "ticks": ""
           },
           "bgcolor": "#E5ECF6",
           "radialaxis": {
            "gridcolor": "white",
            "linecolor": "white",
            "ticks": ""
           }
          },
          "scene": {
           "xaxis": {
            "backgroundcolor": "#E5ECF6",
            "gridcolor": "white",
            "gridwidth": 2,
            "linecolor": "white",
            "showbackground": true,
            "ticks": "",
            "zerolinecolor": "white"
           },
           "yaxis": {
            "backgroundcolor": "#E5ECF6",
            "gridcolor": "white",
            "gridwidth": 2,
            "linecolor": "white",
            "showbackground": true,
            "ticks": "",
            "zerolinecolor": "white"
           },
           "zaxis": {
            "backgroundcolor": "#E5ECF6",
            "gridcolor": "white",
            "gridwidth": 2,
            "linecolor": "white",
            "showbackground": true,
            "ticks": "",
            "zerolinecolor": "white"
           }
          },
          "shapedefaults": {
           "line": {
            "color": "#2a3f5f"
           }
          },
          "ternary": {
           "aaxis": {
            "gridcolor": "white",
            "linecolor": "white",
            "ticks": ""
           },
           "baxis": {
            "gridcolor": "white",
            "linecolor": "white",
            "ticks": ""
           },
           "bgcolor": "#E5ECF6",
           "caxis": {
            "gridcolor": "white",
            "linecolor": "white",
            "ticks": ""
           }
          },
          "title": {
           "x": 0.05
          },
          "xaxis": {
           "automargin": true,
           "gridcolor": "white",
           "linecolor": "white",
           "ticks": "",
           "title": {
            "standoff": 15
           },
           "zerolinecolor": "white",
           "zerolinewidth": 2
          },
          "yaxis": {
           "automargin": true,
           "gridcolor": "white",
           "linecolor": "white",
           "ticks": "",
           "title": {
            "standoff": 15
           },
           "zerolinecolor": "white",
           "zerolinewidth": 2
          }
         }
        },
        "title": {
         "text": "Unique Daily Visits per Hour"
        },
        "xaxis": {
         "ticktext": [
          "0",
          "1",
          "2",
          "3",
          "4",
          "5",
          "6",
          "7",
          "8",
          "9",
          "10",
          "11",
          "12",
          "13",
          "14",
          "15",
          "16",
          "17",
          "18",
          "19",
          "20",
          "21",
          "22",
          "23"
         ],
         "tickvals": [
          0,
          1,
          2,
          3,
          4,
          5,
          6,
          7,
          8,
          9,
          10,
          11,
          12,
          13,
          14,
          15,
          16,
          17,
          18,
          19,
          20,
          21,
          22,
          23
         ],
         "title": {
          "text": "Hour of the Day"
         }
        },
        "yaxis": {
         "title": {
          "text": "Number of Unique Daily Visits"
         }
        }
       }
      },
      "text/html": [
       "<div>                            <div id=\"fcfc9fec-08aa-4dee-93d7-1ba2d618b6c9\" class=\"plotly-graph-div\" style=\"height:1200px; width:100%;\"></div>            <script type=\"text/javascript\">                require([\"plotly\"], function(Plotly) {                    window.PLOTLYENV=window.PLOTLYENV || {};                                    if (document.getElementById(\"fcfc9fec-08aa-4dee-93d7-1ba2d618b6c9\")) {                    Plotly.newPlot(                        \"fcfc9fec-08aa-4dee-93d7-1ba2d618b6c9\",                        [{\"marker\":{\"color\":\"red\"},\"name\":\"\\uc77c\",\"text\":[\"103 visits<br>(1.04%)\",\"78 visits<br>(0.79%)\",\"39 visits<br>(0.40%)\",\"36 visits<br>(0.36%)\",\"29 visits<br>(0.29%)\",\"23 visits<br>(0.23%)\",\"24 visits<br>(0.24%)\",\"24 visits<br>(0.24%)\",\"52 visits<br>(0.53%)\",\"69 visits<br>(0.70%)\",\"69 visits<br>(0.70%)\",\"86 visits<br>(0.87%)\",\"81 visits<br>(0.82%)\",\"77 visits<br>(0.78%)\",\"66 visits<br>(0.67%)\",\"55 visits<br>(0.56%)\",\"71 visits<br>(0.72%)\",\"65 visits<br>(0.66%)\",\"56 visits<br>(0.57%)\",\"59 visits<br>(0.60%)\",\"51 visits<br>(0.52%)\",\"58 visits<br>(0.59%)\",\"43 visits<br>(0.44%)\",\"10 visits<br>(0.10%)\"],\"textposition\":\"auto\",\"x\":[0,1,2,3,4,5,6,7,8,9,10,11,12,13,14,15,16,17,18,19,20,21,22,23],\"y\":[103,78,39,36,29,23,24,24,52,69,69,86,81,77,66,55,71,65,56,59,51,58,43,10],\"type\":\"bar\"},{\"marker\":{\"color\":\"orange\"},\"name\":\"\\uc6d4\",\"text\":[\"101 visits<br>(1.02%)\",\"53 visits<br>(0.54%)\",\"43 visits<br>(0.44%)\",\"14 visits<br>(0.14%)\",\"16 visits<br>(0.16%)\",\"19 visits<br>(0.19%)\",\"27 visits<br>(0.27%)\",\"46 visits<br>(0.47%)\",\"62 visits<br>(0.63%)\",\"59 visits<br>(0.60%)\",\"50 visits<br>(0.51%)\",\"44 visits<br>(0.45%)\",\"49 visits<br>(0.50%)\",\"45 visits<br>(0.46%)\",\"61 visits<br>(0.62%)\",\"58 visits<br>(0.59%)\",\"104 visits<br>(1.05%)\",\"146 visits<br>(1.48%)\",\"156 visits<br>(1.58%)\",\"91 visits<br>(0.92%)\",\"101 visits<br>(1.02%)\",\"156 visits<br>(1.58%)\",\"179 visits<br>(1.81%)\",\"123 visits<br>(1.25%)\"],\"textposition\":\"auto\",\"x\":[0,1,2,3,4,5,6,7,8,9,10,11,12,13,14,15,16,17,18,19,20,21,22,23],\"y\":[101,53,43,14,16,19,27,46,62,59,50,44,49,45,61,58,104,146,156,91,101,156,179,123],\"type\":\"bar\"},{\"marker\":{\"color\":\"yellow\"},\"name\":\"\\ud654\",\"text\":[\"158 visits<br>(1.60%)\",\"88 visits<br>(0.89%)\",\"57 visits<br>(0.58%)\",\"32 visits<br>(0.32%)\",\"23 visits<br>(0.23%)\",\"23 visits<br>(0.23%)\",\"49 visits<br>(0.50%)\",\"59 visits<br>(0.60%)\",\"98 visits<br>(0.99%)\",\"76 visits<br>(0.77%)\",\"93 visits<br>(0.94%)\",\"83 visits<br>(0.84%)\",\"101 visits<br>(1.02%)\",\"97 visits<br>(0.98%)\",\"79 visits<br>(0.80%)\",\"97 visits<br>(0.98%)\",\"74 visits<br>(0.75%)\",\"77 visits<br>(0.78%)\",\"115 visits<br>(1.17%)\",\"87 visits<br>(0.88%)\",\"81 visits<br>(0.82%)\",\"77 visits<br>(0.78%)\",\"77 visits<br>(0.78%)\",\"96 visits<br>(0.97%)\"],\"textposition\":\"auto\",\"x\":[0,1,2,3,4,5,6,7,8,9,10,11,12,13,14,15,16,17,18,19,20,21,22,23],\"y\":[158,88,57,32,23,23,49,59,98,76,93,83,101,97,79,97,74,77,115,87,81,77,77,96],\"type\":\"bar\"},{\"marker\":{\"color\":\"green\"},\"name\":\"\\uc218\",\"text\":[\"101 visits<br>(1.02%)\",\"66 visits<br>(0.67%)\",\"30 visits<br>(0.30%)\",\"31 visits<br>(0.31%)\",\"15 visits<br>(0.15%)\",\"27 visits<br>(0.27%)\",\"39 visits<br>(0.40%)\",\"48 visits<br>(0.49%)\",\"72 visits<br>(0.73%)\",\"61 visits<br>(0.62%)\",\"76 visits<br>(0.77%)\",\"51 visits<br>(0.52%)\",\"60 visits<br>(0.61%)\",\"68 visits<br>(0.69%)\",\"61 visits<br>(0.62%)\",\"73 visits<br>(0.74%)\",\"64 visits<br>(0.65%)\",\"43 visits<br>(0.44%)\",\"68 visits<br>(0.69%)\",\"33 visits<br>(0.33%)\",\"51 visits<br>(0.52%)\",\"49 visits<br>(0.50%)\",\"38 visits<br>(0.39%)\",\"62 visits<br>(0.63%)\"],\"textposition\":\"auto\",\"x\":[0,1,2,3,4,5,6,7,8,9,10,11,12,13,14,15,16,17,18,19,20,21,22,23],\"y\":[101,66,30,31,15,27,39,48,72,61,76,51,60,68,61,73,64,43,68,33,51,49,38,62],\"type\":\"bar\"},{\"marker\":{\"color\":\"blue\"},\"name\":\"\\ubaa9\",\"text\":[\"73 visits<br>(0.74%)\",\"46 visits<br>(0.47%)\",\"17 visits<br>(0.17%)\",\"18 visits<br>(0.18%)\",\"15 visits<br>(0.15%)\",\"8 visits<br>(0.08%)\",\"22 visits<br>(0.22%)\",\"25 visits<br>(0.25%)\",\"40 visits<br>(0.41%)\",\"50 visits<br>(0.51%)\",\"46 visits<br>(0.47%)\",\"49 visits<br>(0.50%)\",\"57 visits<br>(0.58%)\",\"54 visits<br>(0.55%)\",\"59 visits<br>(0.60%)\",\"59 visits<br>(0.60%)\",\"76 visits<br>(0.77%)\",\"41 visits<br>(0.42%)\",\"78 visits<br>(0.79%)\",\"67 visits<br>(0.68%)\",\"56 visits<br>(0.57%)\",\"65 visits<br>(0.66%)\",\"60 visits<br>(0.61%)\",\"66 visits<br>(0.67%)\"],\"textposition\":\"auto\",\"x\":[0,1,2,3,4,5,6,7,8,9,10,11,12,13,14,15,16,17,18,19,20,21,22,23],\"y\":[73,46,17,18,15,8,22,25,40,50,46,49,57,54,59,59,76,41,78,67,56,65,60,66],\"type\":\"bar\"},{\"marker\":{\"color\":\"indigo\"},\"name\":\"\\uae08\",\"text\":[\"68 visits<br>(0.69%)\",\"50 visits<br>(0.51%)\",\"43 visits<br>(0.44%)\",\"20 visits<br>(0.20%)\",\"27 visits<br>(0.27%)\",\"10 visits<br>(0.10%)\",\"21 visits<br>(0.21%)\",\"58 visits<br>(0.59%)\",\"60 visits<br>(0.61%)\",\"60 visits<br>(0.61%)\",\"51 visits<br>(0.52%)\",\"39 visits<br>(0.40%)\",\"66 visits<br>(0.67%)\",\"39 visits<br>(0.40%)\",\"58 visits<br>(0.59%)\",\"62 visits<br>(0.63%)\",\"82 visits<br>(0.83%)\",\"97 visits<br>(0.98%)\",\"62 visits<br>(0.63%)\",\"75 visits<br>(0.76%)\",\"62 visits<br>(0.63%)\",\"55 visits<br>(0.56%)\",\"53 visits<br>(0.54%)\",\"36 visits<br>(0.36%)\"],\"textposition\":\"auto\",\"x\":[0,1,2,3,4,5,6,7,8,9,10,11,12,13,14,15,16,17,18,19,20,21,22,23],\"y\":[68,50,43,20,27,10,21,58,60,60,51,39,66,39,58,62,82,97,62,75,62,55,53,36],\"type\":\"bar\"},{\"marker\":{\"color\":\"violet\"},\"name\":\"\\ud1a0\",\"text\":[\"85 visits<br>(0.86%)\",\"73 visits<br>(0.74%)\",\"34 visits<br>(0.34%)\",\"21 visits<br>(0.21%)\",\"28 visits<br>(0.28%)\",\"16 visits<br>(0.16%)\",\"25 visits<br>(0.25%)\",\"43 visits<br>(0.44%)\",\"54 visits<br>(0.55%)\",\"60 visits<br>(0.61%)\",\"40 visits<br>(0.41%)\",\"57 visits<br>(0.58%)\",\"68 visits<br>(0.69%)\",\"54 visits<br>(0.55%)\",\"49 visits<br>(0.50%)\",\"50 visits<br>(0.51%)\",\"53 visits<br>(0.54%)\",\"45 visits<br>(0.46%)\",\"47 visits<br>(0.48%)\",\"53 visits<br>(0.54%)\",\"60 visits<br>(0.61%)\",\"69 visits<br>(0.70%)\",\"54 visits<br>(0.55%)\",\"20 visits<br>(0.20%)\"],\"textposition\":\"auto\",\"x\":[0,1,2,3,4,5,6,7,8,9,10,11,12,13,14,15,16,17,18,19,20,21,22,23],\"y\":[85,73,34,21,28,16,25,43,54,60,40,57,68,54,49,50,53,45,47,53,60,69,54,20],\"type\":\"bar\"}],                        {\"template\":{\"data\":{\"histogram2dcontour\":[{\"type\":\"histogram2dcontour\",\"colorbar\":{\"outlinewidth\":0,\"ticks\":\"\"},\"colorscale\":[[0.0,\"#0d0887\"],[0.1111111111111111,\"#46039f\"],[0.2222222222222222,\"#7201a8\"],[0.3333333333333333,\"#9c179e\"],[0.4444444444444444,\"#bd3786\"],[0.5555555555555556,\"#d8576b\"],[0.6666666666666666,\"#ed7953\"],[0.7777777777777778,\"#fb9f3a\"],[0.8888888888888888,\"#fdca26\"],[1.0,\"#f0f921\"]]}],\"choropleth\":[{\"type\":\"choropleth\",\"colorbar\":{\"outlinewidth\":0,\"ticks\":\"\"}}],\"histogram2d\":[{\"type\":\"histogram2d\",\"colorbar\":{\"outlinewidth\":0,\"ticks\":\"\"},\"colorscale\":[[0.0,\"#0d0887\"],[0.1111111111111111,\"#46039f\"],[0.2222222222222222,\"#7201a8\"],[0.3333333333333333,\"#9c179e\"],[0.4444444444444444,\"#bd3786\"],[0.5555555555555556,\"#d8576b\"],[0.6666666666666666,\"#ed7953\"],[0.7777777777777778,\"#fb9f3a\"],[0.8888888888888888,\"#fdca26\"],[1.0,\"#f0f921\"]]}],\"heatmap\":[{\"type\":\"heatmap\",\"colorbar\":{\"outlinewidth\":0,\"ticks\":\"\"},\"colorscale\":[[0.0,\"#0d0887\"],[0.1111111111111111,\"#46039f\"],[0.2222222222222222,\"#7201a8\"],[0.3333333333333333,\"#9c179e\"],[0.4444444444444444,\"#bd3786\"],[0.5555555555555556,\"#d8576b\"],[0.6666666666666666,\"#ed7953\"],[0.7777777777777778,\"#fb9f3a\"],[0.8888888888888888,\"#fdca26\"],[1.0,\"#f0f921\"]]}],\"heatmapgl\":[{\"type\":\"heatmapgl\",\"colorbar\":{\"outlinewidth\":0,\"ticks\":\"\"},\"colorscale\":[[0.0,\"#0d0887\"],[0.1111111111111111,\"#46039f\"],[0.2222222222222222,\"#7201a8\"],[0.3333333333333333,\"#9c179e\"],[0.4444444444444444,\"#bd3786\"],[0.5555555555555556,\"#d8576b\"],[0.6666666666666666,\"#ed7953\"],[0.7777777777777778,\"#fb9f3a\"],[0.8888888888888888,\"#fdca26\"],[1.0,\"#f0f921\"]]}],\"contourcarpet\":[{\"type\":\"contourcarpet\",\"colorbar\":{\"outlinewidth\":0,\"ticks\":\"\"}}],\"contour\":[{\"type\":\"contour\",\"colorbar\":{\"outlinewidth\":0,\"ticks\":\"\"},\"colorscale\":[[0.0,\"#0d0887\"],[0.1111111111111111,\"#46039f\"],[0.2222222222222222,\"#7201a8\"],[0.3333333333333333,\"#9c179e\"],[0.4444444444444444,\"#bd3786\"],[0.5555555555555556,\"#d8576b\"],[0.6666666666666666,\"#ed7953\"],[0.7777777777777778,\"#fb9f3a\"],[0.8888888888888888,\"#fdca26\"],[1.0,\"#f0f921\"]]}],\"surface\":[{\"type\":\"surface\",\"colorbar\":{\"outlinewidth\":0,\"ticks\":\"\"},\"colorscale\":[[0.0,\"#0d0887\"],[0.1111111111111111,\"#46039f\"],[0.2222222222222222,\"#7201a8\"],[0.3333333333333333,\"#9c179e\"],[0.4444444444444444,\"#bd3786\"],[0.5555555555555556,\"#d8576b\"],[0.6666666666666666,\"#ed7953\"],[0.7777777777777778,\"#fb9f3a\"],[0.8888888888888888,\"#fdca26\"],[1.0,\"#f0f921\"]]}],\"mesh3d\":[{\"type\":\"mesh3d\",\"colorbar\":{\"outlinewidth\":0,\"ticks\":\"\"}}],\"scatter\":[{\"fillpattern\":{\"fillmode\":\"overlay\",\"size\":10,\"solidity\":0.2},\"type\":\"scatter\"}],\"parcoords\":[{\"type\":\"parcoords\",\"line\":{\"colorbar\":{\"outlinewidth\":0,\"ticks\":\"\"}}}],\"scatterpolargl\":[{\"type\":\"scatterpolargl\",\"marker\":{\"colorbar\":{\"outlinewidth\":0,\"ticks\":\"\"}}}],\"bar\":[{\"error_x\":{\"color\":\"#2a3f5f\"},\"error_y\":{\"color\":\"#2a3f5f\"},\"marker\":{\"line\":{\"color\":\"#E5ECF6\",\"width\":0.5},\"pattern\":{\"fillmode\":\"overlay\",\"size\":10,\"solidity\":0.2}},\"type\":\"bar\"}],\"scattergeo\":[{\"type\":\"scattergeo\",\"marker\":{\"colorbar\":{\"outlinewidth\":0,\"ticks\":\"\"}}}],\"scatterpolar\":[{\"type\":\"scatterpolar\",\"marker\":{\"colorbar\":{\"outlinewidth\":0,\"ticks\":\"\"}}}],\"histogram\":[{\"marker\":{\"pattern\":{\"fillmode\":\"overlay\",\"size\":10,\"solidity\":0.2}},\"type\":\"histogram\"}],\"scattergl\":[{\"type\":\"scattergl\",\"marker\":{\"colorbar\":{\"outlinewidth\":0,\"ticks\":\"\"}}}],\"scatter3d\":[{\"type\":\"scatter3d\",\"line\":{\"colorbar\":{\"outlinewidth\":0,\"ticks\":\"\"}},\"marker\":{\"colorbar\":{\"outlinewidth\":0,\"ticks\":\"\"}}}],\"scattermapbox\":[{\"type\":\"scattermapbox\",\"marker\":{\"colorbar\":{\"outlinewidth\":0,\"ticks\":\"\"}}}],\"scatterternary\":[{\"type\":\"scatterternary\",\"marker\":{\"colorbar\":{\"outlinewidth\":0,\"ticks\":\"\"}}}],\"scattercarpet\":[{\"type\":\"scattercarpet\",\"marker\":{\"colorbar\":{\"outlinewidth\":0,\"ticks\":\"\"}}}],\"carpet\":[{\"aaxis\":{\"endlinecolor\":\"#2a3f5f\",\"gridcolor\":\"white\",\"linecolor\":\"white\",\"minorgridcolor\":\"white\",\"startlinecolor\":\"#2a3f5f\"},\"baxis\":{\"endlinecolor\":\"#2a3f5f\",\"gridcolor\":\"white\",\"linecolor\":\"white\",\"minorgridcolor\":\"white\",\"startlinecolor\":\"#2a3f5f\"},\"type\":\"carpet\"}],\"table\":[{\"cells\":{\"fill\":{\"color\":\"#EBF0F8\"},\"line\":{\"color\":\"white\"}},\"header\":{\"fill\":{\"color\":\"#C8D4E3\"},\"line\":{\"color\":\"white\"}},\"type\":\"table\"}],\"barpolar\":[{\"marker\":{\"line\":{\"color\":\"#E5ECF6\",\"width\":0.5},\"pattern\":{\"fillmode\":\"overlay\",\"size\":10,\"solidity\":0.2}},\"type\":\"barpolar\"}],\"pie\":[{\"automargin\":true,\"type\":\"pie\"}]},\"layout\":{\"autotypenumbers\":\"strict\",\"colorway\":[\"#636efa\",\"#EF553B\",\"#00cc96\",\"#ab63fa\",\"#FFA15A\",\"#19d3f3\",\"#FF6692\",\"#B6E880\",\"#FF97FF\",\"#FECB52\"],\"font\":{\"color\":\"#2a3f5f\"},\"hovermode\":\"closest\",\"hoverlabel\":{\"align\":\"left\"},\"paper_bgcolor\":\"white\",\"plot_bgcolor\":\"#E5ECF6\",\"polar\":{\"bgcolor\":\"#E5ECF6\",\"angularaxis\":{\"gridcolor\":\"white\",\"linecolor\":\"white\",\"ticks\":\"\"},\"radialaxis\":{\"gridcolor\":\"white\",\"linecolor\":\"white\",\"ticks\":\"\"}},\"ternary\":{\"bgcolor\":\"#E5ECF6\",\"aaxis\":{\"gridcolor\":\"white\",\"linecolor\":\"white\",\"ticks\":\"\"},\"baxis\":{\"gridcolor\":\"white\",\"linecolor\":\"white\",\"ticks\":\"\"},\"caxis\":{\"gridcolor\":\"white\",\"linecolor\":\"white\",\"ticks\":\"\"}},\"coloraxis\":{\"colorbar\":{\"outlinewidth\":0,\"ticks\":\"\"}},\"colorscale\":{\"sequential\":[[0.0,\"#0d0887\"],[0.1111111111111111,\"#46039f\"],[0.2222222222222222,\"#7201a8\"],[0.3333333333333333,\"#9c179e\"],[0.4444444444444444,\"#bd3786\"],[0.5555555555555556,\"#d8576b\"],[0.6666666666666666,\"#ed7953\"],[0.7777777777777778,\"#fb9f3a\"],[0.8888888888888888,\"#fdca26\"],[1.0,\"#f0f921\"]],\"sequentialminus\":[[0.0,\"#0d0887\"],[0.1111111111111111,\"#46039f\"],[0.2222222222222222,\"#7201a8\"],[0.3333333333333333,\"#9c179e\"],[0.4444444444444444,\"#bd3786\"],[0.5555555555555556,\"#d8576b\"],[0.6666666666666666,\"#ed7953\"],[0.7777777777777778,\"#fb9f3a\"],[0.8888888888888888,\"#fdca26\"],[1.0,\"#f0f921\"]],\"diverging\":[[0,\"#8e0152\"],[0.1,\"#c51b7d\"],[0.2,\"#de77ae\"],[0.3,\"#f1b6da\"],[0.4,\"#fde0ef\"],[0.5,\"#f7f7f7\"],[0.6,\"#e6f5d0\"],[0.7,\"#b8e186\"],[0.8,\"#7fbc41\"],[0.9,\"#4d9221\"],[1,\"#276419\"]]},\"xaxis\":{\"gridcolor\":\"white\",\"linecolor\":\"white\",\"ticks\":\"\",\"title\":{\"standoff\":15},\"zerolinecolor\":\"white\",\"automargin\":true,\"zerolinewidth\":2},\"yaxis\":{\"gridcolor\":\"white\",\"linecolor\":\"white\",\"ticks\":\"\",\"title\":{\"standoff\":15},\"zerolinecolor\":\"white\",\"automargin\":true,\"zerolinewidth\":2},\"scene\":{\"xaxis\":{\"backgroundcolor\":\"#E5ECF6\",\"gridcolor\":\"white\",\"linecolor\":\"white\",\"showbackground\":true,\"ticks\":\"\",\"zerolinecolor\":\"white\",\"gridwidth\":2},\"yaxis\":{\"backgroundcolor\":\"#E5ECF6\",\"gridcolor\":\"white\",\"linecolor\":\"white\",\"showbackground\":true,\"ticks\":\"\",\"zerolinecolor\":\"white\",\"gridwidth\":2},\"zaxis\":{\"backgroundcolor\":\"#E5ECF6\",\"gridcolor\":\"white\",\"linecolor\":\"white\",\"showbackground\":true,\"ticks\":\"\",\"zerolinecolor\":\"white\",\"gridwidth\":2}},\"shapedefaults\":{\"line\":{\"color\":\"#2a3f5f\"}},\"annotationdefaults\":{\"arrowcolor\":\"#2a3f5f\",\"arrowhead\":0,\"arrowwidth\":1},\"geo\":{\"bgcolor\":\"white\",\"landcolor\":\"#E5ECF6\",\"subunitcolor\":\"white\",\"showland\":true,\"showlakes\":true,\"lakecolor\":\"white\"},\"title\":{\"x\":0.05},\"mapbox\":{\"style\":\"light\"}}},\"xaxis\":{\"title\":{\"text\":\"Hour of the Day\"},\"tickvals\":[0,1,2,3,4,5,6,7,8,9,10,11,12,13,14,15,16,17,18,19,20,21,22,23],\"ticktext\":[\"0\",\"1\",\"2\",\"3\",\"4\",\"5\",\"6\",\"7\",\"8\",\"9\",\"10\",\"11\",\"12\",\"13\",\"14\",\"15\",\"16\",\"17\",\"18\",\"19\",\"20\",\"21\",\"22\",\"23\"]},\"title\":{\"text\":\"Unique Daily Visits per Hour\"},\"yaxis\":{\"title\":{\"text\":\"Number of Unique Daily Visits\"}},\"barmode\":\"stack\",\"height\":1200},                        {\"responsive\": true}                    ).then(function(){\n",
       "                            \n",
       "var gd = document.getElementById('fcfc9fec-08aa-4dee-93d7-1ba2d618b6c9');\n",
       "var x = new MutationObserver(function (mutations, observer) {{\n",
       "        var display = window.getComputedStyle(gd).display;\n",
       "        if (!display || display === 'none') {{\n",
       "            console.log([gd, 'removed!']);\n",
       "            Plotly.purge(gd);\n",
       "            observer.disconnect();\n",
       "        }}\n",
       "}});\n",
       "\n",
       "// Listen for the removal of the full notebook cells\n",
       "var notebookContainer = gd.closest('#notebook-container');\n",
       "if (notebookContainer) {{\n",
       "    x.observe(notebookContainer, {childList: true});\n",
       "}}\n",
       "\n",
       "// Listen for the clearing of the current output cell\n",
       "var outputEl = gd.closest('.output');\n",
       "if (outputEl) {{\n",
       "    x.observe(outputEl, {childList: true});\n",
       "}}\n",
       "\n",
       "                        })                };                });            </script>        </div>"
      ]
     },
     "metadata": {},
     "output_type": "display_data"
    }
   ],
   "source": [
    "import gspread\n",
    "from oauth2client.service_account import ServiceAccountCredentials\n",
    "import mysql.connector\n",
    "import datetime\n",
    "from gspread_formatting import *\n",
    "import re\n",
    "from user_agents import parse as ua_parse\n",
    "import json\n",
    "from decimal import Decimal\n",
    "import pandas as pd\n",
    "import plotly.express as px\n",
    "import numpy as np\n",
    "import plotly.graph_objects as go\n",
    "\n",
    "from plotly.subplots import make_subplots\n",
    "\n",
    "\n",
    "def day_of_week_korean(day_num):\n",
    "    \"\"\"\n",
    "    Convert a day number (1-7) to its Korean representation.\n",
    "    Note: MySQL's DAYOFWEEK() function considers 1 as Sunday and 7 as Saturday.\n",
    "    \"\"\"\n",
    "    days_korean = {\n",
    "        1: \"일\",  # Sunday\n",
    "        2: \"월\",  # Monday\n",
    "        3: \"화\",  # Tuesday\n",
    "        4: \"수\",  # Wednesday\n",
    "        5: \"목\",  # Thursday\n",
    "        6: \"금\",  # Friday\n",
    "        7: \"토\"   # Saturday\n",
    "    }\n",
    "    return days_korean.get(day_num, \"\")\n",
    "\n",
    "\n",
    "def fetch_visit_data():\n",
    "\n",
    "\n",
    "    # Connect to MySQL\n",
    "    connection = mysql.connector.connect(**mysql_config)\n",
    "    cursor = connection.cursor()\n",
    "\n",
    "    # Query to fetch customer list\n",
    "    sql = \"\"\"\n",
    "        SELECT\n",
    "            visit_hour,\n",
    "            day_of_week,\n",
    "            COUNT(ip) AS unique_daily_visits\n",
    "        FROM (\n",
    "            SELECT\n",
    "                ip,\n",
    "                HOUR(CONVERT_TZ(FROM_UNIXTIME(dt), '+00:00', '-09:00')) as visit_hour,\n",
    "                DATE_FORMAT(CONVERT_TZ(FROM_UNIXTIME(dt), '+00:00', '-09:00'), '%Y-%m-%d') AS visit_date,\n",
    "                DAYOFWEEK(CONVERT_TZ(FROM_UNIXTIME(dt), '+00:00', '-09:00')) as day_of_week\n",
    "            FROM wp_slim_stats\n",
    "            GROUP BY ip, visit_date\n",
    "        ) AS UniqueDailyVisitors\n",
    "        GROUP BY visit_hour, day_of_week;\n",
    "    \"\"\"\n",
    "    # Execute the query and fetch the result into a pandas DataFrame\n",
    "    data = pd.read_sql_query(sql, connection)\n",
    "    # Close the database connection\n",
    "    connection.close()\n",
    "    return data\n",
    "\n",
    "\n",
    "data = fetch_visit_data()\n",
    "\n",
    "x_axis_labels = list(range(24))  # Hour labels for x axis\n",
    "\n",
    "total_visits = data['unique_daily_visits'].sum()\n",
    "\n",
    "\n",
    "colors = ['red', 'orange', 'yellow', 'green', 'blue', 'indigo', 'violet']\n",
    "\n",
    "# Create a bar chart\n",
    "fig = go.Figure()\n",
    "\n",
    "for day in range(1, 8):  # Assuming 1 is Sunday and 7 is Saturday as per MySQL's DAYOFWEEK()\n",
    "    subset = data[data['day_of_week'] == day]\n",
    "    fig.add_trace(go.Bar(\n",
    "        x=subset['visit_hour'],\n",
    "        y=subset['unique_daily_visits'],\n",
    "        name=day_of_week_korean(day),  # or replace with actual day names\n",
    "        marker_color=colors[day - 1],\n",
    "        # text=[f\"{hour}시<br>{count} visits<br>({count/total_visits:.2%})\" for hour, count in zip(subset['visit_hour'], subset['unique_daily_visits'])],\n",
    "        text=[f\"{count} visits<br>({count/total_visits:.2%})\" for hour, count in zip(subset['visit_hour'], subset['unique_daily_visits'])],\n",
    "        textposition='auto'\n",
    "    ))\n",
    "\n",
    "\n",
    "fig.update_layout(\n",
    "    title=\"Unique Daily Visits per Hour\",\n",
    "    xaxis=dict(\n",
    "        title=\"Hour of the Day\",\n",
    "        tickvals=x_axis_labels,\n",
    "        ticktext=[str(i) for i in x_axis_labels]\n",
    "    ),\n",
    "    yaxis=dict(title=\"Number of Unique Daily Visits\"),\n",
    "    barmode='stack', height=1200\n",
    ")\n",
    "\n",
    "# Show the plot\n",
    "fig.show()"
   ]
  },
  {
   "cell_type": "code",
   "execution_count": 125,
   "metadata": {},
   "outputs": [
    {
     "name": "stderr",
     "output_type": "stream",
     "text": [
      "/tmp/ipykernel_2111613/3134829014.py:2: FutureWarning:\n",
      "\n",
      "In a future version of pandas all arguments of DataFrame.pivot will be keyword-only.\n",
      "\n"
     ]
    },
    {
     "data": {
      "application/vnd.plotly.v1+json": {
       "config": {
        "plotlyServerURL": "https://plot.ly"
       },
       "data": [
        {
         "colorbar": {
          "title": {
           "text": "Unique Visits"
          }
         },
         "colorscale": [
          [
           0,
           "#440154"
          ],
          [
           0.1111111111111111,
           "#482878"
          ],
          [
           0.2222222222222222,
           "#3e4989"
          ],
          [
           0.3333333333333333,
           "#31688e"
          ],
          [
           0.4444444444444444,
           "#26828e"
          ],
          [
           0.5555555555555556,
           "#1f9e89"
          ],
          [
           0.6666666666666666,
           "#35b779"
          ],
          [
           0.7777777777777778,
           "#6ece58"
          ],
          [
           0.8888888888888888,
           "#b5de2b"
          ],
          [
           1,
           "#fde725"
          ]
         ],
         "hoverinfo": "text",
         "text": [
          [
           "103 visits<br> 0시",
           "78 visits<br> 1시",
           "39 visits<br> 2시",
           "36 visits<br> 3시",
           "29 visits<br> 4시",
           "23 visits<br> 5시",
           "24 visits<br> 6시",
           "24 visits<br> 7시",
           "52 visits<br> 8시",
           "69 visits<br> 9시",
           "69 visits<br> 10시",
           "86 visits<br> 11시",
           "81 visits<br> 12시",
           "77 visits<br> 13시",
           "66 visits<br> 14시",
           "55 visits<br> 15시",
           "71 visits<br> 16시",
           "65 visits<br> 17시",
           "56 visits<br> 18시",
           "59 visits<br> 19시",
           "51 visits<br> 20시",
           "58 visits<br> 21시",
           "43 visits<br> 22시",
           "10 visits<br> 23시"
          ],
          [
           "101 visits<br>월 0시",
           "53 visits<br>월 1시",
           "43 visits<br>월 2시",
           "14 visits<br>월 3시",
           "16 visits<br>월 4시",
           "19 visits<br>월 5시",
           "27 visits<br>월 6시",
           "46 visits<br>월 7시",
           "62 visits<br>월 8시",
           "59 visits<br>월 9시",
           "50 visits<br>월 10시",
           "44 visits<br>월 11시",
           "49 visits<br>월 12시",
           "45 visits<br>월 13시",
           "61 visits<br>월 14시",
           "58 visits<br>월 15시",
           "104 visits<br>월 16시",
           "146 visits<br>월 17시",
           "156 visits<br>월 18시",
           "91 visits<br>월 19시",
           "101 visits<br>월 20시",
           "156 visits<br>월 21시",
           "179 visits<br>월 22시",
           "123 visits<br>월 23시"
          ],
          [
           "158 visits<br>화 0시",
           "88 visits<br>화 1시",
           "57 visits<br>화 2시",
           "32 visits<br>화 3시",
           "23 visits<br>화 4시",
           "23 visits<br>화 5시",
           "49 visits<br>화 6시",
           "59 visits<br>화 7시",
           "98 visits<br>화 8시",
           "76 visits<br>화 9시",
           "93 visits<br>화 10시",
           "83 visits<br>화 11시",
           "101 visits<br>화 12시",
           "97 visits<br>화 13시",
           "79 visits<br>화 14시",
           "97 visits<br>화 15시",
           "74 visits<br>화 16시",
           "77 visits<br>화 17시",
           "115 visits<br>화 18시",
           "87 visits<br>화 19시",
           "81 visits<br>화 20시",
           "77 visits<br>화 21시",
           "77 visits<br>화 22시",
           "96 visits<br>화 23시"
          ],
          [
           "101 visits<br>수 0시",
           "66 visits<br>수 1시",
           "30 visits<br>수 2시",
           "31 visits<br>수 3시",
           "15 visits<br>수 4시",
           "27 visits<br>수 5시",
           "39 visits<br>수 6시",
           "48 visits<br>수 7시",
           "72 visits<br>수 8시",
           "61 visits<br>수 9시",
           "76 visits<br>수 10시",
           "51 visits<br>수 11시",
           "60 visits<br>수 12시",
           "68 visits<br>수 13시",
           "61 visits<br>수 14시",
           "73 visits<br>수 15시",
           "64 visits<br>수 16시",
           "43 visits<br>수 17시",
           "68 visits<br>수 18시",
           "33 visits<br>수 19시",
           "51 visits<br>수 20시",
           "49 visits<br>수 21시",
           "38 visits<br>수 22시",
           "62 visits<br>수 23시"
          ],
          [
           "73 visits<br>목 0시",
           "46 visits<br>목 1시",
           "17 visits<br>목 2시",
           "18 visits<br>목 3시",
           "15 visits<br>목 4시",
           "8 visits<br>목 5시",
           "22 visits<br>목 6시",
           "25 visits<br>목 7시",
           "40 visits<br>목 8시",
           "50 visits<br>목 9시",
           "46 visits<br>목 10시",
           "49 visits<br>목 11시",
           "57 visits<br>목 12시",
           "54 visits<br>목 13시",
           "59 visits<br>목 14시",
           "59 visits<br>목 15시",
           "76 visits<br>목 16시",
           "41 visits<br>목 17시",
           "78 visits<br>목 18시",
           "67 visits<br>목 19시",
           "56 visits<br>목 20시",
           "65 visits<br>목 21시",
           "60 visits<br>목 22시",
           "66 visits<br>목 23시"
          ],
          [
           "68 visits<br>금 0시",
           "50 visits<br>금 1시",
           "43 visits<br>금 2시",
           "20 visits<br>금 3시",
           "27 visits<br>금 4시",
           "10 visits<br>금 5시",
           "21 visits<br>금 6시",
           "58 visits<br>금 7시",
           "60 visits<br>금 8시",
           "60 visits<br>금 9시",
           "51 visits<br>금 10시",
           "39 visits<br>금 11시",
           "66 visits<br>금 12시",
           "39 visits<br>금 13시",
           "58 visits<br>금 14시",
           "62 visits<br>금 15시",
           "82 visits<br>금 16시",
           "97 visits<br>금 17시",
           "62 visits<br>금 18시",
           "75 visits<br>금 19시",
           "62 visits<br>금 20시",
           "55 visits<br>금 21시",
           "53 visits<br>금 22시",
           "36 visits<br>금 23시"
          ],
          [
           "85 visits<br>토 0시",
           "73 visits<br>토 1시",
           "34 visits<br>토 2시",
           "21 visits<br>토 3시",
           "28 visits<br>토 4시",
           "16 visits<br>토 5시",
           "25 visits<br>토 6시",
           "43 visits<br>토 7시",
           "54 visits<br>토 8시",
           "60 visits<br>토 9시",
           "40 visits<br>토 10시",
           "57 visits<br>토 11시",
           "68 visits<br>토 12시",
           "54 visits<br>토 13시",
           "49 visits<br>토 14시",
           "50 visits<br>토 15시",
           "53 visits<br>토 16시",
           "45 visits<br>토 17시",
           "47 visits<br>토 18시",
           "53 visits<br>토 19시",
           "60 visits<br>토 20시",
           "69 visits<br>토 21시",
           "54 visits<br>토 22시",
           "20 visits<br>토 23시"
          ]
         ],
         "type": "heatmap",
         "x": [
          0,
          1,
          2,
          3,
          4,
          5,
          6,
          7,
          8,
          9,
          10,
          11,
          12,
          13,
          14,
          15,
          16,
          17,
          18,
          19,
          20,
          21,
          22,
          23
         ],
         "y": [
          1,
          2,
          3,
          4,
          5,
          6,
          7
         ],
         "z": [
          [
           103,
           78,
           39,
           36,
           29,
           23,
           24,
           24,
           52,
           69,
           69,
           86,
           81,
           77,
           66,
           55,
           71,
           65,
           56,
           59,
           51,
           58,
           43,
           10
          ],
          [
           101,
           53,
           43,
           14,
           16,
           19,
           27,
           46,
           62,
           59,
           50,
           44,
           49,
           45,
           61,
           58,
           104,
           146,
           156,
           91,
           101,
           156,
           179,
           123
          ],
          [
           158,
           88,
           57,
           32,
           23,
           23,
           49,
           59,
           98,
           76,
           93,
           83,
           101,
           97,
           79,
           97,
           74,
           77,
           115,
           87,
           81,
           77,
           77,
           96
          ],
          [
           101,
           66,
           30,
           31,
           15,
           27,
           39,
           48,
           72,
           61,
           76,
           51,
           60,
           68,
           61,
           73,
           64,
           43,
           68,
           33,
           51,
           49,
           38,
           62
          ],
          [
           73,
           46,
           17,
           18,
           15,
           8,
           22,
           25,
           40,
           50,
           46,
           49,
           57,
           54,
           59,
           59,
           76,
           41,
           78,
           67,
           56,
           65,
           60,
           66
          ],
          [
           68,
           50,
           43,
           20,
           27,
           10,
           21,
           58,
           60,
           60,
           51,
           39,
           66,
           39,
           58,
           62,
           82,
           97,
           62,
           75,
           62,
           55,
           53,
           36
          ],
          [
           85,
           73,
           34,
           21,
           28,
           16,
           25,
           43,
           54,
           60,
           40,
           57,
           68,
           54,
           49,
           50,
           53,
           45,
           47,
           53,
           60,
           69,
           54,
           20
          ]
         ]
        }
       ],
       "layout": {
        "annotations": [
         {
          "font": {
           "color": "black"
          },
          "showarrow": false,
          "text": "0월<br>103",
          "x": 0,
          "xref": "x",
          "y": 1,
          "yref": "y"
         },
         {
          "font": {
           "color": "black"
          },
          "showarrow": false,
          "text": "1월<br>78",
          "x": 1,
          "xref": "x",
          "y": 1,
          "yref": "y"
         },
         {
          "font": {
           "color": "black"
          },
          "showarrow": false,
          "text": "2월<br>39",
          "x": 2,
          "xref": "x",
          "y": 1,
          "yref": "y"
         },
         {
          "font": {
           "color": "black"
          },
          "showarrow": false,
          "text": "3월<br>36",
          "x": 3,
          "xref": "x",
          "y": 1,
          "yref": "y"
         },
         {
          "font": {
           "color": "black"
          },
          "showarrow": false,
          "text": "4월<br>29",
          "x": 4,
          "xref": "x",
          "y": 1,
          "yref": "y"
         },
         {
          "font": {
           "color": "black"
          },
          "showarrow": false,
          "text": "5월<br>23",
          "x": 5,
          "xref": "x",
          "y": 1,
          "yref": "y"
         },
         {
          "font": {
           "color": "black"
          },
          "showarrow": false,
          "text": "6월<br>24",
          "x": 6,
          "xref": "x",
          "y": 1,
          "yref": "y"
         },
         {
          "font": {
           "color": "black"
          },
          "showarrow": false,
          "text": "7월<br>24",
          "x": 7,
          "xref": "x",
          "y": 1,
          "yref": "y"
         },
         {
          "font": {
           "color": "black"
          },
          "showarrow": false,
          "text": "8월<br>52",
          "x": 8,
          "xref": "x",
          "y": 1,
          "yref": "y"
         },
         {
          "font": {
           "color": "black"
          },
          "showarrow": false,
          "text": "9월<br>69",
          "x": 9,
          "xref": "x",
          "y": 1,
          "yref": "y"
         },
         {
          "font": {
           "color": "black"
          },
          "showarrow": false,
          "text": "10월<br>69",
          "x": 10,
          "xref": "x",
          "y": 1,
          "yref": "y"
         },
         {
          "font": {
           "color": "black"
          },
          "showarrow": false,
          "text": "11월<br>86",
          "x": 11,
          "xref": "x",
          "y": 1,
          "yref": "y"
         },
         {
          "font": {
           "color": "black"
          },
          "showarrow": false,
          "text": "12월<br>81",
          "x": 12,
          "xref": "x",
          "y": 1,
          "yref": "y"
         },
         {
          "font": {
           "color": "black"
          },
          "showarrow": false,
          "text": "13월<br>77",
          "x": 13,
          "xref": "x",
          "y": 1,
          "yref": "y"
         },
         {
          "font": {
           "color": "black"
          },
          "showarrow": false,
          "text": "14월<br>66",
          "x": 14,
          "xref": "x",
          "y": 1,
          "yref": "y"
         },
         {
          "font": {
           "color": "black"
          },
          "showarrow": false,
          "text": "15월<br>55",
          "x": 15,
          "xref": "x",
          "y": 1,
          "yref": "y"
         },
         {
          "font": {
           "color": "black"
          },
          "showarrow": false,
          "text": "16월<br>71",
          "x": 16,
          "xref": "x",
          "y": 1,
          "yref": "y"
         },
         {
          "font": {
           "color": "black"
          },
          "showarrow": false,
          "text": "17월<br>65",
          "x": 17,
          "xref": "x",
          "y": 1,
          "yref": "y"
         },
         {
          "font": {
           "color": "black"
          },
          "showarrow": false,
          "text": "18월<br>56",
          "x": 18,
          "xref": "x",
          "y": 1,
          "yref": "y"
         },
         {
          "font": {
           "color": "black"
          },
          "showarrow": false,
          "text": "19월<br>59",
          "x": 19,
          "xref": "x",
          "y": 1,
          "yref": "y"
         },
         {
          "font": {
           "color": "black"
          },
          "showarrow": false,
          "text": "20월<br>51",
          "x": 20,
          "xref": "x",
          "y": 1,
          "yref": "y"
         },
         {
          "font": {
           "color": "black"
          },
          "showarrow": false,
          "text": "21월<br>58",
          "x": 21,
          "xref": "x",
          "y": 1,
          "yref": "y"
         },
         {
          "font": {
           "color": "black"
          },
          "showarrow": false,
          "text": "22월<br>43",
          "x": 22,
          "xref": "x",
          "y": 1,
          "yref": "y"
         },
         {
          "font": {
           "color": "black"
          },
          "showarrow": false,
          "text": "23월<br>10",
          "x": 23,
          "xref": "x",
          "y": 1,
          "yref": "y"
         },
         {
          "font": {
           "color": "black"
          },
          "showarrow": false,
          "text": "0화<br>101",
          "x": 0,
          "xref": "x",
          "y": 2,
          "yref": "y"
         },
         {
          "font": {
           "color": "black"
          },
          "showarrow": false,
          "text": "1화<br>53",
          "x": 1,
          "xref": "x",
          "y": 2,
          "yref": "y"
         },
         {
          "font": {
           "color": "black"
          },
          "showarrow": false,
          "text": "2화<br>43",
          "x": 2,
          "xref": "x",
          "y": 2,
          "yref": "y"
         },
         {
          "font": {
           "color": "black"
          },
          "showarrow": false,
          "text": "3화<br>14",
          "x": 3,
          "xref": "x",
          "y": 2,
          "yref": "y"
         },
         {
          "font": {
           "color": "black"
          },
          "showarrow": false,
          "text": "4화<br>16",
          "x": 4,
          "xref": "x",
          "y": 2,
          "yref": "y"
         },
         {
          "font": {
           "color": "black"
          },
          "showarrow": false,
          "text": "5화<br>19",
          "x": 5,
          "xref": "x",
          "y": 2,
          "yref": "y"
         },
         {
          "font": {
           "color": "black"
          },
          "showarrow": false,
          "text": "6화<br>27",
          "x": 6,
          "xref": "x",
          "y": 2,
          "yref": "y"
         },
         {
          "font": {
           "color": "black"
          },
          "showarrow": false,
          "text": "7화<br>46",
          "x": 7,
          "xref": "x",
          "y": 2,
          "yref": "y"
         },
         {
          "font": {
           "color": "black"
          },
          "showarrow": false,
          "text": "8화<br>62",
          "x": 8,
          "xref": "x",
          "y": 2,
          "yref": "y"
         },
         {
          "font": {
           "color": "black"
          },
          "showarrow": false,
          "text": "9화<br>59",
          "x": 9,
          "xref": "x",
          "y": 2,
          "yref": "y"
         },
         {
          "font": {
           "color": "black"
          },
          "showarrow": false,
          "text": "10화<br>50",
          "x": 10,
          "xref": "x",
          "y": 2,
          "yref": "y"
         },
         {
          "font": {
           "color": "black"
          },
          "showarrow": false,
          "text": "11화<br>44",
          "x": 11,
          "xref": "x",
          "y": 2,
          "yref": "y"
         },
         {
          "font": {
           "color": "black"
          },
          "showarrow": false,
          "text": "12화<br>49",
          "x": 12,
          "xref": "x",
          "y": 2,
          "yref": "y"
         },
         {
          "font": {
           "color": "black"
          },
          "showarrow": false,
          "text": "13화<br>45",
          "x": 13,
          "xref": "x",
          "y": 2,
          "yref": "y"
         },
         {
          "font": {
           "color": "black"
          },
          "showarrow": false,
          "text": "14화<br>61",
          "x": 14,
          "xref": "x",
          "y": 2,
          "yref": "y"
         },
         {
          "font": {
           "color": "black"
          },
          "showarrow": false,
          "text": "15화<br>58",
          "x": 15,
          "xref": "x",
          "y": 2,
          "yref": "y"
         },
         {
          "font": {
           "color": "black"
          },
          "showarrow": false,
          "text": "16화<br>104",
          "x": 16,
          "xref": "x",
          "y": 2,
          "yref": "y"
         },
         {
          "font": {
           "color": "black"
          },
          "showarrow": false,
          "text": "17화<br>146",
          "x": 17,
          "xref": "x",
          "y": 2,
          "yref": "y"
         },
         {
          "font": {
           "color": "black"
          },
          "showarrow": false,
          "text": "18화<br>156",
          "x": 18,
          "xref": "x",
          "y": 2,
          "yref": "y"
         },
         {
          "font": {
           "color": "black"
          },
          "showarrow": false,
          "text": "19화<br>91",
          "x": 19,
          "xref": "x",
          "y": 2,
          "yref": "y"
         },
         {
          "font": {
           "color": "black"
          },
          "showarrow": false,
          "text": "20화<br>101",
          "x": 20,
          "xref": "x",
          "y": 2,
          "yref": "y"
         },
         {
          "font": {
           "color": "black"
          },
          "showarrow": false,
          "text": "21화<br>156",
          "x": 21,
          "xref": "x",
          "y": 2,
          "yref": "y"
         },
         {
          "font": {
           "color": "black"
          },
          "showarrow": false,
          "text": "22화<br>179",
          "x": 22,
          "xref": "x",
          "y": 2,
          "yref": "y"
         },
         {
          "font": {
           "color": "black"
          },
          "showarrow": false,
          "text": "23화<br>123",
          "x": 23,
          "xref": "x",
          "y": 2,
          "yref": "y"
         },
         {
          "font": {
           "color": "black"
          },
          "showarrow": false,
          "text": "0수<br>158",
          "x": 0,
          "xref": "x",
          "y": 3,
          "yref": "y"
         },
         {
          "font": {
           "color": "black"
          },
          "showarrow": false,
          "text": "1수<br>88",
          "x": 1,
          "xref": "x",
          "y": 3,
          "yref": "y"
         },
         {
          "font": {
           "color": "black"
          },
          "showarrow": false,
          "text": "2수<br>57",
          "x": 2,
          "xref": "x",
          "y": 3,
          "yref": "y"
         },
         {
          "font": {
           "color": "black"
          },
          "showarrow": false,
          "text": "3수<br>32",
          "x": 3,
          "xref": "x",
          "y": 3,
          "yref": "y"
         },
         {
          "font": {
           "color": "black"
          },
          "showarrow": false,
          "text": "4수<br>23",
          "x": 4,
          "xref": "x",
          "y": 3,
          "yref": "y"
         },
         {
          "font": {
           "color": "black"
          },
          "showarrow": false,
          "text": "5수<br>23",
          "x": 5,
          "xref": "x",
          "y": 3,
          "yref": "y"
         },
         {
          "font": {
           "color": "black"
          },
          "showarrow": false,
          "text": "6수<br>49",
          "x": 6,
          "xref": "x",
          "y": 3,
          "yref": "y"
         },
         {
          "font": {
           "color": "black"
          },
          "showarrow": false,
          "text": "7수<br>59",
          "x": 7,
          "xref": "x",
          "y": 3,
          "yref": "y"
         },
         {
          "font": {
           "color": "black"
          },
          "showarrow": false,
          "text": "8수<br>98",
          "x": 8,
          "xref": "x",
          "y": 3,
          "yref": "y"
         },
         {
          "font": {
           "color": "black"
          },
          "showarrow": false,
          "text": "9수<br>76",
          "x": 9,
          "xref": "x",
          "y": 3,
          "yref": "y"
         },
         {
          "font": {
           "color": "black"
          },
          "showarrow": false,
          "text": "10수<br>93",
          "x": 10,
          "xref": "x",
          "y": 3,
          "yref": "y"
         },
         {
          "font": {
           "color": "black"
          },
          "showarrow": false,
          "text": "11수<br>83",
          "x": 11,
          "xref": "x",
          "y": 3,
          "yref": "y"
         },
         {
          "font": {
           "color": "black"
          },
          "showarrow": false,
          "text": "12수<br>101",
          "x": 12,
          "xref": "x",
          "y": 3,
          "yref": "y"
         },
         {
          "font": {
           "color": "black"
          },
          "showarrow": false,
          "text": "13수<br>97",
          "x": 13,
          "xref": "x",
          "y": 3,
          "yref": "y"
         },
         {
          "font": {
           "color": "black"
          },
          "showarrow": false,
          "text": "14수<br>79",
          "x": 14,
          "xref": "x",
          "y": 3,
          "yref": "y"
         },
         {
          "font": {
           "color": "black"
          },
          "showarrow": false,
          "text": "15수<br>97",
          "x": 15,
          "xref": "x",
          "y": 3,
          "yref": "y"
         },
         {
          "font": {
           "color": "black"
          },
          "showarrow": false,
          "text": "16수<br>74",
          "x": 16,
          "xref": "x",
          "y": 3,
          "yref": "y"
         },
         {
          "font": {
           "color": "black"
          },
          "showarrow": false,
          "text": "17수<br>77",
          "x": 17,
          "xref": "x",
          "y": 3,
          "yref": "y"
         },
         {
          "font": {
           "color": "black"
          },
          "showarrow": false,
          "text": "18수<br>115",
          "x": 18,
          "xref": "x",
          "y": 3,
          "yref": "y"
         },
         {
          "font": {
           "color": "black"
          },
          "showarrow": false,
          "text": "19수<br>87",
          "x": 19,
          "xref": "x",
          "y": 3,
          "yref": "y"
         },
         {
          "font": {
           "color": "black"
          },
          "showarrow": false,
          "text": "20수<br>81",
          "x": 20,
          "xref": "x",
          "y": 3,
          "yref": "y"
         },
         {
          "font": {
           "color": "black"
          },
          "showarrow": false,
          "text": "21수<br>77",
          "x": 21,
          "xref": "x",
          "y": 3,
          "yref": "y"
         },
         {
          "font": {
           "color": "black"
          },
          "showarrow": false,
          "text": "22수<br>77",
          "x": 22,
          "xref": "x",
          "y": 3,
          "yref": "y"
         },
         {
          "font": {
           "color": "black"
          },
          "showarrow": false,
          "text": "23수<br>96",
          "x": 23,
          "xref": "x",
          "y": 3,
          "yref": "y"
         },
         {
          "font": {
           "color": "black"
          },
          "showarrow": false,
          "text": "0목<br>101",
          "x": 0,
          "xref": "x",
          "y": 4,
          "yref": "y"
         },
         {
          "font": {
           "color": "black"
          },
          "showarrow": false,
          "text": "1목<br>66",
          "x": 1,
          "xref": "x",
          "y": 4,
          "yref": "y"
         },
         {
          "font": {
           "color": "black"
          },
          "showarrow": false,
          "text": "2목<br>30",
          "x": 2,
          "xref": "x",
          "y": 4,
          "yref": "y"
         },
         {
          "font": {
           "color": "black"
          },
          "showarrow": false,
          "text": "3목<br>31",
          "x": 3,
          "xref": "x",
          "y": 4,
          "yref": "y"
         },
         {
          "font": {
           "color": "black"
          },
          "showarrow": false,
          "text": "4목<br>15",
          "x": 4,
          "xref": "x",
          "y": 4,
          "yref": "y"
         },
         {
          "font": {
           "color": "black"
          },
          "showarrow": false,
          "text": "5목<br>27",
          "x": 5,
          "xref": "x",
          "y": 4,
          "yref": "y"
         },
         {
          "font": {
           "color": "black"
          },
          "showarrow": false,
          "text": "6목<br>39",
          "x": 6,
          "xref": "x",
          "y": 4,
          "yref": "y"
         },
         {
          "font": {
           "color": "black"
          },
          "showarrow": false,
          "text": "7목<br>48",
          "x": 7,
          "xref": "x",
          "y": 4,
          "yref": "y"
         },
         {
          "font": {
           "color": "black"
          },
          "showarrow": false,
          "text": "8목<br>72",
          "x": 8,
          "xref": "x",
          "y": 4,
          "yref": "y"
         },
         {
          "font": {
           "color": "black"
          },
          "showarrow": false,
          "text": "9목<br>61",
          "x": 9,
          "xref": "x",
          "y": 4,
          "yref": "y"
         },
         {
          "font": {
           "color": "black"
          },
          "showarrow": false,
          "text": "10목<br>76",
          "x": 10,
          "xref": "x",
          "y": 4,
          "yref": "y"
         },
         {
          "font": {
           "color": "black"
          },
          "showarrow": false,
          "text": "11목<br>51",
          "x": 11,
          "xref": "x",
          "y": 4,
          "yref": "y"
         },
         {
          "font": {
           "color": "black"
          },
          "showarrow": false,
          "text": "12목<br>60",
          "x": 12,
          "xref": "x",
          "y": 4,
          "yref": "y"
         },
         {
          "font": {
           "color": "black"
          },
          "showarrow": false,
          "text": "13목<br>68",
          "x": 13,
          "xref": "x",
          "y": 4,
          "yref": "y"
         },
         {
          "font": {
           "color": "black"
          },
          "showarrow": false,
          "text": "14목<br>61",
          "x": 14,
          "xref": "x",
          "y": 4,
          "yref": "y"
         },
         {
          "font": {
           "color": "black"
          },
          "showarrow": false,
          "text": "15목<br>73",
          "x": 15,
          "xref": "x",
          "y": 4,
          "yref": "y"
         },
         {
          "font": {
           "color": "black"
          },
          "showarrow": false,
          "text": "16목<br>64",
          "x": 16,
          "xref": "x",
          "y": 4,
          "yref": "y"
         },
         {
          "font": {
           "color": "black"
          },
          "showarrow": false,
          "text": "17목<br>43",
          "x": 17,
          "xref": "x",
          "y": 4,
          "yref": "y"
         },
         {
          "font": {
           "color": "black"
          },
          "showarrow": false,
          "text": "18목<br>68",
          "x": 18,
          "xref": "x",
          "y": 4,
          "yref": "y"
         },
         {
          "font": {
           "color": "black"
          },
          "showarrow": false,
          "text": "19목<br>33",
          "x": 19,
          "xref": "x",
          "y": 4,
          "yref": "y"
         },
         {
          "font": {
           "color": "black"
          },
          "showarrow": false,
          "text": "20목<br>51",
          "x": 20,
          "xref": "x",
          "y": 4,
          "yref": "y"
         },
         {
          "font": {
           "color": "black"
          },
          "showarrow": false,
          "text": "21목<br>49",
          "x": 21,
          "xref": "x",
          "y": 4,
          "yref": "y"
         },
         {
          "font": {
           "color": "black"
          },
          "showarrow": false,
          "text": "22목<br>38",
          "x": 22,
          "xref": "x",
          "y": 4,
          "yref": "y"
         },
         {
          "font": {
           "color": "black"
          },
          "showarrow": false,
          "text": "23목<br>62",
          "x": 23,
          "xref": "x",
          "y": 4,
          "yref": "y"
         },
         {
          "font": {
           "color": "black"
          },
          "showarrow": false,
          "text": "0금<br>73",
          "x": 0,
          "xref": "x",
          "y": 5,
          "yref": "y"
         },
         {
          "font": {
           "color": "black"
          },
          "showarrow": false,
          "text": "1금<br>46",
          "x": 1,
          "xref": "x",
          "y": 5,
          "yref": "y"
         },
         {
          "font": {
           "color": "black"
          },
          "showarrow": false,
          "text": "2금<br>17",
          "x": 2,
          "xref": "x",
          "y": 5,
          "yref": "y"
         },
         {
          "font": {
           "color": "black"
          },
          "showarrow": false,
          "text": "3금<br>18",
          "x": 3,
          "xref": "x",
          "y": 5,
          "yref": "y"
         },
         {
          "font": {
           "color": "black"
          },
          "showarrow": false,
          "text": "4금<br>15",
          "x": 4,
          "xref": "x",
          "y": 5,
          "yref": "y"
         },
         {
          "font": {
           "color": "black"
          },
          "showarrow": false,
          "text": "5금<br>8",
          "x": 5,
          "xref": "x",
          "y": 5,
          "yref": "y"
         },
         {
          "font": {
           "color": "black"
          },
          "showarrow": false,
          "text": "6금<br>22",
          "x": 6,
          "xref": "x",
          "y": 5,
          "yref": "y"
         },
         {
          "font": {
           "color": "black"
          },
          "showarrow": false,
          "text": "7금<br>25",
          "x": 7,
          "xref": "x",
          "y": 5,
          "yref": "y"
         },
         {
          "font": {
           "color": "black"
          },
          "showarrow": false,
          "text": "8금<br>40",
          "x": 8,
          "xref": "x",
          "y": 5,
          "yref": "y"
         },
         {
          "font": {
           "color": "black"
          },
          "showarrow": false,
          "text": "9금<br>50",
          "x": 9,
          "xref": "x",
          "y": 5,
          "yref": "y"
         },
         {
          "font": {
           "color": "black"
          },
          "showarrow": false,
          "text": "10금<br>46",
          "x": 10,
          "xref": "x",
          "y": 5,
          "yref": "y"
         },
         {
          "font": {
           "color": "black"
          },
          "showarrow": false,
          "text": "11금<br>49",
          "x": 11,
          "xref": "x",
          "y": 5,
          "yref": "y"
         },
         {
          "font": {
           "color": "black"
          },
          "showarrow": false,
          "text": "12금<br>57",
          "x": 12,
          "xref": "x",
          "y": 5,
          "yref": "y"
         },
         {
          "font": {
           "color": "black"
          },
          "showarrow": false,
          "text": "13금<br>54",
          "x": 13,
          "xref": "x",
          "y": 5,
          "yref": "y"
         },
         {
          "font": {
           "color": "black"
          },
          "showarrow": false,
          "text": "14금<br>59",
          "x": 14,
          "xref": "x",
          "y": 5,
          "yref": "y"
         },
         {
          "font": {
           "color": "black"
          },
          "showarrow": false,
          "text": "15금<br>59",
          "x": 15,
          "xref": "x",
          "y": 5,
          "yref": "y"
         },
         {
          "font": {
           "color": "black"
          },
          "showarrow": false,
          "text": "16금<br>76",
          "x": 16,
          "xref": "x",
          "y": 5,
          "yref": "y"
         },
         {
          "font": {
           "color": "black"
          },
          "showarrow": false,
          "text": "17금<br>41",
          "x": 17,
          "xref": "x",
          "y": 5,
          "yref": "y"
         },
         {
          "font": {
           "color": "black"
          },
          "showarrow": false,
          "text": "18금<br>78",
          "x": 18,
          "xref": "x",
          "y": 5,
          "yref": "y"
         },
         {
          "font": {
           "color": "black"
          },
          "showarrow": false,
          "text": "19금<br>67",
          "x": 19,
          "xref": "x",
          "y": 5,
          "yref": "y"
         },
         {
          "font": {
           "color": "black"
          },
          "showarrow": false,
          "text": "20금<br>56",
          "x": 20,
          "xref": "x",
          "y": 5,
          "yref": "y"
         },
         {
          "font": {
           "color": "black"
          },
          "showarrow": false,
          "text": "21금<br>65",
          "x": 21,
          "xref": "x",
          "y": 5,
          "yref": "y"
         },
         {
          "font": {
           "color": "black"
          },
          "showarrow": false,
          "text": "22금<br>60",
          "x": 22,
          "xref": "x",
          "y": 5,
          "yref": "y"
         },
         {
          "font": {
           "color": "black"
          },
          "showarrow": false,
          "text": "23금<br>66",
          "x": 23,
          "xref": "x",
          "y": 5,
          "yref": "y"
         },
         {
          "font": {
           "color": "black"
          },
          "showarrow": false,
          "text": "0토<br>68",
          "x": 0,
          "xref": "x",
          "y": 6,
          "yref": "y"
         },
         {
          "font": {
           "color": "black"
          },
          "showarrow": false,
          "text": "1토<br>50",
          "x": 1,
          "xref": "x",
          "y": 6,
          "yref": "y"
         },
         {
          "font": {
           "color": "black"
          },
          "showarrow": false,
          "text": "2토<br>43",
          "x": 2,
          "xref": "x",
          "y": 6,
          "yref": "y"
         },
         {
          "font": {
           "color": "black"
          },
          "showarrow": false,
          "text": "3토<br>20",
          "x": 3,
          "xref": "x",
          "y": 6,
          "yref": "y"
         },
         {
          "font": {
           "color": "black"
          },
          "showarrow": false,
          "text": "4토<br>27",
          "x": 4,
          "xref": "x",
          "y": 6,
          "yref": "y"
         },
         {
          "font": {
           "color": "black"
          },
          "showarrow": false,
          "text": "5토<br>10",
          "x": 5,
          "xref": "x",
          "y": 6,
          "yref": "y"
         },
         {
          "font": {
           "color": "black"
          },
          "showarrow": false,
          "text": "6토<br>21",
          "x": 6,
          "xref": "x",
          "y": 6,
          "yref": "y"
         },
         {
          "font": {
           "color": "black"
          },
          "showarrow": false,
          "text": "7토<br>58",
          "x": 7,
          "xref": "x",
          "y": 6,
          "yref": "y"
         },
         {
          "font": {
           "color": "black"
          },
          "showarrow": false,
          "text": "8토<br>60",
          "x": 8,
          "xref": "x",
          "y": 6,
          "yref": "y"
         },
         {
          "font": {
           "color": "black"
          },
          "showarrow": false,
          "text": "9토<br>60",
          "x": 9,
          "xref": "x",
          "y": 6,
          "yref": "y"
         },
         {
          "font": {
           "color": "black"
          },
          "showarrow": false,
          "text": "10토<br>51",
          "x": 10,
          "xref": "x",
          "y": 6,
          "yref": "y"
         },
         {
          "font": {
           "color": "black"
          },
          "showarrow": false,
          "text": "11토<br>39",
          "x": 11,
          "xref": "x",
          "y": 6,
          "yref": "y"
         },
         {
          "font": {
           "color": "black"
          },
          "showarrow": false,
          "text": "12토<br>66",
          "x": 12,
          "xref": "x",
          "y": 6,
          "yref": "y"
         },
         {
          "font": {
           "color": "black"
          },
          "showarrow": false,
          "text": "13토<br>39",
          "x": 13,
          "xref": "x",
          "y": 6,
          "yref": "y"
         },
         {
          "font": {
           "color": "black"
          },
          "showarrow": false,
          "text": "14토<br>58",
          "x": 14,
          "xref": "x",
          "y": 6,
          "yref": "y"
         },
         {
          "font": {
           "color": "black"
          },
          "showarrow": false,
          "text": "15토<br>62",
          "x": 15,
          "xref": "x",
          "y": 6,
          "yref": "y"
         },
         {
          "font": {
           "color": "black"
          },
          "showarrow": false,
          "text": "16토<br>82",
          "x": 16,
          "xref": "x",
          "y": 6,
          "yref": "y"
         },
         {
          "font": {
           "color": "black"
          },
          "showarrow": false,
          "text": "17토<br>97",
          "x": 17,
          "xref": "x",
          "y": 6,
          "yref": "y"
         },
         {
          "font": {
           "color": "black"
          },
          "showarrow": false,
          "text": "18토<br>62",
          "x": 18,
          "xref": "x",
          "y": 6,
          "yref": "y"
         },
         {
          "font": {
           "color": "black"
          },
          "showarrow": false,
          "text": "19토<br>75",
          "x": 19,
          "xref": "x",
          "y": 6,
          "yref": "y"
         },
         {
          "font": {
           "color": "black"
          },
          "showarrow": false,
          "text": "20토<br>62",
          "x": 20,
          "xref": "x",
          "y": 6,
          "yref": "y"
         },
         {
          "font": {
           "color": "black"
          },
          "showarrow": false,
          "text": "21토<br>55",
          "x": 21,
          "xref": "x",
          "y": 6,
          "yref": "y"
         },
         {
          "font": {
           "color": "black"
          },
          "showarrow": false,
          "text": "22토<br>53",
          "x": 22,
          "xref": "x",
          "y": 6,
          "yref": "y"
         },
         {
          "font": {
           "color": "black"
          },
          "showarrow": false,
          "text": "23토<br>36",
          "x": 23,
          "xref": "x",
          "y": 6,
          "yref": "y"
         },
         {
          "font": {
           "color": "black"
          },
          "showarrow": false,
          "text": "0일<br>85",
          "x": 0,
          "xref": "x",
          "y": 7,
          "yref": "y"
         },
         {
          "font": {
           "color": "black"
          },
          "showarrow": false,
          "text": "1일<br>73",
          "x": 1,
          "xref": "x",
          "y": 7,
          "yref": "y"
         },
         {
          "font": {
           "color": "black"
          },
          "showarrow": false,
          "text": "2일<br>34",
          "x": 2,
          "xref": "x",
          "y": 7,
          "yref": "y"
         },
         {
          "font": {
           "color": "black"
          },
          "showarrow": false,
          "text": "3일<br>21",
          "x": 3,
          "xref": "x",
          "y": 7,
          "yref": "y"
         },
         {
          "font": {
           "color": "black"
          },
          "showarrow": false,
          "text": "4일<br>28",
          "x": 4,
          "xref": "x",
          "y": 7,
          "yref": "y"
         },
         {
          "font": {
           "color": "black"
          },
          "showarrow": false,
          "text": "5일<br>16",
          "x": 5,
          "xref": "x",
          "y": 7,
          "yref": "y"
         },
         {
          "font": {
           "color": "black"
          },
          "showarrow": false,
          "text": "6일<br>25",
          "x": 6,
          "xref": "x",
          "y": 7,
          "yref": "y"
         },
         {
          "font": {
           "color": "black"
          },
          "showarrow": false,
          "text": "7일<br>43",
          "x": 7,
          "xref": "x",
          "y": 7,
          "yref": "y"
         },
         {
          "font": {
           "color": "black"
          },
          "showarrow": false,
          "text": "8일<br>54",
          "x": 8,
          "xref": "x",
          "y": 7,
          "yref": "y"
         },
         {
          "font": {
           "color": "black"
          },
          "showarrow": false,
          "text": "9일<br>60",
          "x": 9,
          "xref": "x",
          "y": 7,
          "yref": "y"
         },
         {
          "font": {
           "color": "black"
          },
          "showarrow": false,
          "text": "10일<br>40",
          "x": 10,
          "xref": "x",
          "y": 7,
          "yref": "y"
         },
         {
          "font": {
           "color": "black"
          },
          "showarrow": false,
          "text": "11일<br>57",
          "x": 11,
          "xref": "x",
          "y": 7,
          "yref": "y"
         },
         {
          "font": {
           "color": "black"
          },
          "showarrow": false,
          "text": "12일<br>68",
          "x": 12,
          "xref": "x",
          "y": 7,
          "yref": "y"
         },
         {
          "font": {
           "color": "black"
          },
          "showarrow": false,
          "text": "13일<br>54",
          "x": 13,
          "xref": "x",
          "y": 7,
          "yref": "y"
         },
         {
          "font": {
           "color": "black"
          },
          "showarrow": false,
          "text": "14일<br>49",
          "x": 14,
          "xref": "x",
          "y": 7,
          "yref": "y"
         },
         {
          "font": {
           "color": "black"
          },
          "showarrow": false,
          "text": "15일<br>50",
          "x": 15,
          "xref": "x",
          "y": 7,
          "yref": "y"
         },
         {
          "font": {
           "color": "black"
          },
          "showarrow": false,
          "text": "16일<br>53",
          "x": 16,
          "xref": "x",
          "y": 7,
          "yref": "y"
         },
         {
          "font": {
           "color": "black"
          },
          "showarrow": false,
          "text": "17일<br>45",
          "x": 17,
          "xref": "x",
          "y": 7,
          "yref": "y"
         },
         {
          "font": {
           "color": "black"
          },
          "showarrow": false,
          "text": "18일<br>47",
          "x": 18,
          "xref": "x",
          "y": 7,
          "yref": "y"
         },
         {
          "font": {
           "color": "black"
          },
          "showarrow": false,
          "text": "19일<br>53",
          "x": 19,
          "xref": "x",
          "y": 7,
          "yref": "y"
         },
         {
          "font": {
           "color": "black"
          },
          "showarrow": false,
          "text": "20일<br>60",
          "x": 20,
          "xref": "x",
          "y": 7,
          "yref": "y"
         },
         {
          "font": {
           "color": "black"
          },
          "showarrow": false,
          "text": "21일<br>69",
          "x": 21,
          "xref": "x",
          "y": 7,
          "yref": "y"
         },
         {
          "font": {
           "color": "black"
          },
          "showarrow": false,
          "text": "22일<br>54",
          "x": 22,
          "xref": "x",
          "y": 7,
          "yref": "y"
         },
         {
          "font": {
           "color": "black"
          },
          "showarrow": false,
          "text": "23일<br>20",
          "x": 23,
          "xref": "x",
          "y": 7,
          "yref": "y"
         }
        ],
        "height": 650,
        "template": {
         "data": {
          "bar": [
           {
            "error_x": {
             "color": "#2a3f5f"
            },
            "error_y": {
             "color": "#2a3f5f"
            },
            "marker": {
             "line": {
              "color": "#E5ECF6",
              "width": 0.5
             },
             "pattern": {
              "fillmode": "overlay",
              "size": 10,
              "solidity": 0.2
             }
            },
            "type": "bar"
           }
          ],
          "barpolar": [
           {
            "marker": {
             "line": {
              "color": "#E5ECF6",
              "width": 0.5
             },
             "pattern": {
              "fillmode": "overlay",
              "size": 10,
              "solidity": 0.2
             }
            },
            "type": "barpolar"
           }
          ],
          "carpet": [
           {
            "aaxis": {
             "endlinecolor": "#2a3f5f",
             "gridcolor": "white",
             "linecolor": "white",
             "minorgridcolor": "white",
             "startlinecolor": "#2a3f5f"
            },
            "baxis": {
             "endlinecolor": "#2a3f5f",
             "gridcolor": "white",
             "linecolor": "white",
             "minorgridcolor": "white",
             "startlinecolor": "#2a3f5f"
            },
            "type": "carpet"
           }
          ],
          "choropleth": [
           {
            "colorbar": {
             "outlinewidth": 0,
             "ticks": ""
            },
            "type": "choropleth"
           }
          ],
          "contour": [
           {
            "colorbar": {
             "outlinewidth": 0,
             "ticks": ""
            },
            "colorscale": [
             [
              0,
              "#0d0887"
             ],
             [
              0.1111111111111111,
              "#46039f"
             ],
             [
              0.2222222222222222,
              "#7201a8"
             ],
             [
              0.3333333333333333,
              "#9c179e"
             ],
             [
              0.4444444444444444,
              "#bd3786"
             ],
             [
              0.5555555555555556,
              "#d8576b"
             ],
             [
              0.6666666666666666,
              "#ed7953"
             ],
             [
              0.7777777777777778,
              "#fb9f3a"
             ],
             [
              0.8888888888888888,
              "#fdca26"
             ],
             [
              1,
              "#f0f921"
             ]
            ],
            "type": "contour"
           }
          ],
          "contourcarpet": [
           {
            "colorbar": {
             "outlinewidth": 0,
             "ticks": ""
            },
            "type": "contourcarpet"
           }
          ],
          "heatmap": [
           {
            "colorbar": {
             "outlinewidth": 0,
             "ticks": ""
            },
            "colorscale": [
             [
              0,
              "#0d0887"
             ],
             [
              0.1111111111111111,
              "#46039f"
             ],
             [
              0.2222222222222222,
              "#7201a8"
             ],
             [
              0.3333333333333333,
              "#9c179e"
             ],
             [
              0.4444444444444444,
              "#bd3786"
             ],
             [
              0.5555555555555556,
              "#d8576b"
             ],
             [
              0.6666666666666666,
              "#ed7953"
             ],
             [
              0.7777777777777778,
              "#fb9f3a"
             ],
             [
              0.8888888888888888,
              "#fdca26"
             ],
             [
              1,
              "#f0f921"
             ]
            ],
            "type": "heatmap"
           }
          ],
          "heatmapgl": [
           {
            "colorbar": {
             "outlinewidth": 0,
             "ticks": ""
            },
            "colorscale": [
             [
              0,
              "#0d0887"
             ],
             [
              0.1111111111111111,
              "#46039f"
             ],
             [
              0.2222222222222222,
              "#7201a8"
             ],
             [
              0.3333333333333333,
              "#9c179e"
             ],
             [
              0.4444444444444444,
              "#bd3786"
             ],
             [
              0.5555555555555556,
              "#d8576b"
             ],
             [
              0.6666666666666666,
              "#ed7953"
             ],
             [
              0.7777777777777778,
              "#fb9f3a"
             ],
             [
              0.8888888888888888,
              "#fdca26"
             ],
             [
              1,
              "#f0f921"
             ]
            ],
            "type": "heatmapgl"
           }
          ],
          "histogram": [
           {
            "marker": {
             "pattern": {
              "fillmode": "overlay",
              "size": 10,
              "solidity": 0.2
             }
            },
            "type": "histogram"
           }
          ],
          "histogram2d": [
           {
            "colorbar": {
             "outlinewidth": 0,
             "ticks": ""
            },
            "colorscale": [
             [
              0,
              "#0d0887"
             ],
             [
              0.1111111111111111,
              "#46039f"
             ],
             [
              0.2222222222222222,
              "#7201a8"
             ],
             [
              0.3333333333333333,
              "#9c179e"
             ],
             [
              0.4444444444444444,
              "#bd3786"
             ],
             [
              0.5555555555555556,
              "#d8576b"
             ],
             [
              0.6666666666666666,
              "#ed7953"
             ],
             [
              0.7777777777777778,
              "#fb9f3a"
             ],
             [
              0.8888888888888888,
              "#fdca26"
             ],
             [
              1,
              "#f0f921"
             ]
            ],
            "type": "histogram2d"
           }
          ],
          "histogram2dcontour": [
           {
            "colorbar": {
             "outlinewidth": 0,
             "ticks": ""
            },
            "colorscale": [
             [
              0,
              "#0d0887"
             ],
             [
              0.1111111111111111,
              "#46039f"
             ],
             [
              0.2222222222222222,
              "#7201a8"
             ],
             [
              0.3333333333333333,
              "#9c179e"
             ],
             [
              0.4444444444444444,
              "#bd3786"
             ],
             [
              0.5555555555555556,
              "#d8576b"
             ],
             [
              0.6666666666666666,
              "#ed7953"
             ],
             [
              0.7777777777777778,
              "#fb9f3a"
             ],
             [
              0.8888888888888888,
              "#fdca26"
             ],
             [
              1,
              "#f0f921"
             ]
            ],
            "type": "histogram2dcontour"
           }
          ],
          "mesh3d": [
           {
            "colorbar": {
             "outlinewidth": 0,
             "ticks": ""
            },
            "type": "mesh3d"
           }
          ],
          "parcoords": [
           {
            "line": {
             "colorbar": {
              "outlinewidth": 0,
              "ticks": ""
             }
            },
            "type": "parcoords"
           }
          ],
          "pie": [
           {
            "automargin": true,
            "type": "pie"
           }
          ],
          "scatter": [
           {
            "fillpattern": {
             "fillmode": "overlay",
             "size": 10,
             "solidity": 0.2
            },
            "type": "scatter"
           }
          ],
          "scatter3d": [
           {
            "line": {
             "colorbar": {
              "outlinewidth": 0,
              "ticks": ""
             }
            },
            "marker": {
             "colorbar": {
              "outlinewidth": 0,
              "ticks": ""
             }
            },
            "type": "scatter3d"
           }
          ],
          "scattercarpet": [
           {
            "marker": {
             "colorbar": {
              "outlinewidth": 0,
              "ticks": ""
             }
            },
            "type": "scattercarpet"
           }
          ],
          "scattergeo": [
           {
            "marker": {
             "colorbar": {
              "outlinewidth": 0,
              "ticks": ""
             }
            },
            "type": "scattergeo"
           }
          ],
          "scattergl": [
           {
            "marker": {
             "colorbar": {
              "outlinewidth": 0,
              "ticks": ""
             }
            },
            "type": "scattergl"
           }
          ],
          "scattermapbox": [
           {
            "marker": {
             "colorbar": {
              "outlinewidth": 0,
              "ticks": ""
             }
            },
            "type": "scattermapbox"
           }
          ],
          "scatterpolar": [
           {
            "marker": {
             "colorbar": {
              "outlinewidth": 0,
              "ticks": ""
             }
            },
            "type": "scatterpolar"
           }
          ],
          "scatterpolargl": [
           {
            "marker": {
             "colorbar": {
              "outlinewidth": 0,
              "ticks": ""
             }
            },
            "type": "scatterpolargl"
           }
          ],
          "scatterternary": [
           {
            "marker": {
             "colorbar": {
              "outlinewidth": 0,
              "ticks": ""
             }
            },
            "type": "scatterternary"
           }
          ],
          "surface": [
           {
            "colorbar": {
             "outlinewidth": 0,
             "ticks": ""
            },
            "colorscale": [
             [
              0,
              "#0d0887"
             ],
             [
              0.1111111111111111,
              "#46039f"
             ],
             [
              0.2222222222222222,
              "#7201a8"
             ],
             [
              0.3333333333333333,
              "#9c179e"
             ],
             [
              0.4444444444444444,
              "#bd3786"
             ],
             [
              0.5555555555555556,
              "#d8576b"
             ],
             [
              0.6666666666666666,
              "#ed7953"
             ],
             [
              0.7777777777777778,
              "#fb9f3a"
             ],
             [
              0.8888888888888888,
              "#fdca26"
             ],
             [
              1,
              "#f0f921"
             ]
            ],
            "type": "surface"
           }
          ],
          "table": [
           {
            "cells": {
             "fill": {
              "color": "#EBF0F8"
             },
             "line": {
              "color": "white"
             }
            },
            "header": {
             "fill": {
              "color": "#C8D4E3"
             },
             "line": {
              "color": "white"
             }
            },
            "type": "table"
           }
          ]
         },
         "layout": {
          "annotationdefaults": {
           "arrowcolor": "#2a3f5f",
           "arrowhead": 0,
           "arrowwidth": 1
          },
          "autotypenumbers": "strict",
          "coloraxis": {
           "colorbar": {
            "outlinewidth": 0,
            "ticks": ""
           }
          },
          "colorscale": {
           "diverging": [
            [
             0,
             "#8e0152"
            ],
            [
             0.1,
             "#c51b7d"
            ],
            [
             0.2,
             "#de77ae"
            ],
            [
             0.3,
             "#f1b6da"
            ],
            [
             0.4,
             "#fde0ef"
            ],
            [
             0.5,
             "#f7f7f7"
            ],
            [
             0.6,
             "#e6f5d0"
            ],
            [
             0.7,
             "#b8e186"
            ],
            [
             0.8,
             "#7fbc41"
            ],
            [
             0.9,
             "#4d9221"
            ],
            [
             1,
             "#276419"
            ]
           ],
           "sequential": [
            [
             0,
             "#0d0887"
            ],
            [
             0.1111111111111111,
             "#46039f"
            ],
            [
             0.2222222222222222,
             "#7201a8"
            ],
            [
             0.3333333333333333,
             "#9c179e"
            ],
            [
             0.4444444444444444,
             "#bd3786"
            ],
            [
             0.5555555555555556,
             "#d8576b"
            ],
            [
             0.6666666666666666,
             "#ed7953"
            ],
            [
             0.7777777777777778,
             "#fb9f3a"
            ],
            [
             0.8888888888888888,
             "#fdca26"
            ],
            [
             1,
             "#f0f921"
            ]
           ],
           "sequentialminus": [
            [
             0,
             "#0d0887"
            ],
            [
             0.1111111111111111,
             "#46039f"
            ],
            [
             0.2222222222222222,
             "#7201a8"
            ],
            [
             0.3333333333333333,
             "#9c179e"
            ],
            [
             0.4444444444444444,
             "#bd3786"
            ],
            [
             0.5555555555555556,
             "#d8576b"
            ],
            [
             0.6666666666666666,
             "#ed7953"
            ],
            [
             0.7777777777777778,
             "#fb9f3a"
            ],
            [
             0.8888888888888888,
             "#fdca26"
            ],
            [
             1,
             "#f0f921"
            ]
           ]
          },
          "colorway": [
           "#636efa",
           "#EF553B",
           "#00cc96",
           "#ab63fa",
           "#FFA15A",
           "#19d3f3",
           "#FF6692",
           "#B6E880",
           "#FF97FF",
           "#FECB52"
          ],
          "font": {
           "color": "#2a3f5f"
          },
          "geo": {
           "bgcolor": "white",
           "lakecolor": "white",
           "landcolor": "#E5ECF6",
           "showlakes": true,
           "showland": true,
           "subunitcolor": "white"
          },
          "hoverlabel": {
           "align": "left"
          },
          "hovermode": "closest",
          "mapbox": {
           "style": "light"
          },
          "paper_bgcolor": "white",
          "plot_bgcolor": "#E5ECF6",
          "polar": {
           "angularaxis": {
            "gridcolor": "white",
            "linecolor": "white",
            "ticks": ""
           },
           "bgcolor": "#E5ECF6",
           "radialaxis": {
            "gridcolor": "white",
            "linecolor": "white",
            "ticks": ""
           }
          },
          "scene": {
           "xaxis": {
            "backgroundcolor": "#E5ECF6",
            "gridcolor": "white",
            "gridwidth": 2,
            "linecolor": "white",
            "showbackground": true,
            "ticks": "",
            "zerolinecolor": "white"
           },
           "yaxis": {
            "backgroundcolor": "#E5ECF6",
            "gridcolor": "white",
            "gridwidth": 2,
            "linecolor": "white",
            "showbackground": true,
            "ticks": "",
            "zerolinecolor": "white"
           },
           "zaxis": {
            "backgroundcolor": "#E5ECF6",
            "gridcolor": "white",
            "gridwidth": 2,
            "linecolor": "white",
            "showbackground": true,
            "ticks": "",
            "zerolinecolor": "white"
           }
          },
          "shapedefaults": {
           "line": {
            "color": "#2a3f5f"
           }
          },
          "ternary": {
           "aaxis": {
            "gridcolor": "white",
            "linecolor": "white",
            "ticks": ""
           },
           "baxis": {
            "gridcolor": "white",
            "linecolor": "white",
            "ticks": ""
           },
           "bgcolor": "#E5ECF6",
           "caxis": {
            "gridcolor": "white",
            "linecolor": "white",
            "ticks": ""
           }
          },
          "title": {
           "x": 0.05
          },
          "xaxis": {
           "automargin": true,
           "gridcolor": "white",
           "linecolor": "white",
           "ticks": "",
           "title": {
            "standoff": 15
           },
           "zerolinecolor": "white",
           "zerolinewidth": 2
          },
          "yaxis": {
           "automargin": true,
           "gridcolor": "white",
           "linecolor": "white",
           "ticks": "",
           "title": {
            "standoff": 15
           },
           "zerolinecolor": "white",
           "zerolinewidth": 2
          }
         }
        },
        "title": {
         "text": "요일별 시간당 Unique visitor 수 matrix"
        },
        "width": 2000,
        "xaxis": {
         "ticktext": [
          "0",
          "1",
          "2",
          "3",
          "4",
          "5",
          "6",
          "7",
          "8",
          "9",
          "10",
          "11",
          "12",
          "13",
          "14",
          "15",
          "16",
          "17",
          "18",
          "19",
          "20",
          "21",
          "22",
          "23",
          "24"
         ],
         "tickvals": [
          0,
          1,
          2,
          3,
          4,
          5,
          6,
          7,
          8,
          9,
          10,
          11,
          12,
          13,
          14,
          15,
          16,
          17,
          18,
          19,
          20,
          21,
          22,
          23,
          24
         ],
         "title": {
          "text": "Hour of Day"
         }
        },
        "yaxis": {
         "ticktext": [
          "",
          "월",
          "화",
          "수",
          "목",
          "금",
          "토",
          "일"
         ],
         "tickvals": [
          0,
          1,
          2,
          3,
          4,
          5,
          6,
          7
         ],
         "title": {
          "text": "Day of Week"
         }
        }
       }
      },
      "text/html": [
       "<div>                            <div id=\"ea79b6c9-c1e9-4833-845d-b69544a04440\" class=\"plotly-graph-div\" style=\"height:650px; width:2000px;\"></div>            <script type=\"text/javascript\">                require([\"plotly\"], function(Plotly) {                    window.PLOTLYENV=window.PLOTLYENV || {};                                    if (document.getElementById(\"ea79b6c9-c1e9-4833-845d-b69544a04440\")) {                    Plotly.newPlot(                        \"ea79b6c9-c1e9-4833-845d-b69544a04440\",                        [{\"colorbar\":{\"title\":{\"text\":\"Unique Visits\"}},\"colorscale\":[[0.0,\"#440154\"],[0.1111111111111111,\"#482878\"],[0.2222222222222222,\"#3e4989\"],[0.3333333333333333,\"#31688e\"],[0.4444444444444444,\"#26828e\"],[0.5555555555555556,\"#1f9e89\"],[0.6666666666666666,\"#35b779\"],[0.7777777777777778,\"#6ece58\"],[0.8888888888888888,\"#b5de2b\"],[1.0,\"#fde725\"]],\"hoverinfo\":\"text\",\"text\":[[\"103 visits<br> 0\\uc2dc\",\"78 visits<br> 1\\uc2dc\",\"39 visits<br> 2\\uc2dc\",\"36 visits<br> 3\\uc2dc\",\"29 visits<br> 4\\uc2dc\",\"23 visits<br> 5\\uc2dc\",\"24 visits<br> 6\\uc2dc\",\"24 visits<br> 7\\uc2dc\",\"52 visits<br> 8\\uc2dc\",\"69 visits<br> 9\\uc2dc\",\"69 visits<br> 10\\uc2dc\",\"86 visits<br> 11\\uc2dc\",\"81 visits<br> 12\\uc2dc\",\"77 visits<br> 13\\uc2dc\",\"66 visits<br> 14\\uc2dc\",\"55 visits<br> 15\\uc2dc\",\"71 visits<br> 16\\uc2dc\",\"65 visits<br> 17\\uc2dc\",\"56 visits<br> 18\\uc2dc\",\"59 visits<br> 19\\uc2dc\",\"51 visits<br> 20\\uc2dc\",\"58 visits<br> 21\\uc2dc\",\"43 visits<br> 22\\uc2dc\",\"10 visits<br> 23\\uc2dc\"],[\"101 visits<br>\\uc6d4 0\\uc2dc\",\"53 visits<br>\\uc6d4 1\\uc2dc\",\"43 visits<br>\\uc6d4 2\\uc2dc\",\"14 visits<br>\\uc6d4 3\\uc2dc\",\"16 visits<br>\\uc6d4 4\\uc2dc\",\"19 visits<br>\\uc6d4 5\\uc2dc\",\"27 visits<br>\\uc6d4 6\\uc2dc\",\"46 visits<br>\\uc6d4 7\\uc2dc\",\"62 visits<br>\\uc6d4 8\\uc2dc\",\"59 visits<br>\\uc6d4 9\\uc2dc\",\"50 visits<br>\\uc6d4 10\\uc2dc\",\"44 visits<br>\\uc6d4 11\\uc2dc\",\"49 visits<br>\\uc6d4 12\\uc2dc\",\"45 visits<br>\\uc6d4 13\\uc2dc\",\"61 visits<br>\\uc6d4 14\\uc2dc\",\"58 visits<br>\\uc6d4 15\\uc2dc\",\"104 visits<br>\\uc6d4 16\\uc2dc\",\"146 visits<br>\\uc6d4 17\\uc2dc\",\"156 visits<br>\\uc6d4 18\\uc2dc\",\"91 visits<br>\\uc6d4 19\\uc2dc\",\"101 visits<br>\\uc6d4 20\\uc2dc\",\"156 visits<br>\\uc6d4 21\\uc2dc\",\"179 visits<br>\\uc6d4 22\\uc2dc\",\"123 visits<br>\\uc6d4 23\\uc2dc\"],[\"158 visits<br>\\ud654 0\\uc2dc\",\"88 visits<br>\\ud654 1\\uc2dc\",\"57 visits<br>\\ud654 2\\uc2dc\",\"32 visits<br>\\ud654 3\\uc2dc\",\"23 visits<br>\\ud654 4\\uc2dc\",\"23 visits<br>\\ud654 5\\uc2dc\",\"49 visits<br>\\ud654 6\\uc2dc\",\"59 visits<br>\\ud654 7\\uc2dc\",\"98 visits<br>\\ud654 8\\uc2dc\",\"76 visits<br>\\ud654 9\\uc2dc\",\"93 visits<br>\\ud654 10\\uc2dc\",\"83 visits<br>\\ud654 11\\uc2dc\",\"101 visits<br>\\ud654 12\\uc2dc\",\"97 visits<br>\\ud654 13\\uc2dc\",\"79 visits<br>\\ud654 14\\uc2dc\",\"97 visits<br>\\ud654 15\\uc2dc\",\"74 visits<br>\\ud654 16\\uc2dc\",\"77 visits<br>\\ud654 17\\uc2dc\",\"115 visits<br>\\ud654 18\\uc2dc\",\"87 visits<br>\\ud654 19\\uc2dc\",\"81 visits<br>\\ud654 20\\uc2dc\",\"77 visits<br>\\ud654 21\\uc2dc\",\"77 visits<br>\\ud654 22\\uc2dc\",\"96 visits<br>\\ud654 23\\uc2dc\"],[\"101 visits<br>\\uc218 0\\uc2dc\",\"66 visits<br>\\uc218 1\\uc2dc\",\"30 visits<br>\\uc218 2\\uc2dc\",\"31 visits<br>\\uc218 3\\uc2dc\",\"15 visits<br>\\uc218 4\\uc2dc\",\"27 visits<br>\\uc218 5\\uc2dc\",\"39 visits<br>\\uc218 6\\uc2dc\",\"48 visits<br>\\uc218 7\\uc2dc\",\"72 visits<br>\\uc218 8\\uc2dc\",\"61 visits<br>\\uc218 9\\uc2dc\",\"76 visits<br>\\uc218 10\\uc2dc\",\"51 visits<br>\\uc218 11\\uc2dc\",\"60 visits<br>\\uc218 12\\uc2dc\",\"68 visits<br>\\uc218 13\\uc2dc\",\"61 visits<br>\\uc218 14\\uc2dc\",\"73 visits<br>\\uc218 15\\uc2dc\",\"64 visits<br>\\uc218 16\\uc2dc\",\"43 visits<br>\\uc218 17\\uc2dc\",\"68 visits<br>\\uc218 18\\uc2dc\",\"33 visits<br>\\uc218 19\\uc2dc\",\"51 visits<br>\\uc218 20\\uc2dc\",\"49 visits<br>\\uc218 21\\uc2dc\",\"38 visits<br>\\uc218 22\\uc2dc\",\"62 visits<br>\\uc218 23\\uc2dc\"],[\"73 visits<br>\\ubaa9 0\\uc2dc\",\"46 visits<br>\\ubaa9 1\\uc2dc\",\"17 visits<br>\\ubaa9 2\\uc2dc\",\"18 visits<br>\\ubaa9 3\\uc2dc\",\"15 visits<br>\\ubaa9 4\\uc2dc\",\"8 visits<br>\\ubaa9 5\\uc2dc\",\"22 visits<br>\\ubaa9 6\\uc2dc\",\"25 visits<br>\\ubaa9 7\\uc2dc\",\"40 visits<br>\\ubaa9 8\\uc2dc\",\"50 visits<br>\\ubaa9 9\\uc2dc\",\"46 visits<br>\\ubaa9 10\\uc2dc\",\"49 visits<br>\\ubaa9 11\\uc2dc\",\"57 visits<br>\\ubaa9 12\\uc2dc\",\"54 visits<br>\\ubaa9 13\\uc2dc\",\"59 visits<br>\\ubaa9 14\\uc2dc\",\"59 visits<br>\\ubaa9 15\\uc2dc\",\"76 visits<br>\\ubaa9 16\\uc2dc\",\"41 visits<br>\\ubaa9 17\\uc2dc\",\"78 visits<br>\\ubaa9 18\\uc2dc\",\"67 visits<br>\\ubaa9 19\\uc2dc\",\"56 visits<br>\\ubaa9 20\\uc2dc\",\"65 visits<br>\\ubaa9 21\\uc2dc\",\"60 visits<br>\\ubaa9 22\\uc2dc\",\"66 visits<br>\\ubaa9 23\\uc2dc\"],[\"68 visits<br>\\uae08 0\\uc2dc\",\"50 visits<br>\\uae08 1\\uc2dc\",\"43 visits<br>\\uae08 2\\uc2dc\",\"20 visits<br>\\uae08 3\\uc2dc\",\"27 visits<br>\\uae08 4\\uc2dc\",\"10 visits<br>\\uae08 5\\uc2dc\",\"21 visits<br>\\uae08 6\\uc2dc\",\"58 visits<br>\\uae08 7\\uc2dc\",\"60 visits<br>\\uae08 8\\uc2dc\",\"60 visits<br>\\uae08 9\\uc2dc\",\"51 visits<br>\\uae08 10\\uc2dc\",\"39 visits<br>\\uae08 11\\uc2dc\",\"66 visits<br>\\uae08 12\\uc2dc\",\"39 visits<br>\\uae08 13\\uc2dc\",\"58 visits<br>\\uae08 14\\uc2dc\",\"62 visits<br>\\uae08 15\\uc2dc\",\"82 visits<br>\\uae08 16\\uc2dc\",\"97 visits<br>\\uae08 17\\uc2dc\",\"62 visits<br>\\uae08 18\\uc2dc\",\"75 visits<br>\\uae08 19\\uc2dc\",\"62 visits<br>\\uae08 20\\uc2dc\",\"55 visits<br>\\uae08 21\\uc2dc\",\"53 visits<br>\\uae08 22\\uc2dc\",\"36 visits<br>\\uae08 23\\uc2dc\"],[\"85 visits<br>\\ud1a0 0\\uc2dc\",\"73 visits<br>\\ud1a0 1\\uc2dc\",\"34 visits<br>\\ud1a0 2\\uc2dc\",\"21 visits<br>\\ud1a0 3\\uc2dc\",\"28 visits<br>\\ud1a0 4\\uc2dc\",\"16 visits<br>\\ud1a0 5\\uc2dc\",\"25 visits<br>\\ud1a0 6\\uc2dc\",\"43 visits<br>\\ud1a0 7\\uc2dc\",\"54 visits<br>\\ud1a0 8\\uc2dc\",\"60 visits<br>\\ud1a0 9\\uc2dc\",\"40 visits<br>\\ud1a0 10\\uc2dc\",\"57 visits<br>\\ud1a0 11\\uc2dc\",\"68 visits<br>\\ud1a0 12\\uc2dc\",\"54 visits<br>\\ud1a0 13\\uc2dc\",\"49 visits<br>\\ud1a0 14\\uc2dc\",\"50 visits<br>\\ud1a0 15\\uc2dc\",\"53 visits<br>\\ud1a0 16\\uc2dc\",\"45 visits<br>\\ud1a0 17\\uc2dc\",\"47 visits<br>\\ud1a0 18\\uc2dc\",\"53 visits<br>\\ud1a0 19\\uc2dc\",\"60 visits<br>\\ud1a0 20\\uc2dc\",\"69 visits<br>\\ud1a0 21\\uc2dc\",\"54 visits<br>\\ud1a0 22\\uc2dc\",\"20 visits<br>\\ud1a0 23\\uc2dc\"]],\"x\":[0,1,2,3,4,5,6,7,8,9,10,11,12,13,14,15,16,17,18,19,20,21,22,23],\"y\":[1,2,3,4,5,6,7],\"z\":[[103,78,39,36,29,23,24,24,52,69,69,86,81,77,66,55,71,65,56,59,51,58,43,10],[101,53,43,14,16,19,27,46,62,59,50,44,49,45,61,58,104,146,156,91,101,156,179,123],[158,88,57,32,23,23,49,59,98,76,93,83,101,97,79,97,74,77,115,87,81,77,77,96],[101,66,30,31,15,27,39,48,72,61,76,51,60,68,61,73,64,43,68,33,51,49,38,62],[73,46,17,18,15,8,22,25,40,50,46,49,57,54,59,59,76,41,78,67,56,65,60,66],[68,50,43,20,27,10,21,58,60,60,51,39,66,39,58,62,82,97,62,75,62,55,53,36],[85,73,34,21,28,16,25,43,54,60,40,57,68,54,49,50,53,45,47,53,60,69,54,20]],\"type\":\"heatmap\"}],                        {\"template\":{\"data\":{\"histogram2dcontour\":[{\"type\":\"histogram2dcontour\",\"colorbar\":{\"outlinewidth\":0,\"ticks\":\"\"},\"colorscale\":[[0.0,\"#0d0887\"],[0.1111111111111111,\"#46039f\"],[0.2222222222222222,\"#7201a8\"],[0.3333333333333333,\"#9c179e\"],[0.4444444444444444,\"#bd3786\"],[0.5555555555555556,\"#d8576b\"],[0.6666666666666666,\"#ed7953\"],[0.7777777777777778,\"#fb9f3a\"],[0.8888888888888888,\"#fdca26\"],[1.0,\"#f0f921\"]]}],\"choropleth\":[{\"type\":\"choropleth\",\"colorbar\":{\"outlinewidth\":0,\"ticks\":\"\"}}],\"histogram2d\":[{\"type\":\"histogram2d\",\"colorbar\":{\"outlinewidth\":0,\"ticks\":\"\"},\"colorscale\":[[0.0,\"#0d0887\"],[0.1111111111111111,\"#46039f\"],[0.2222222222222222,\"#7201a8\"],[0.3333333333333333,\"#9c179e\"],[0.4444444444444444,\"#bd3786\"],[0.5555555555555556,\"#d8576b\"],[0.6666666666666666,\"#ed7953\"],[0.7777777777777778,\"#fb9f3a\"],[0.8888888888888888,\"#fdca26\"],[1.0,\"#f0f921\"]]}],\"heatmap\":[{\"type\":\"heatmap\",\"colorbar\":{\"outlinewidth\":0,\"ticks\":\"\"},\"colorscale\":[[0.0,\"#0d0887\"],[0.1111111111111111,\"#46039f\"],[0.2222222222222222,\"#7201a8\"],[0.3333333333333333,\"#9c179e\"],[0.4444444444444444,\"#bd3786\"],[0.5555555555555556,\"#d8576b\"],[0.6666666666666666,\"#ed7953\"],[0.7777777777777778,\"#fb9f3a\"],[0.8888888888888888,\"#fdca26\"],[1.0,\"#f0f921\"]]}],\"heatmapgl\":[{\"type\":\"heatmapgl\",\"colorbar\":{\"outlinewidth\":0,\"ticks\":\"\"},\"colorscale\":[[0.0,\"#0d0887\"],[0.1111111111111111,\"#46039f\"],[0.2222222222222222,\"#7201a8\"],[0.3333333333333333,\"#9c179e\"],[0.4444444444444444,\"#bd3786\"],[0.5555555555555556,\"#d8576b\"],[0.6666666666666666,\"#ed7953\"],[0.7777777777777778,\"#fb9f3a\"],[0.8888888888888888,\"#fdca26\"],[1.0,\"#f0f921\"]]}],\"contourcarpet\":[{\"type\":\"contourcarpet\",\"colorbar\":{\"outlinewidth\":0,\"ticks\":\"\"}}],\"contour\":[{\"type\":\"contour\",\"colorbar\":{\"outlinewidth\":0,\"ticks\":\"\"},\"colorscale\":[[0.0,\"#0d0887\"],[0.1111111111111111,\"#46039f\"],[0.2222222222222222,\"#7201a8\"],[0.3333333333333333,\"#9c179e\"],[0.4444444444444444,\"#bd3786\"],[0.5555555555555556,\"#d8576b\"],[0.6666666666666666,\"#ed7953\"],[0.7777777777777778,\"#fb9f3a\"],[0.8888888888888888,\"#fdca26\"],[1.0,\"#f0f921\"]]}],\"surface\":[{\"type\":\"surface\",\"colorbar\":{\"outlinewidth\":0,\"ticks\":\"\"},\"colorscale\":[[0.0,\"#0d0887\"],[0.1111111111111111,\"#46039f\"],[0.2222222222222222,\"#7201a8\"],[0.3333333333333333,\"#9c179e\"],[0.4444444444444444,\"#bd3786\"],[0.5555555555555556,\"#d8576b\"],[0.6666666666666666,\"#ed7953\"],[0.7777777777777778,\"#fb9f3a\"],[0.8888888888888888,\"#fdca26\"],[1.0,\"#f0f921\"]]}],\"mesh3d\":[{\"type\":\"mesh3d\",\"colorbar\":{\"outlinewidth\":0,\"ticks\":\"\"}}],\"scatter\":[{\"fillpattern\":{\"fillmode\":\"overlay\",\"size\":10,\"solidity\":0.2},\"type\":\"scatter\"}],\"parcoords\":[{\"type\":\"parcoords\",\"line\":{\"colorbar\":{\"outlinewidth\":0,\"ticks\":\"\"}}}],\"scatterpolargl\":[{\"type\":\"scatterpolargl\",\"marker\":{\"colorbar\":{\"outlinewidth\":0,\"ticks\":\"\"}}}],\"bar\":[{\"error_x\":{\"color\":\"#2a3f5f\"},\"error_y\":{\"color\":\"#2a3f5f\"},\"marker\":{\"line\":{\"color\":\"#E5ECF6\",\"width\":0.5},\"pattern\":{\"fillmode\":\"overlay\",\"size\":10,\"solidity\":0.2}},\"type\":\"bar\"}],\"scattergeo\":[{\"type\":\"scattergeo\",\"marker\":{\"colorbar\":{\"outlinewidth\":0,\"ticks\":\"\"}}}],\"scatterpolar\":[{\"type\":\"scatterpolar\",\"marker\":{\"colorbar\":{\"outlinewidth\":0,\"ticks\":\"\"}}}],\"histogram\":[{\"marker\":{\"pattern\":{\"fillmode\":\"overlay\",\"size\":10,\"solidity\":0.2}},\"type\":\"histogram\"}],\"scattergl\":[{\"type\":\"scattergl\",\"marker\":{\"colorbar\":{\"outlinewidth\":0,\"ticks\":\"\"}}}],\"scatter3d\":[{\"type\":\"scatter3d\",\"line\":{\"colorbar\":{\"outlinewidth\":0,\"ticks\":\"\"}},\"marker\":{\"colorbar\":{\"outlinewidth\":0,\"ticks\":\"\"}}}],\"scattermapbox\":[{\"type\":\"scattermapbox\",\"marker\":{\"colorbar\":{\"outlinewidth\":0,\"ticks\":\"\"}}}],\"scatterternary\":[{\"type\":\"scatterternary\",\"marker\":{\"colorbar\":{\"outlinewidth\":0,\"ticks\":\"\"}}}],\"scattercarpet\":[{\"type\":\"scattercarpet\",\"marker\":{\"colorbar\":{\"outlinewidth\":0,\"ticks\":\"\"}}}],\"carpet\":[{\"aaxis\":{\"endlinecolor\":\"#2a3f5f\",\"gridcolor\":\"white\",\"linecolor\":\"white\",\"minorgridcolor\":\"white\",\"startlinecolor\":\"#2a3f5f\"},\"baxis\":{\"endlinecolor\":\"#2a3f5f\",\"gridcolor\":\"white\",\"linecolor\":\"white\",\"minorgridcolor\":\"white\",\"startlinecolor\":\"#2a3f5f\"},\"type\":\"carpet\"}],\"table\":[{\"cells\":{\"fill\":{\"color\":\"#EBF0F8\"},\"line\":{\"color\":\"white\"}},\"header\":{\"fill\":{\"color\":\"#C8D4E3\"},\"line\":{\"color\":\"white\"}},\"type\":\"table\"}],\"barpolar\":[{\"marker\":{\"line\":{\"color\":\"#E5ECF6\",\"width\":0.5},\"pattern\":{\"fillmode\":\"overlay\",\"size\":10,\"solidity\":0.2}},\"type\":\"barpolar\"}],\"pie\":[{\"automargin\":true,\"type\":\"pie\"}]},\"layout\":{\"autotypenumbers\":\"strict\",\"colorway\":[\"#636efa\",\"#EF553B\",\"#00cc96\",\"#ab63fa\",\"#FFA15A\",\"#19d3f3\",\"#FF6692\",\"#B6E880\",\"#FF97FF\",\"#FECB52\"],\"font\":{\"color\":\"#2a3f5f\"},\"hovermode\":\"closest\",\"hoverlabel\":{\"align\":\"left\"},\"paper_bgcolor\":\"white\",\"plot_bgcolor\":\"#E5ECF6\",\"polar\":{\"bgcolor\":\"#E5ECF6\",\"angularaxis\":{\"gridcolor\":\"white\",\"linecolor\":\"white\",\"ticks\":\"\"},\"radialaxis\":{\"gridcolor\":\"white\",\"linecolor\":\"white\",\"ticks\":\"\"}},\"ternary\":{\"bgcolor\":\"#E5ECF6\",\"aaxis\":{\"gridcolor\":\"white\",\"linecolor\":\"white\",\"ticks\":\"\"},\"baxis\":{\"gridcolor\":\"white\",\"linecolor\":\"white\",\"ticks\":\"\"},\"caxis\":{\"gridcolor\":\"white\",\"linecolor\":\"white\",\"ticks\":\"\"}},\"coloraxis\":{\"colorbar\":{\"outlinewidth\":0,\"ticks\":\"\"}},\"colorscale\":{\"sequential\":[[0.0,\"#0d0887\"],[0.1111111111111111,\"#46039f\"],[0.2222222222222222,\"#7201a8\"],[0.3333333333333333,\"#9c179e\"],[0.4444444444444444,\"#bd3786\"],[0.5555555555555556,\"#d8576b\"],[0.6666666666666666,\"#ed7953\"],[0.7777777777777778,\"#fb9f3a\"],[0.8888888888888888,\"#fdca26\"],[1.0,\"#f0f921\"]],\"sequentialminus\":[[0.0,\"#0d0887\"],[0.1111111111111111,\"#46039f\"],[0.2222222222222222,\"#7201a8\"],[0.3333333333333333,\"#9c179e\"],[0.4444444444444444,\"#bd3786\"],[0.5555555555555556,\"#d8576b\"],[0.6666666666666666,\"#ed7953\"],[0.7777777777777778,\"#fb9f3a\"],[0.8888888888888888,\"#fdca26\"],[1.0,\"#f0f921\"]],\"diverging\":[[0,\"#8e0152\"],[0.1,\"#c51b7d\"],[0.2,\"#de77ae\"],[0.3,\"#f1b6da\"],[0.4,\"#fde0ef\"],[0.5,\"#f7f7f7\"],[0.6,\"#e6f5d0\"],[0.7,\"#b8e186\"],[0.8,\"#7fbc41\"],[0.9,\"#4d9221\"],[1,\"#276419\"]]},\"xaxis\":{\"gridcolor\":\"white\",\"linecolor\":\"white\",\"ticks\":\"\",\"title\":{\"standoff\":15},\"zerolinecolor\":\"white\",\"automargin\":true,\"zerolinewidth\":2},\"yaxis\":{\"gridcolor\":\"white\",\"linecolor\":\"white\",\"ticks\":\"\",\"title\":{\"standoff\":15},\"zerolinecolor\":\"white\",\"automargin\":true,\"zerolinewidth\":2},\"scene\":{\"xaxis\":{\"backgroundcolor\":\"#E5ECF6\",\"gridcolor\":\"white\",\"linecolor\":\"white\",\"showbackground\":true,\"ticks\":\"\",\"zerolinecolor\":\"white\",\"gridwidth\":2},\"yaxis\":{\"backgroundcolor\":\"#E5ECF6\",\"gridcolor\":\"white\",\"linecolor\":\"white\",\"showbackground\":true,\"ticks\":\"\",\"zerolinecolor\":\"white\",\"gridwidth\":2},\"zaxis\":{\"backgroundcolor\":\"#E5ECF6\",\"gridcolor\":\"white\",\"linecolor\":\"white\",\"showbackground\":true,\"ticks\":\"\",\"zerolinecolor\":\"white\",\"gridwidth\":2}},\"shapedefaults\":{\"line\":{\"color\":\"#2a3f5f\"}},\"annotationdefaults\":{\"arrowcolor\":\"#2a3f5f\",\"arrowhead\":0,\"arrowwidth\":1},\"geo\":{\"bgcolor\":\"white\",\"landcolor\":\"#E5ECF6\",\"subunitcolor\":\"white\",\"showland\":true,\"showlakes\":true,\"lakecolor\":\"white\"},\"title\":{\"x\":0.05},\"mapbox\":{\"style\":\"light\"}}},\"xaxis\":{\"title\":{\"text\":\"Hour of Day\"},\"tickvals\":[0,1,2,3,4,5,6,7,8,9,10,11,12,13,14,15,16,17,18,19,20,21,22,23,24],\"ticktext\":[\"0\",\"1\",\"2\",\"3\",\"4\",\"5\",\"6\",\"7\",\"8\",\"9\",\"10\",\"11\",\"12\",\"13\",\"14\",\"15\",\"16\",\"17\",\"18\",\"19\",\"20\",\"21\",\"22\",\"23\",\"24\"]},\"yaxis\":{\"title\":{\"text\":\"Day of Week\"},\"tickvals\":[0,1,2,3,4,5,6,7],\"ticktext\":[\"\",\"\\uc6d4\",\"\\ud654\",\"\\uc218\",\"\\ubaa9\",\"\\uae08\",\"\\ud1a0\",\"\\uc77c\"]},\"title\":{\"text\":\"\\uc694\\uc77c\\ubcc4 \\uc2dc\\uac04\\ub2f9 Unique visitor \\uc218 matrix\"},\"annotations\":[{\"font\":{\"color\":\"black\"},\"showarrow\":false,\"text\":\"0\\uc6d4<br>103\",\"x\":0,\"xref\":\"x\",\"y\":1,\"yref\":\"y\"},{\"font\":{\"color\":\"black\"},\"showarrow\":false,\"text\":\"1\\uc6d4<br>78\",\"x\":1,\"xref\":\"x\",\"y\":1,\"yref\":\"y\"},{\"font\":{\"color\":\"black\"},\"showarrow\":false,\"text\":\"2\\uc6d4<br>39\",\"x\":2,\"xref\":\"x\",\"y\":1,\"yref\":\"y\"},{\"font\":{\"color\":\"black\"},\"showarrow\":false,\"text\":\"3\\uc6d4<br>36\",\"x\":3,\"xref\":\"x\",\"y\":1,\"yref\":\"y\"},{\"font\":{\"color\":\"black\"},\"showarrow\":false,\"text\":\"4\\uc6d4<br>29\",\"x\":4,\"xref\":\"x\",\"y\":1,\"yref\":\"y\"},{\"font\":{\"color\":\"black\"},\"showarrow\":false,\"text\":\"5\\uc6d4<br>23\",\"x\":5,\"xref\":\"x\",\"y\":1,\"yref\":\"y\"},{\"font\":{\"color\":\"black\"},\"showarrow\":false,\"text\":\"6\\uc6d4<br>24\",\"x\":6,\"xref\":\"x\",\"y\":1,\"yref\":\"y\"},{\"font\":{\"color\":\"black\"},\"showarrow\":false,\"text\":\"7\\uc6d4<br>24\",\"x\":7,\"xref\":\"x\",\"y\":1,\"yref\":\"y\"},{\"font\":{\"color\":\"black\"},\"showarrow\":false,\"text\":\"8\\uc6d4<br>52\",\"x\":8,\"xref\":\"x\",\"y\":1,\"yref\":\"y\"},{\"font\":{\"color\":\"black\"},\"showarrow\":false,\"text\":\"9\\uc6d4<br>69\",\"x\":9,\"xref\":\"x\",\"y\":1,\"yref\":\"y\"},{\"font\":{\"color\":\"black\"},\"showarrow\":false,\"text\":\"10\\uc6d4<br>69\",\"x\":10,\"xref\":\"x\",\"y\":1,\"yref\":\"y\"},{\"font\":{\"color\":\"black\"},\"showarrow\":false,\"text\":\"11\\uc6d4<br>86\",\"x\":11,\"xref\":\"x\",\"y\":1,\"yref\":\"y\"},{\"font\":{\"color\":\"black\"},\"showarrow\":false,\"text\":\"12\\uc6d4<br>81\",\"x\":12,\"xref\":\"x\",\"y\":1,\"yref\":\"y\"},{\"font\":{\"color\":\"black\"},\"showarrow\":false,\"text\":\"13\\uc6d4<br>77\",\"x\":13,\"xref\":\"x\",\"y\":1,\"yref\":\"y\"},{\"font\":{\"color\":\"black\"},\"showarrow\":false,\"text\":\"14\\uc6d4<br>66\",\"x\":14,\"xref\":\"x\",\"y\":1,\"yref\":\"y\"},{\"font\":{\"color\":\"black\"},\"showarrow\":false,\"text\":\"15\\uc6d4<br>55\",\"x\":15,\"xref\":\"x\",\"y\":1,\"yref\":\"y\"},{\"font\":{\"color\":\"black\"},\"showarrow\":false,\"text\":\"16\\uc6d4<br>71\",\"x\":16,\"xref\":\"x\",\"y\":1,\"yref\":\"y\"},{\"font\":{\"color\":\"black\"},\"showarrow\":false,\"text\":\"17\\uc6d4<br>65\",\"x\":17,\"xref\":\"x\",\"y\":1,\"yref\":\"y\"},{\"font\":{\"color\":\"black\"},\"showarrow\":false,\"text\":\"18\\uc6d4<br>56\",\"x\":18,\"xref\":\"x\",\"y\":1,\"yref\":\"y\"},{\"font\":{\"color\":\"black\"},\"showarrow\":false,\"text\":\"19\\uc6d4<br>59\",\"x\":19,\"xref\":\"x\",\"y\":1,\"yref\":\"y\"},{\"font\":{\"color\":\"black\"},\"showarrow\":false,\"text\":\"20\\uc6d4<br>51\",\"x\":20,\"xref\":\"x\",\"y\":1,\"yref\":\"y\"},{\"font\":{\"color\":\"black\"},\"showarrow\":false,\"text\":\"21\\uc6d4<br>58\",\"x\":21,\"xref\":\"x\",\"y\":1,\"yref\":\"y\"},{\"font\":{\"color\":\"black\"},\"showarrow\":false,\"text\":\"22\\uc6d4<br>43\",\"x\":22,\"xref\":\"x\",\"y\":1,\"yref\":\"y\"},{\"font\":{\"color\":\"black\"},\"showarrow\":false,\"text\":\"23\\uc6d4<br>10\",\"x\":23,\"xref\":\"x\",\"y\":1,\"yref\":\"y\"},{\"font\":{\"color\":\"black\"},\"showarrow\":false,\"text\":\"0\\ud654<br>101\",\"x\":0,\"xref\":\"x\",\"y\":2,\"yref\":\"y\"},{\"font\":{\"color\":\"black\"},\"showarrow\":false,\"text\":\"1\\ud654<br>53\",\"x\":1,\"xref\":\"x\",\"y\":2,\"yref\":\"y\"},{\"font\":{\"color\":\"black\"},\"showarrow\":false,\"text\":\"2\\ud654<br>43\",\"x\":2,\"xref\":\"x\",\"y\":2,\"yref\":\"y\"},{\"font\":{\"color\":\"black\"},\"showarrow\":false,\"text\":\"3\\ud654<br>14\",\"x\":3,\"xref\":\"x\",\"y\":2,\"yref\":\"y\"},{\"font\":{\"color\":\"black\"},\"showarrow\":false,\"text\":\"4\\ud654<br>16\",\"x\":4,\"xref\":\"x\",\"y\":2,\"yref\":\"y\"},{\"font\":{\"color\":\"black\"},\"showarrow\":false,\"text\":\"5\\ud654<br>19\",\"x\":5,\"xref\":\"x\",\"y\":2,\"yref\":\"y\"},{\"font\":{\"color\":\"black\"},\"showarrow\":false,\"text\":\"6\\ud654<br>27\",\"x\":6,\"xref\":\"x\",\"y\":2,\"yref\":\"y\"},{\"font\":{\"color\":\"black\"},\"showarrow\":false,\"text\":\"7\\ud654<br>46\",\"x\":7,\"xref\":\"x\",\"y\":2,\"yref\":\"y\"},{\"font\":{\"color\":\"black\"},\"showarrow\":false,\"text\":\"8\\ud654<br>62\",\"x\":8,\"xref\":\"x\",\"y\":2,\"yref\":\"y\"},{\"font\":{\"color\":\"black\"},\"showarrow\":false,\"text\":\"9\\ud654<br>59\",\"x\":9,\"xref\":\"x\",\"y\":2,\"yref\":\"y\"},{\"font\":{\"color\":\"black\"},\"showarrow\":false,\"text\":\"10\\ud654<br>50\",\"x\":10,\"xref\":\"x\",\"y\":2,\"yref\":\"y\"},{\"font\":{\"color\":\"black\"},\"showarrow\":false,\"text\":\"11\\ud654<br>44\",\"x\":11,\"xref\":\"x\",\"y\":2,\"yref\":\"y\"},{\"font\":{\"color\":\"black\"},\"showarrow\":false,\"text\":\"12\\ud654<br>49\",\"x\":12,\"xref\":\"x\",\"y\":2,\"yref\":\"y\"},{\"font\":{\"color\":\"black\"},\"showarrow\":false,\"text\":\"13\\ud654<br>45\",\"x\":13,\"xref\":\"x\",\"y\":2,\"yref\":\"y\"},{\"font\":{\"color\":\"black\"},\"showarrow\":false,\"text\":\"14\\ud654<br>61\",\"x\":14,\"xref\":\"x\",\"y\":2,\"yref\":\"y\"},{\"font\":{\"color\":\"black\"},\"showarrow\":false,\"text\":\"15\\ud654<br>58\",\"x\":15,\"xref\":\"x\",\"y\":2,\"yref\":\"y\"},{\"font\":{\"color\":\"black\"},\"showarrow\":false,\"text\":\"16\\ud654<br>104\",\"x\":16,\"xref\":\"x\",\"y\":2,\"yref\":\"y\"},{\"font\":{\"color\":\"black\"},\"showarrow\":false,\"text\":\"17\\ud654<br>146\",\"x\":17,\"xref\":\"x\",\"y\":2,\"yref\":\"y\"},{\"font\":{\"color\":\"black\"},\"showarrow\":false,\"text\":\"18\\ud654<br>156\",\"x\":18,\"xref\":\"x\",\"y\":2,\"yref\":\"y\"},{\"font\":{\"color\":\"black\"},\"showarrow\":false,\"text\":\"19\\ud654<br>91\",\"x\":19,\"xref\":\"x\",\"y\":2,\"yref\":\"y\"},{\"font\":{\"color\":\"black\"},\"showarrow\":false,\"text\":\"20\\ud654<br>101\",\"x\":20,\"xref\":\"x\",\"y\":2,\"yref\":\"y\"},{\"font\":{\"color\":\"black\"},\"showarrow\":false,\"text\":\"21\\ud654<br>156\",\"x\":21,\"xref\":\"x\",\"y\":2,\"yref\":\"y\"},{\"font\":{\"color\":\"black\"},\"showarrow\":false,\"text\":\"22\\ud654<br>179\",\"x\":22,\"xref\":\"x\",\"y\":2,\"yref\":\"y\"},{\"font\":{\"color\":\"black\"},\"showarrow\":false,\"text\":\"23\\ud654<br>123\",\"x\":23,\"xref\":\"x\",\"y\":2,\"yref\":\"y\"},{\"font\":{\"color\":\"black\"},\"showarrow\":false,\"text\":\"0\\uc218<br>158\",\"x\":0,\"xref\":\"x\",\"y\":3,\"yref\":\"y\"},{\"font\":{\"color\":\"black\"},\"showarrow\":false,\"text\":\"1\\uc218<br>88\",\"x\":1,\"xref\":\"x\",\"y\":3,\"yref\":\"y\"},{\"font\":{\"color\":\"black\"},\"showarrow\":false,\"text\":\"2\\uc218<br>57\",\"x\":2,\"xref\":\"x\",\"y\":3,\"yref\":\"y\"},{\"font\":{\"color\":\"black\"},\"showarrow\":false,\"text\":\"3\\uc218<br>32\",\"x\":3,\"xref\":\"x\",\"y\":3,\"yref\":\"y\"},{\"font\":{\"color\":\"black\"},\"showarrow\":false,\"text\":\"4\\uc218<br>23\",\"x\":4,\"xref\":\"x\",\"y\":3,\"yref\":\"y\"},{\"font\":{\"color\":\"black\"},\"showarrow\":false,\"text\":\"5\\uc218<br>23\",\"x\":5,\"xref\":\"x\",\"y\":3,\"yref\":\"y\"},{\"font\":{\"color\":\"black\"},\"showarrow\":false,\"text\":\"6\\uc218<br>49\",\"x\":6,\"xref\":\"x\",\"y\":3,\"yref\":\"y\"},{\"font\":{\"color\":\"black\"},\"showarrow\":false,\"text\":\"7\\uc218<br>59\",\"x\":7,\"xref\":\"x\",\"y\":3,\"yref\":\"y\"},{\"font\":{\"color\":\"black\"},\"showarrow\":false,\"text\":\"8\\uc218<br>98\",\"x\":8,\"xref\":\"x\",\"y\":3,\"yref\":\"y\"},{\"font\":{\"color\":\"black\"},\"showarrow\":false,\"text\":\"9\\uc218<br>76\",\"x\":9,\"xref\":\"x\",\"y\":3,\"yref\":\"y\"},{\"font\":{\"color\":\"black\"},\"showarrow\":false,\"text\":\"10\\uc218<br>93\",\"x\":10,\"xref\":\"x\",\"y\":3,\"yref\":\"y\"},{\"font\":{\"color\":\"black\"},\"showarrow\":false,\"text\":\"11\\uc218<br>83\",\"x\":11,\"xref\":\"x\",\"y\":3,\"yref\":\"y\"},{\"font\":{\"color\":\"black\"},\"showarrow\":false,\"text\":\"12\\uc218<br>101\",\"x\":12,\"xref\":\"x\",\"y\":3,\"yref\":\"y\"},{\"font\":{\"color\":\"black\"},\"showarrow\":false,\"text\":\"13\\uc218<br>97\",\"x\":13,\"xref\":\"x\",\"y\":3,\"yref\":\"y\"},{\"font\":{\"color\":\"black\"},\"showarrow\":false,\"text\":\"14\\uc218<br>79\",\"x\":14,\"xref\":\"x\",\"y\":3,\"yref\":\"y\"},{\"font\":{\"color\":\"black\"},\"showarrow\":false,\"text\":\"15\\uc218<br>97\",\"x\":15,\"xref\":\"x\",\"y\":3,\"yref\":\"y\"},{\"font\":{\"color\":\"black\"},\"showarrow\":false,\"text\":\"16\\uc218<br>74\",\"x\":16,\"xref\":\"x\",\"y\":3,\"yref\":\"y\"},{\"font\":{\"color\":\"black\"},\"showarrow\":false,\"text\":\"17\\uc218<br>77\",\"x\":17,\"xref\":\"x\",\"y\":3,\"yref\":\"y\"},{\"font\":{\"color\":\"black\"},\"showarrow\":false,\"text\":\"18\\uc218<br>115\",\"x\":18,\"xref\":\"x\",\"y\":3,\"yref\":\"y\"},{\"font\":{\"color\":\"black\"},\"showarrow\":false,\"text\":\"19\\uc218<br>87\",\"x\":19,\"xref\":\"x\",\"y\":3,\"yref\":\"y\"},{\"font\":{\"color\":\"black\"},\"showarrow\":false,\"text\":\"20\\uc218<br>81\",\"x\":20,\"xref\":\"x\",\"y\":3,\"yref\":\"y\"},{\"font\":{\"color\":\"black\"},\"showarrow\":false,\"text\":\"21\\uc218<br>77\",\"x\":21,\"xref\":\"x\",\"y\":3,\"yref\":\"y\"},{\"font\":{\"color\":\"black\"},\"showarrow\":false,\"text\":\"22\\uc218<br>77\",\"x\":22,\"xref\":\"x\",\"y\":3,\"yref\":\"y\"},{\"font\":{\"color\":\"black\"},\"showarrow\":false,\"text\":\"23\\uc218<br>96\",\"x\":23,\"xref\":\"x\",\"y\":3,\"yref\":\"y\"},{\"font\":{\"color\":\"black\"},\"showarrow\":false,\"text\":\"0\\ubaa9<br>101\",\"x\":0,\"xref\":\"x\",\"y\":4,\"yref\":\"y\"},{\"font\":{\"color\":\"black\"},\"showarrow\":false,\"text\":\"1\\ubaa9<br>66\",\"x\":1,\"xref\":\"x\",\"y\":4,\"yref\":\"y\"},{\"font\":{\"color\":\"black\"},\"showarrow\":false,\"text\":\"2\\ubaa9<br>30\",\"x\":2,\"xref\":\"x\",\"y\":4,\"yref\":\"y\"},{\"font\":{\"color\":\"black\"},\"showarrow\":false,\"text\":\"3\\ubaa9<br>31\",\"x\":3,\"xref\":\"x\",\"y\":4,\"yref\":\"y\"},{\"font\":{\"color\":\"black\"},\"showarrow\":false,\"text\":\"4\\ubaa9<br>15\",\"x\":4,\"xref\":\"x\",\"y\":4,\"yref\":\"y\"},{\"font\":{\"color\":\"black\"},\"showarrow\":false,\"text\":\"5\\ubaa9<br>27\",\"x\":5,\"xref\":\"x\",\"y\":4,\"yref\":\"y\"},{\"font\":{\"color\":\"black\"},\"showarrow\":false,\"text\":\"6\\ubaa9<br>39\",\"x\":6,\"xref\":\"x\",\"y\":4,\"yref\":\"y\"},{\"font\":{\"color\":\"black\"},\"showarrow\":false,\"text\":\"7\\ubaa9<br>48\",\"x\":7,\"xref\":\"x\",\"y\":4,\"yref\":\"y\"},{\"font\":{\"color\":\"black\"},\"showarrow\":false,\"text\":\"8\\ubaa9<br>72\",\"x\":8,\"xref\":\"x\",\"y\":4,\"yref\":\"y\"},{\"font\":{\"color\":\"black\"},\"showarrow\":false,\"text\":\"9\\ubaa9<br>61\",\"x\":9,\"xref\":\"x\",\"y\":4,\"yref\":\"y\"},{\"font\":{\"color\":\"black\"},\"showarrow\":false,\"text\":\"10\\ubaa9<br>76\",\"x\":10,\"xref\":\"x\",\"y\":4,\"yref\":\"y\"},{\"font\":{\"color\":\"black\"},\"showarrow\":false,\"text\":\"11\\ubaa9<br>51\",\"x\":11,\"xref\":\"x\",\"y\":4,\"yref\":\"y\"},{\"font\":{\"color\":\"black\"},\"showarrow\":false,\"text\":\"12\\ubaa9<br>60\",\"x\":12,\"xref\":\"x\",\"y\":4,\"yref\":\"y\"},{\"font\":{\"color\":\"black\"},\"showarrow\":false,\"text\":\"13\\ubaa9<br>68\",\"x\":13,\"xref\":\"x\",\"y\":4,\"yref\":\"y\"},{\"font\":{\"color\":\"black\"},\"showarrow\":false,\"text\":\"14\\ubaa9<br>61\",\"x\":14,\"xref\":\"x\",\"y\":4,\"yref\":\"y\"},{\"font\":{\"color\":\"black\"},\"showarrow\":false,\"text\":\"15\\ubaa9<br>73\",\"x\":15,\"xref\":\"x\",\"y\":4,\"yref\":\"y\"},{\"font\":{\"color\":\"black\"},\"showarrow\":false,\"text\":\"16\\ubaa9<br>64\",\"x\":16,\"xref\":\"x\",\"y\":4,\"yref\":\"y\"},{\"font\":{\"color\":\"black\"},\"showarrow\":false,\"text\":\"17\\ubaa9<br>43\",\"x\":17,\"xref\":\"x\",\"y\":4,\"yref\":\"y\"},{\"font\":{\"color\":\"black\"},\"showarrow\":false,\"text\":\"18\\ubaa9<br>68\",\"x\":18,\"xref\":\"x\",\"y\":4,\"yref\":\"y\"},{\"font\":{\"color\":\"black\"},\"showarrow\":false,\"text\":\"19\\ubaa9<br>33\",\"x\":19,\"xref\":\"x\",\"y\":4,\"yref\":\"y\"},{\"font\":{\"color\":\"black\"},\"showarrow\":false,\"text\":\"20\\ubaa9<br>51\",\"x\":20,\"xref\":\"x\",\"y\":4,\"yref\":\"y\"},{\"font\":{\"color\":\"black\"},\"showarrow\":false,\"text\":\"21\\ubaa9<br>49\",\"x\":21,\"xref\":\"x\",\"y\":4,\"yref\":\"y\"},{\"font\":{\"color\":\"black\"},\"showarrow\":false,\"text\":\"22\\ubaa9<br>38\",\"x\":22,\"xref\":\"x\",\"y\":4,\"yref\":\"y\"},{\"font\":{\"color\":\"black\"},\"showarrow\":false,\"text\":\"23\\ubaa9<br>62\",\"x\":23,\"xref\":\"x\",\"y\":4,\"yref\":\"y\"},{\"font\":{\"color\":\"black\"},\"showarrow\":false,\"text\":\"0\\uae08<br>73\",\"x\":0,\"xref\":\"x\",\"y\":5,\"yref\":\"y\"},{\"font\":{\"color\":\"black\"},\"showarrow\":false,\"text\":\"1\\uae08<br>46\",\"x\":1,\"xref\":\"x\",\"y\":5,\"yref\":\"y\"},{\"font\":{\"color\":\"black\"},\"showarrow\":false,\"text\":\"2\\uae08<br>17\",\"x\":2,\"xref\":\"x\",\"y\":5,\"yref\":\"y\"},{\"font\":{\"color\":\"black\"},\"showarrow\":false,\"text\":\"3\\uae08<br>18\",\"x\":3,\"xref\":\"x\",\"y\":5,\"yref\":\"y\"},{\"font\":{\"color\":\"black\"},\"showarrow\":false,\"text\":\"4\\uae08<br>15\",\"x\":4,\"xref\":\"x\",\"y\":5,\"yref\":\"y\"},{\"font\":{\"color\":\"black\"},\"showarrow\":false,\"text\":\"5\\uae08<br>8\",\"x\":5,\"xref\":\"x\",\"y\":5,\"yref\":\"y\"},{\"font\":{\"color\":\"black\"},\"showarrow\":false,\"text\":\"6\\uae08<br>22\",\"x\":6,\"xref\":\"x\",\"y\":5,\"yref\":\"y\"},{\"font\":{\"color\":\"black\"},\"showarrow\":false,\"text\":\"7\\uae08<br>25\",\"x\":7,\"xref\":\"x\",\"y\":5,\"yref\":\"y\"},{\"font\":{\"color\":\"black\"},\"showarrow\":false,\"text\":\"8\\uae08<br>40\",\"x\":8,\"xref\":\"x\",\"y\":5,\"yref\":\"y\"},{\"font\":{\"color\":\"black\"},\"showarrow\":false,\"text\":\"9\\uae08<br>50\",\"x\":9,\"xref\":\"x\",\"y\":5,\"yref\":\"y\"},{\"font\":{\"color\":\"black\"},\"showarrow\":false,\"text\":\"10\\uae08<br>46\",\"x\":10,\"xref\":\"x\",\"y\":5,\"yref\":\"y\"},{\"font\":{\"color\":\"black\"},\"showarrow\":false,\"text\":\"11\\uae08<br>49\",\"x\":11,\"xref\":\"x\",\"y\":5,\"yref\":\"y\"},{\"font\":{\"color\":\"black\"},\"showarrow\":false,\"text\":\"12\\uae08<br>57\",\"x\":12,\"xref\":\"x\",\"y\":5,\"yref\":\"y\"},{\"font\":{\"color\":\"black\"},\"showarrow\":false,\"text\":\"13\\uae08<br>54\",\"x\":13,\"xref\":\"x\",\"y\":5,\"yref\":\"y\"},{\"font\":{\"color\":\"black\"},\"showarrow\":false,\"text\":\"14\\uae08<br>59\",\"x\":14,\"xref\":\"x\",\"y\":5,\"yref\":\"y\"},{\"font\":{\"color\":\"black\"},\"showarrow\":false,\"text\":\"15\\uae08<br>59\",\"x\":15,\"xref\":\"x\",\"y\":5,\"yref\":\"y\"},{\"font\":{\"color\":\"black\"},\"showarrow\":false,\"text\":\"16\\uae08<br>76\",\"x\":16,\"xref\":\"x\",\"y\":5,\"yref\":\"y\"},{\"font\":{\"color\":\"black\"},\"showarrow\":false,\"text\":\"17\\uae08<br>41\",\"x\":17,\"xref\":\"x\",\"y\":5,\"yref\":\"y\"},{\"font\":{\"color\":\"black\"},\"showarrow\":false,\"text\":\"18\\uae08<br>78\",\"x\":18,\"xref\":\"x\",\"y\":5,\"yref\":\"y\"},{\"font\":{\"color\":\"black\"},\"showarrow\":false,\"text\":\"19\\uae08<br>67\",\"x\":19,\"xref\":\"x\",\"y\":5,\"yref\":\"y\"},{\"font\":{\"color\":\"black\"},\"showarrow\":false,\"text\":\"20\\uae08<br>56\",\"x\":20,\"xref\":\"x\",\"y\":5,\"yref\":\"y\"},{\"font\":{\"color\":\"black\"},\"showarrow\":false,\"text\":\"21\\uae08<br>65\",\"x\":21,\"xref\":\"x\",\"y\":5,\"yref\":\"y\"},{\"font\":{\"color\":\"black\"},\"showarrow\":false,\"text\":\"22\\uae08<br>60\",\"x\":22,\"xref\":\"x\",\"y\":5,\"yref\":\"y\"},{\"font\":{\"color\":\"black\"},\"showarrow\":false,\"text\":\"23\\uae08<br>66\",\"x\":23,\"xref\":\"x\",\"y\":5,\"yref\":\"y\"},{\"font\":{\"color\":\"black\"},\"showarrow\":false,\"text\":\"0\\ud1a0<br>68\",\"x\":0,\"xref\":\"x\",\"y\":6,\"yref\":\"y\"},{\"font\":{\"color\":\"black\"},\"showarrow\":false,\"text\":\"1\\ud1a0<br>50\",\"x\":1,\"xref\":\"x\",\"y\":6,\"yref\":\"y\"},{\"font\":{\"color\":\"black\"},\"showarrow\":false,\"text\":\"2\\ud1a0<br>43\",\"x\":2,\"xref\":\"x\",\"y\":6,\"yref\":\"y\"},{\"font\":{\"color\":\"black\"},\"showarrow\":false,\"text\":\"3\\ud1a0<br>20\",\"x\":3,\"xref\":\"x\",\"y\":6,\"yref\":\"y\"},{\"font\":{\"color\":\"black\"},\"showarrow\":false,\"text\":\"4\\ud1a0<br>27\",\"x\":4,\"xref\":\"x\",\"y\":6,\"yref\":\"y\"},{\"font\":{\"color\":\"black\"},\"showarrow\":false,\"text\":\"5\\ud1a0<br>10\",\"x\":5,\"xref\":\"x\",\"y\":6,\"yref\":\"y\"},{\"font\":{\"color\":\"black\"},\"showarrow\":false,\"text\":\"6\\ud1a0<br>21\",\"x\":6,\"xref\":\"x\",\"y\":6,\"yref\":\"y\"},{\"font\":{\"color\":\"black\"},\"showarrow\":false,\"text\":\"7\\ud1a0<br>58\",\"x\":7,\"xref\":\"x\",\"y\":6,\"yref\":\"y\"},{\"font\":{\"color\":\"black\"},\"showarrow\":false,\"text\":\"8\\ud1a0<br>60\",\"x\":8,\"xref\":\"x\",\"y\":6,\"yref\":\"y\"},{\"font\":{\"color\":\"black\"},\"showarrow\":false,\"text\":\"9\\ud1a0<br>60\",\"x\":9,\"xref\":\"x\",\"y\":6,\"yref\":\"y\"},{\"font\":{\"color\":\"black\"},\"showarrow\":false,\"text\":\"10\\ud1a0<br>51\",\"x\":10,\"xref\":\"x\",\"y\":6,\"yref\":\"y\"},{\"font\":{\"color\":\"black\"},\"showarrow\":false,\"text\":\"11\\ud1a0<br>39\",\"x\":11,\"xref\":\"x\",\"y\":6,\"yref\":\"y\"},{\"font\":{\"color\":\"black\"},\"showarrow\":false,\"text\":\"12\\ud1a0<br>66\",\"x\":12,\"xref\":\"x\",\"y\":6,\"yref\":\"y\"},{\"font\":{\"color\":\"black\"},\"showarrow\":false,\"text\":\"13\\ud1a0<br>39\",\"x\":13,\"xref\":\"x\",\"y\":6,\"yref\":\"y\"},{\"font\":{\"color\":\"black\"},\"showarrow\":false,\"text\":\"14\\ud1a0<br>58\",\"x\":14,\"xref\":\"x\",\"y\":6,\"yref\":\"y\"},{\"font\":{\"color\":\"black\"},\"showarrow\":false,\"text\":\"15\\ud1a0<br>62\",\"x\":15,\"xref\":\"x\",\"y\":6,\"yref\":\"y\"},{\"font\":{\"color\":\"black\"},\"showarrow\":false,\"text\":\"16\\ud1a0<br>82\",\"x\":16,\"xref\":\"x\",\"y\":6,\"yref\":\"y\"},{\"font\":{\"color\":\"black\"},\"showarrow\":false,\"text\":\"17\\ud1a0<br>97\",\"x\":17,\"xref\":\"x\",\"y\":6,\"yref\":\"y\"},{\"font\":{\"color\":\"black\"},\"showarrow\":false,\"text\":\"18\\ud1a0<br>62\",\"x\":18,\"xref\":\"x\",\"y\":6,\"yref\":\"y\"},{\"font\":{\"color\":\"black\"},\"showarrow\":false,\"text\":\"19\\ud1a0<br>75\",\"x\":19,\"xref\":\"x\",\"y\":6,\"yref\":\"y\"},{\"font\":{\"color\":\"black\"},\"showarrow\":false,\"text\":\"20\\ud1a0<br>62\",\"x\":20,\"xref\":\"x\",\"y\":6,\"yref\":\"y\"},{\"font\":{\"color\":\"black\"},\"showarrow\":false,\"text\":\"21\\ud1a0<br>55\",\"x\":21,\"xref\":\"x\",\"y\":6,\"yref\":\"y\"},{\"font\":{\"color\":\"black\"},\"showarrow\":false,\"text\":\"22\\ud1a0<br>53\",\"x\":22,\"xref\":\"x\",\"y\":6,\"yref\":\"y\"},{\"font\":{\"color\":\"black\"},\"showarrow\":false,\"text\":\"23\\ud1a0<br>36\",\"x\":23,\"xref\":\"x\",\"y\":6,\"yref\":\"y\"},{\"font\":{\"color\":\"black\"},\"showarrow\":false,\"text\":\"0\\uc77c<br>85\",\"x\":0,\"xref\":\"x\",\"y\":7,\"yref\":\"y\"},{\"font\":{\"color\":\"black\"},\"showarrow\":false,\"text\":\"1\\uc77c<br>73\",\"x\":1,\"xref\":\"x\",\"y\":7,\"yref\":\"y\"},{\"font\":{\"color\":\"black\"},\"showarrow\":false,\"text\":\"2\\uc77c<br>34\",\"x\":2,\"xref\":\"x\",\"y\":7,\"yref\":\"y\"},{\"font\":{\"color\":\"black\"},\"showarrow\":false,\"text\":\"3\\uc77c<br>21\",\"x\":3,\"xref\":\"x\",\"y\":7,\"yref\":\"y\"},{\"font\":{\"color\":\"black\"},\"showarrow\":false,\"text\":\"4\\uc77c<br>28\",\"x\":4,\"xref\":\"x\",\"y\":7,\"yref\":\"y\"},{\"font\":{\"color\":\"black\"},\"showarrow\":false,\"text\":\"5\\uc77c<br>16\",\"x\":5,\"xref\":\"x\",\"y\":7,\"yref\":\"y\"},{\"font\":{\"color\":\"black\"},\"showarrow\":false,\"text\":\"6\\uc77c<br>25\",\"x\":6,\"xref\":\"x\",\"y\":7,\"yref\":\"y\"},{\"font\":{\"color\":\"black\"},\"showarrow\":false,\"text\":\"7\\uc77c<br>43\",\"x\":7,\"xref\":\"x\",\"y\":7,\"yref\":\"y\"},{\"font\":{\"color\":\"black\"},\"showarrow\":false,\"text\":\"8\\uc77c<br>54\",\"x\":8,\"xref\":\"x\",\"y\":7,\"yref\":\"y\"},{\"font\":{\"color\":\"black\"},\"showarrow\":false,\"text\":\"9\\uc77c<br>60\",\"x\":9,\"xref\":\"x\",\"y\":7,\"yref\":\"y\"},{\"font\":{\"color\":\"black\"},\"showarrow\":false,\"text\":\"10\\uc77c<br>40\",\"x\":10,\"xref\":\"x\",\"y\":7,\"yref\":\"y\"},{\"font\":{\"color\":\"black\"},\"showarrow\":false,\"text\":\"11\\uc77c<br>57\",\"x\":11,\"xref\":\"x\",\"y\":7,\"yref\":\"y\"},{\"font\":{\"color\":\"black\"},\"showarrow\":false,\"text\":\"12\\uc77c<br>68\",\"x\":12,\"xref\":\"x\",\"y\":7,\"yref\":\"y\"},{\"font\":{\"color\":\"black\"},\"showarrow\":false,\"text\":\"13\\uc77c<br>54\",\"x\":13,\"xref\":\"x\",\"y\":7,\"yref\":\"y\"},{\"font\":{\"color\":\"black\"},\"showarrow\":false,\"text\":\"14\\uc77c<br>49\",\"x\":14,\"xref\":\"x\",\"y\":7,\"yref\":\"y\"},{\"font\":{\"color\":\"black\"},\"showarrow\":false,\"text\":\"15\\uc77c<br>50\",\"x\":15,\"xref\":\"x\",\"y\":7,\"yref\":\"y\"},{\"font\":{\"color\":\"black\"},\"showarrow\":false,\"text\":\"16\\uc77c<br>53\",\"x\":16,\"xref\":\"x\",\"y\":7,\"yref\":\"y\"},{\"font\":{\"color\":\"black\"},\"showarrow\":false,\"text\":\"17\\uc77c<br>45\",\"x\":17,\"xref\":\"x\",\"y\":7,\"yref\":\"y\"},{\"font\":{\"color\":\"black\"},\"showarrow\":false,\"text\":\"18\\uc77c<br>47\",\"x\":18,\"xref\":\"x\",\"y\":7,\"yref\":\"y\"},{\"font\":{\"color\":\"black\"},\"showarrow\":false,\"text\":\"19\\uc77c<br>53\",\"x\":19,\"xref\":\"x\",\"y\":7,\"yref\":\"y\"},{\"font\":{\"color\":\"black\"},\"showarrow\":false,\"text\":\"20\\uc77c<br>60\",\"x\":20,\"xref\":\"x\",\"y\":7,\"yref\":\"y\"},{\"font\":{\"color\":\"black\"},\"showarrow\":false,\"text\":\"21\\uc77c<br>69\",\"x\":21,\"xref\":\"x\",\"y\":7,\"yref\":\"y\"},{\"font\":{\"color\":\"black\"},\"showarrow\":false,\"text\":\"22\\uc77c<br>54\",\"x\":22,\"xref\":\"x\",\"y\":7,\"yref\":\"y\"},{\"font\":{\"color\":\"black\"},\"showarrow\":false,\"text\":\"23\\uc77c<br>20\",\"x\":23,\"xref\":\"x\",\"y\":7,\"yref\":\"y\"}],\"height\":650,\"width\":2000},                        {\"responsive\": true}                    ).then(function(){\n",
       "                            \n",
       "var gd = document.getElementById('ea79b6c9-c1e9-4833-845d-b69544a04440');\n",
       "var x = new MutationObserver(function (mutations, observer) {{\n",
       "        var display = window.getComputedStyle(gd).display;\n",
       "        if (!display || display === 'none') {{\n",
       "            console.log([gd, 'removed!']);\n",
       "            Plotly.purge(gd);\n",
       "            observer.disconnect();\n",
       "        }}\n",
       "}});\n",
       "\n",
       "// Listen for the removal of the full notebook cells\n",
       "var notebookContainer = gd.closest('#notebook-container');\n",
       "if (notebookContainer) {{\n",
       "    x.observe(notebookContainer, {childList: true});\n",
       "}}\n",
       "\n",
       "// Listen for the clearing of the current output cell\n",
       "var outputEl = gd.closest('.output');\n",
       "if (outputEl) {{\n",
       "    x.observe(outputEl, {childList: true});\n",
       "}}\n",
       "\n",
       "                        })                };                });            </script>        </div>"
      ]
     },
     "metadata": {},
     "output_type": "display_data"
    }
   ],
   "source": [
    "\n",
    "# Pivot the data to create a matrix\n",
    "matrix = data.pivot('day_of_week', 'visit_hour', 'unique_daily_visits').fillna(0)\n",
    "\n",
    "# Calculate the total for percentages\n",
    "total = matrix.sum().sum()\n",
    "\n",
    "# Create the hover text and annotations: count, and merged labels\n",
    "hover_text = []\n",
    "annotations = []\n",
    "days_of_week = ['', '월', '화', '수', '목', '금', '토', '일']\n",
    "for i, day in enumerate(matrix.index):\n",
    "    hover_row = []\n",
    "    for j, hour in enumerate(matrix.columns):\n",
    "        text = f\"{matrix.at[day, hour]} visits<br>{days_of_week[i]} {hour}시\"\n",
    "        hover_row.append(text)\n",
    "\n",
    "        # If count is more than 0, create an annotation\n",
    "        if matrix.at[day, hour] > 0:\n",
    "            annotations.append({\n",
    "                \"x\": hour,\n",
    "                \"y\": day,\n",
    "                \"xref\": \"x\",\n",
    "                \"yref\": \"y\",\n",
    "                \"text\": f\"{int(hour)}{days_of_week[i+1]}<br>{int(matrix.at[day, hour])}\",\n",
    "                \"showarrow\": False,\n",
    "                \"font\": {\n",
    "                    \"color\": \"black\"\n",
    "                }\n",
    "            })\n",
    "    hover_text.append(hover_row)\n",
    "\n",
    "# Create the heatmap\n",
    "fig = go.Figure(data=go.Heatmap(\n",
    "    z=matrix.values,\n",
    "    x=matrix.columns,\n",
    "    y=matrix.index,\n",
    "    colorscale='Viridis',\n",
    "    hoverinfo='text',\n",
    "    text=hover_text,\n",
    "    colorbar=dict(title='Unique Visits')\n",
    "))\n",
    "\n",
    "fig.update_layout(\n",
    "    title=\"요일별 시간당 Unique visitor 수 matrix\",\n",
    "    xaxis=dict(title=\"Hour of Day\", tickvals=list(range(25)), ticktext=[str(i) for i in range(25)]),\n",
    "    yaxis=dict(title=\"Day of Week\", tickvals=list(range(8)), ticktext=days_of_week),\n",
    "    annotations=annotations, height=650, width=2000\n",
    ")\n",
    "\n",
    "fig.show()"
   ]
  },
  {
   "cell_type": "markdown",
   "metadata": {},
   "source": [
    "구독자기준의 패턴 분석\n"
   ]
  },
  {
   "cell_type": "code",
   "execution_count": null,
   "metadata": {},
   "outputs": [],
   "source": [
    "import gspread\n",
    "from oauth2client.service_account import ServiceAccountCredentials\n",
    "import mysql.connector\n",
    "import datetime\n",
    "from gspread_formatting import *\n",
    "import re\n",
    "from user_agents import parse as ua_parse\n",
    "import json\n",
    "from decimal import Decimal\n",
    "import pandas as pd\n",
    "import plotly.express as px\n",
    "import numpy as np\n",
    "import plotly.graph_objects as go\n",
    "\n",
    "from plotly.subplots import make_subplots\n",
    "\n",
    "\n",
    "class DecimalEncoder(json.JSONEncoder):\n",
    "    def default(self, obj):\n",
    "        if isinstance(obj, Decimal):\n",
    "            return float(obj)\n",
    "        return super(DecimalEncoder, self).default(obj)\n",
    "\n",
    "\n",
    "def extract_details(session_token):\n",
    "    if not isinstance(session_token, (str, bytes)):\n",
    "        return None\n",
    "    third_party_pattern = re.compile(r'(BizWebView[ ;]|KAKAOTALK.*?|NAVER\\(.*?\\))')\n",
    "\n",
    "    pattern_ip = r's:2:\"ip\";s:\\d+:\"(.*?)\";'\n",
    "    pattern_ua = r's:2:\"ua\";s:\\d+:\"(.*?)\";'\n",
    "\n",
    "    match_ip = re.search(pattern_ip, session_token)\n",
    "    match_ua = re.search(pattern_ua, session_token)\n",
    "\n",
    "    if match_ip and match_ua:\n",
    "        ip_address = match_ip.group(1)\n",
    "        user_agent_string = match_ua.group(1)\n",
    "        user_agent = ua_parse(user_agent_string)\n",
    "\n",
    "        # Extract third-party info\n",
    "        third_party_info = third_party_pattern.findall(user_agent_string)\n",
    "        third_party_info_str = ', '.join(third_party_info) if third_party_info else None\n",
    "\n",
    "        # Extract browser version, and supplement with third-party info if empty\n",
    "        browser_version = user_agent.browser.version_string\n",
    "\n",
    "        return {\n",
    "            \"IP Address\": ip_address,\n",
    "            \"Browser Family\": user_agent.browser.family,\n",
    "            \"Browser Version\": browser_version or '',\n",
    "            \"OS Family\": user_agent.os.family,\n",
    "            \"OS Version\": user_agent.os.version_string,\n",
    "            \"Device Family\": user_agent.device.family,\n",
    "            \"Third Party Info\": third_party_info_str or ''\n",
    "        }\n",
    "    return None\n",
    "\n",
    "\n",
    "scope = [\"https://spreadsheets.google.com/feeds\", 'https://www.'\n",
    "'apis.com/auth/spreadsheets',\n",
    "         \"https://www.googleapis.com/auth/drive.file\", \"https://www.googleapis.com/auth/drive\"]\n",
    "\n",
    "client = gspread.authorize(creds)\n",
    "\n",
    "\n",
    "def fetch_customer_data():\n",
    "    # MySQL connection details\n",
    "#--\n",
    "\n",
    "    # Connect to MySQL\n",
    "    connection = mysql.connector.connect(**mysql_config)\n",
    "    cursor = connection.cursor()\n",
    "\n",
    "    # Query to fetch customer list\n",
    "    query = \"\"\"\n",
    "    SELECT\n",
    "        u.ID,\n",
    "        u.user_login,\n",
    "        u.user_nicename AS user_nickname,\n",
    "        u.user_email,\n",
    "        CONVERT_TZ(u.user_registered, '+00:00', '+09:00') AS user_registered_seoul,\n",
    "        u.display_name,\n",
    "        MAX(CASE WHEN um.meta_key = 'session_tokens' THEN um.meta_value END) AS session_tokens,\n",
    "        MAX(CASE WHEN um.meta_key = 'first_name' THEN um.meta_value END) AS name,\n",
    "        MAX(CASE WHEN um.meta_key = 'billing_phone' THEN CONCAT(\"'\", um.meta_value) END) AS billing_phone,\n",
    "        MAX(CASE WHEN um.meta_key = 'shipping_phone' THEN CONCAT(\"'\", um.meta_value) END) AS shipping_phone,\n",
    "        MAX(CASE\n",
    "            WHEN um.meta_key = 'gender' THEN\n",
    "                CASE\n",
    "                    WHEN um.meta_value IN ('man', 'male') THEN '남'\n",
    "                    WHEN um.meta_value IN ('woman', 'female') THEN '여'\n",
    "                    ELSE 'n/a'\n",
    "                END\n",
    "            END) AS gender,\n",
    "        um_birthyear.meta_value AS birthyear,\n",
    "        MAX(CASE WHEN um.meta_key = 'billing_first_name_kr' THEN um.meta_value END) AS billing_first_name_kr,\n",
    "        MAX(CASE WHEN um.meta_key = 'billing_address_1' THEN um.meta_value END) AS billing_address_1,\n",
    "        MAX(CASE WHEN um.meta_key = 'billing_address_2' THEN um.meta_value END) AS billing_address_2,\n",
    "        MAX(CASE WHEN um.meta_key = 'billing_postcode' THEN um.meta_value END) AS billing_postcode,\n",
    "        MAX(CASE WHEN um.meta_key = 'shipping_first_name_kr' THEN um.meta_value END) AS shipping_first_name_kr,\n",
    "        MAX(CASE WHEN um.meta_key = 'shipping_address_1' THEN um.meta_value END) AS shipping_address_1,\n",
    "        MAX(CASE WHEN um.meta_key = 'shipping_address_2' THEN um.meta_value END) AS shipping_address_2,\n",
    "        MAX(CASE WHEN um.meta_key = 'last_login_time' THEN um.meta_value END) AS last_login_time,\n",
    "        sm.first_subscription_time,\n",
    "        sm.paid_amt,\n",
    "        sm.subscription_count,\n",
    "        YEAR(CURDATE()) - um_birthyear.meta_value AS current_age\n",
    "    FROM\n",
    "        wp_users AS u\n",
    "    LEFT JOIN\n",
    "        wp_usermeta AS um ON u.ID = um.user_id\n",
    "    LEFT JOIN (\n",
    "        SELECT\n",
    "            pm.meta_value AS user_id,\n",
    "            MIN(CONVERT_TZ(p.post_date, '+00:00', '+09:00')) AS first_subscription_time,\n",
    "            SUM(CAST(pm_total.meta_value AS UNSIGNED)) AS paid_amt,\n",
    "            COUNT(oi.order_item_id) AS subscription_count\n",
    "        FROM\n",
    "            wp_posts p\n",
    "        LEFT JOIN\n",
    "            wp_postmeta pm ON p.ID = pm.post_id AND pm.meta_key = '_customer_user'\n",
    "        LEFT JOIN\n",
    "            wp_postmeta pm_total ON p.ID = pm_total.post_id AND pm_total.meta_key = '_order_total'\n",
    "        LEFT JOIN\n",
    "            wp_woocommerce_order_items oi ON p.ID = oi.order_id\n",
    "        WHERE\n",
    "            p.post_type = 'shop_subscription' AND p.post_status = 'wc-active'\n",
    "        GROUP BY\n",
    "            pm.meta_value\n",
    "    ) AS sm ON u.ID = CAST(sm.user_id AS UNSIGNED)\n",
    "    LEFT JOIN wp_usermeta AS um_birthyear ON u.ID = um_birthyear.user_id AND um_birthyear.meta_key = 'birthyear'\n",
    "    WHERE\n",
    "        user_email NOT LIKE '%cleanbedding.kr'\n",
    "        AND user_email NOT LIKE '%is-global.sg%'\n",
    "        AND user_email NOT LIKE '%test%'\n",
    "        AND display_name NOT IN  ('클린베딩 담당자','정종필','정지혜_테스트계정',\n",
    "        'TestUser',\n",
    "        'Confront your fears',\n",
    "        'test@codem.com',\n",
    "        'test1@codem.com',\n",
    "        'test@0509.com',\n",
    "        'test001',\n",
    "        'test002',\n",
    "        '테스트1',\n",
    "        'Andrew Benedictus',\n",
    "        'codemtest',\n",
    "        'test',\n",
    "        'H.jeong',\n",
    "        'koa',\n",
    "        'support@elementor.com',\n",
    "        '고객관리자',\n",
    "    GROUP BY\n",
    "        u.user_registered, u.ID, sm.first_subscription_time, sm.paid_amt, sm.subscription_count\n",
    "    ORDER BY\n",
    "        u.ID;\n",
    "    \"\"\"\n",
    "\n",
    "    cursor.execute(query)\n",
    "    rows = cursor.fetchall()\n",
    "    for row in rows[:10]:\n",
    "        session_token_index = [col[0] for col in cursor.description].index('session_tokens')\n",
    "        # print(\"Session token:\", row[session_token_index])\n",
    "\n",
    "    # Extract the OS information from the session_tokens\n",
    "\n",
    "    def extract_os_from_session(session_token):\n",
    "        ua_match = re.search(r'\"ua\";s:\\d+:\"(.*?)\";', session_token)\n",
    "        if ua_match:\n",
    "            return extract_os(ua_match.group(1))\n",
    "        return \"Unknown\"\n",
    "\n",
    "    headers = [col[0] for col in cursor.description if col[0] != 'session_tokens'] + [\"IP Address\",\n",
    "                                                                                      \"Browser Family\", \"Browser Version\", \"OS Family\", \"OS Version\", \"Device Family\", \"Third Party Info\"]\n",
    "    session_token_index = [col[0] for col in cursor.description].index('session_tokens')\n",
    "\n",
    "    for i, r in enumerate(rows):\n",
    "        print(r)\n",
    "        if i > 5:\n",
    "            break\n",
    "    print()\n",
    "    print()\n",
    "\n",
    "    # Step 1: Replace phone numbers\n",
    "    formatted_rows_step1 = [\n",
    "        [\n",
    "            item.replace(\"'8210\", \"010\").replace(\"'+82 \", \"0\").replace(\"'\", \"\") if isinstance(item, str) else\n",
    "            str(item) if isinstance(item, datetime.datetime) else item\n",
    "            for index, item in enumerate(row) if index != session_token_index\n",
    "        ]\n",
    "        for row in rows\n",
    "    ]\n",
    "    for i, r in enumerate(formatted_rows_step1):\n",
    "        print(r)\n",
    "        if i > 5:\n",
    "            break\n",
    "\n",
    "    for i, r in enumerate(formatted_rows_step1):\n",
    "        print(r)\n",
    "        if i > 5:\n",
    "            break\n",
    "\n",
    "    # Step 3: Extract details\n",
    "    formatted_rows_final = [\n",
    "        row + list(extract_details(original_row[session_token_index]).values()) if extract_details(original_row[session_token_index]) else row\n",
    "        for row, original_row in zip(formatted_rows_step1, rows)\n",
    "    ]\n",
    "    print(headers)\n",
    "    for i, r in enumerate(formatted_rows_final):\n",
    "        print(r)\n",
    "        if i > 5:\n",
    "            break\n",
    "    data_to_insert = [headers] + formatted_rows_final\n",
    "\n",
    "    #\n",
    "    # 기족 고객 여부 추가\n",
    "    #\n",
    "\n",
    "    # Fetch the old customer data starting from the 6th row\n",
    "    old_data = old_sheet.get_all_values()[5:]  # Starting from 6th row (0-based index)\n",
    "    old_data_headers = old_data[0]\n",
    "    old_data_records = [dict(zip(old_data_headers, row)) for row in old_data[1:]]\n",
    "\n",
    "    # Step 3: Check each entry in the data_to_insert list against the old customer list\n",
    "    existing_customers = set([(entry[\"이름\"], entry[\"휴대폰 번호\"].replace(\"-\", \"\")) for entry in old_data_records])\n",
    "    new_customer_statuses = []\n",
    "    for entry in data_to_insert[1:]:\n",
    "        phone = entry[headers.index(\"billing_phone\")] if entry[headers.index(\"billing_phone\")] else entry[headers.index(\"shipping_phone\")]\n",
    "        if phone is not None:\n",
    "            phone = phone.replace(\"-\", \"\")\n",
    "        if (entry[headers.index(\"name\")], phone) in existing_customers:\n",
    "            new_customer_statuses.append(\"기존\")\n",
    "        else:\n",
    "            new_customer_statuses.append(\"신규\")\n",
    "    # Step 4: Insert '기존고객' column in data_to_insert list\n",
    "    headers.insert(1, '기존고객')\n",
    "    for index, row in enumerate(data_to_insert[1:], start=1):\n",
    "        row.insert(1, new_customer_statuses[index - 1])\n",
    "\n",
    "    # Close MySQL connection\n",
    "    cursor.close()\n",
    "    connection.close()\n",
    "    df = pd.DataFrame(data_to_insert[1:], columns=data_to_insert[0])\n",
    "    return df\n",
    "\n",
    "\n",
    "df = fetch_customer_data()\n",
    "\n",
    "\n",
    "# 신규 사이트의 신규 회원 수\n",
    "total_new_site_members_today = df.shape[0]\n",
    "df['user_registered_seoul'] = pd.to_datetime(df['user_registered_seoul'])\n",
    "\n",
    "# 오늘의 신규 회원 가입자 수\n",
    "new_members_today = df[df['기존고객'] == '신규'].shape[0]\n",
    "\n",
    "# 구 사이트에서 이전한 회원 수\n",
    "migrated_members = df[df['기존고객'] == '기존'].shape[0]\n",
    "\n",
    "# 'user_registered_seoul'의 날짜만 추출하여 새로운 컬럼에 저장\n",
    "df['registration_date'] = df['user_registered_seoul'].dt.date\n",
    "\n",
    "# 날짜별로 신규 회원과 구사이트 회원의 가입 수치 계산\n",
    "daily_new = df[df['기존고객'] == '신규'].groupby('registration_date').size()\n",
    "daily_migrated = df[df['기존고객'] == '기존'].groupby('registration_date').size()\n",
    "\n",
    "# 누락된 날짜에 대한 데이터 추가 (0으로 채우기)\n",
    "all_dates = pd.date_range(start=df['registration_date'].min(), end=df['registration_date'].max(), freq='D')\n",
    "daily_new = daily_new.reindex(all_dates, fill_value=0)\n",
    "daily_migrated = daily_migrated.reindex(all_dates, fill_value=0)\n",
    "\n",
    "# 일별 누적 가입 수치 계산\n",
    "cumulative_new = daily_new.cumsum()\n",
    "cumulative_migrated = daily_migrated.cumsum()\n",
    "\n",
    "# df[~df['subscription_count'].isna()]"
   ]
  },
  {
   "cell_type": "code",
   "execution_count": 117,
   "metadata": {},
   "outputs": [
    {
     "name": "stderr",
     "output_type": "stream",
     "text": [
      "/tmp/ipykernel_2111613/2245814822.py:27: SettingWithCopyWarning:\n",
      "\n",
      "\n",
      "A value is trying to be set on a copy of a slice from a DataFrame.\n",
      "Try using .loc[row_indexer,col_indexer] = value instead\n",
      "\n",
      "See the caveats in the documentation: https://pandas.pydata.org/pandas-docs/stable/user_guide/indexing.html#returning-a-view-versus-a-copy\n",
      "\n",
      "/tmp/ipykernel_2111613/2245814822.py:28: SettingWithCopyWarning:\n",
      "\n",
      "\n",
      "A value is trying to be set on a copy of a slice from a DataFrame.\n",
      "Try using .loc[row_indexer,col_indexer] = value instead\n",
      "\n",
      "See the caveats in the documentation: https://pandas.pydata.org/pandas-docs/stable/user_guide/indexing.html#returning-a-view-versus-a-copy\n",
      "\n",
      "/tmp/ipykernel_2111613/2245814822.py:29: SettingWithCopyWarning:\n",
      "\n",
      "\n",
      "A value is trying to be set on a copy of a slice from a DataFrame.\n",
      "Try using .loc[row_indexer,col_indexer] = value instead\n",
      "\n",
      "See the caveats in the documentation: https://pandas.pydata.org/pandas-docs/stable/user_guide/indexing.html#returning-a-view-versus-a-copy\n",
      "\n"
     ]
    },
    {
     "data": {
      "application/vnd.plotly.v1+json": {
       "config": {
        "plotlyServerURL": "https://plot.ly"
       },
       "data": [
        {
         "marker": {
          "color": "red"
         },
         "name": "화",
         "text": [
          "1 visits<br>(1.75%)",
          "1 visits<br>(1.75%)",
          "1 visits<br>(1.75%)",
          "3 visits<br>(5.26%)",
          "1 visits<br>(1.75%)",
          "2 visits<br>(3.51%)",
          "1 visits<br>(1.75%)",
          "2 visits<br>(3.51%)",
          "1 visits<br>(1.75%)"
         ],
         "textposition": "auto",
         "type": "bar",
         "x": [
          5,
          6,
          12,
          13,
          16,
          18,
          19,
          20,
          22
         ],
         "y": [
          1,
          1,
          1,
          3,
          1,
          2,
          1,
          2,
          1
         ]
        },
        {
         "marker": {
          "color": "orange"
         },
         "name": "수",
         "text": [
          "1 visits<br>(1.75%)",
          "1 visits<br>(1.75%)",
          "2 visits<br>(3.51%)",
          "2 visits<br>(3.51%)",
          "1 visits<br>(1.75%)",
          "1 visits<br>(1.75%)",
          "1 visits<br>(1.75%)",
          "1 visits<br>(1.75%)",
          "1 visits<br>(1.75%)",
          "1 visits<br>(1.75%)"
         ],
         "textposition": "auto",
         "type": "bar",
         "x": [
          0,
          6,
          9,
          12,
          15,
          16,
          17,
          20,
          22,
          23
         ],
         "y": [
          1,
          1,
          2,
          2,
          1,
          1,
          1,
          1,
          1,
          1
         ]
        },
        {
         "marker": {
          "color": "yellow"
         },
         "name": "목",
         "text": [
          "1 visits<br>(1.75%)",
          "1 visits<br>(1.75%)",
          "1 visits<br>(1.75%)",
          "2 visits<br>(3.51%)"
         ],
         "textposition": "auto",
         "type": "bar",
         "x": [
          7,
          13,
          17,
          19
         ],
         "y": [
          1,
          1,
          1,
          2
         ]
        },
        {
         "marker": {
          "color": "green"
         },
         "name": "금",
         "text": [
          "1 visits<br>(1.75%)",
          "1 visits<br>(1.75%)",
          "1 visits<br>(1.75%)"
         ],
         "textposition": "auto",
         "type": "bar",
         "x": [
          9,
          10,
          15
         ],
         "y": [
          1,
          1,
          1
         ]
        },
        {
         "marker": {
          "color": "blue"
         },
         "name": "토",
         "text": [
          "1 visits<br>(1.75%)",
          "1 visits<br>(1.75%)",
          "1 visits<br>(1.75%)",
          "1 visits<br>(1.75%)",
          "1 visits<br>(1.75%)",
          "1 visits<br>(1.75%)",
          "1 visits<br>(1.75%)"
         ],
         "textposition": "auto",
         "type": "bar",
         "x": [
          7,
          8,
          11,
          12,
          16,
          19,
          22
         ],
         "y": [
          1,
          1,
          1,
          1,
          1,
          1,
          1
         ]
        },
        {
         "marker": {
          "color": "indigo"
         },
         "name": "일",
         "text": [
          "1 visits<br>(1.75%)",
          "1 visits<br>(1.75%)",
          "1 visits<br>(1.75%)",
          "1 visits<br>(1.75%)",
          "1 visits<br>(1.75%)"
         ],
         "textposition": "auto",
         "type": "bar",
         "x": [
          2,
          3,
          14,
          15,
          16
         ],
         "y": [
          1,
          1,
          1,
          1,
          1
         ]
        }
       ],
       "layout": {
        "barmode": "stack",
        "height": 1200,
        "template": {
         "data": {
          "bar": [
           {
            "error_x": {
             "color": "#2a3f5f"
            },
            "error_y": {
             "color": "#2a3f5f"
            },
            "marker": {
             "line": {
              "color": "#E5ECF6",
              "width": 0.5
             },
             "pattern": {
              "fillmode": "overlay",
              "size": 10,
              "solidity": 0.2
             }
            },
            "type": "bar"
           }
          ],
          "barpolar": [
           {
            "marker": {
             "line": {
              "color": "#E5ECF6",
              "width": 0.5
             },
             "pattern": {
              "fillmode": "overlay",
              "size": 10,
              "solidity": 0.2
             }
            },
            "type": "barpolar"
           }
          ],
          "carpet": [
           {
            "aaxis": {
             "endlinecolor": "#2a3f5f",
             "gridcolor": "white",
             "linecolor": "white",
             "minorgridcolor": "white",
             "startlinecolor": "#2a3f5f"
            },
            "baxis": {
             "endlinecolor": "#2a3f5f",
             "gridcolor": "white",
             "linecolor": "white",
             "minorgridcolor": "white",
             "startlinecolor": "#2a3f5f"
            },
            "type": "carpet"
           }
          ],
          "choropleth": [
           {
            "colorbar": {
             "outlinewidth": 0,
             "ticks": ""
            },
            "type": "choropleth"
           }
          ],
          "contour": [
           {
            "colorbar": {
             "outlinewidth": 0,
             "ticks": ""
            },
            "colorscale": [
             [
              0,
              "#0d0887"
             ],
             [
              0.1111111111111111,
              "#46039f"
             ],
             [
              0.2222222222222222,
              "#7201a8"
             ],
             [
              0.3333333333333333,
              "#9c179e"
             ],
             [
              0.4444444444444444,
              "#bd3786"
             ],
             [
              0.5555555555555556,
              "#d8576b"
             ],
             [
              0.6666666666666666,
              "#ed7953"
             ],
             [
              0.7777777777777778,
              "#fb9f3a"
             ],
             [
              0.8888888888888888,
              "#fdca26"
             ],
             [
              1,
              "#f0f921"
             ]
            ],
            "type": "contour"
           }
          ],
          "contourcarpet": [
           {
            "colorbar": {
             "outlinewidth": 0,
             "ticks": ""
            },
            "type": "contourcarpet"
           }
          ],
          "heatmap": [
           {
            "colorbar": {
             "outlinewidth": 0,
             "ticks": ""
            },
            "colorscale": [
             [
              0,
              "#0d0887"
             ],
             [
              0.1111111111111111,
              "#46039f"
             ],
             [
              0.2222222222222222,
              "#7201a8"
             ],
             [
              0.3333333333333333,
              "#9c179e"
             ],
             [
              0.4444444444444444,
              "#bd3786"
             ],
             [
              0.5555555555555556,
              "#d8576b"
             ],
             [
              0.6666666666666666,
              "#ed7953"
             ],
             [
              0.7777777777777778,
              "#fb9f3a"
             ],
             [
              0.8888888888888888,
              "#fdca26"
             ],
             [
              1,
              "#f0f921"
             ]
            ],
            "type": "heatmap"
           }
          ],
          "heatmapgl": [
           {
            "colorbar": {
             "outlinewidth": 0,
             "ticks": ""
            },
            "colorscale": [
             [
              0,
              "#0d0887"
             ],
             [
              0.1111111111111111,
              "#46039f"
             ],
             [
              0.2222222222222222,
              "#7201a8"
             ],
             [
              0.3333333333333333,
              "#9c179e"
             ],
             [
              0.4444444444444444,
              "#bd3786"
             ],
             [
              0.5555555555555556,
              "#d8576b"
             ],
             [
              0.6666666666666666,
              "#ed7953"
             ],
             [
              0.7777777777777778,
              "#fb9f3a"
             ],
             [
              0.8888888888888888,
              "#fdca26"
             ],
             [
              1,
              "#f0f921"
             ]
            ],
            "type": "heatmapgl"
           }
          ],
          "histogram": [
           {
            "marker": {
             "pattern": {
              "fillmode": "overlay",
              "size": 10,
              "solidity": 0.2
             }
            },
            "type": "histogram"
           }
          ],
          "histogram2d": [
           {
            "colorbar": {
             "outlinewidth": 0,
             "ticks": ""
            },
            "colorscale": [
             [
              0,
              "#0d0887"
             ],
             [
              0.1111111111111111,
              "#46039f"
             ],
             [
              0.2222222222222222,
              "#7201a8"
             ],
             [
              0.3333333333333333,
              "#9c179e"
             ],
             [
              0.4444444444444444,
              "#bd3786"
             ],
             [
              0.5555555555555556,
              "#d8576b"
             ],
             [
              0.6666666666666666,
              "#ed7953"
             ],
             [
              0.7777777777777778,
              "#fb9f3a"
             ],
             [
              0.8888888888888888,
              "#fdca26"
             ],
             [
              1,
              "#f0f921"
             ]
            ],
            "type": "histogram2d"
           }
          ],
          "histogram2dcontour": [
           {
            "colorbar": {
             "outlinewidth": 0,
             "ticks": ""
            },
            "colorscale": [
             [
              0,
              "#0d0887"
             ],
             [
              0.1111111111111111,
              "#46039f"
             ],
             [
              0.2222222222222222,
              "#7201a8"
             ],
             [
              0.3333333333333333,
              "#9c179e"
             ],
             [
              0.4444444444444444,
              "#bd3786"
             ],
             [
              0.5555555555555556,
              "#d8576b"
             ],
             [
              0.6666666666666666,
              "#ed7953"
             ],
             [
              0.7777777777777778,
              "#fb9f3a"
             ],
             [
              0.8888888888888888,
              "#fdca26"
             ],
             [
              1,
              "#f0f921"
             ]
            ],
            "type": "histogram2dcontour"
           }
          ],
          "mesh3d": [
           {
            "colorbar": {
             "outlinewidth": 0,
             "ticks": ""
            },
            "type": "mesh3d"
           }
          ],
          "parcoords": [
           {
            "line": {
             "colorbar": {
              "outlinewidth": 0,
              "ticks": ""
             }
            },
            "type": "parcoords"
           }
          ],
          "pie": [
           {
            "automargin": true,
            "type": "pie"
           }
          ],
          "scatter": [
           {
            "fillpattern": {
             "fillmode": "overlay",
             "size": 10,
             "solidity": 0.2
            },
            "type": "scatter"
           }
          ],
          "scatter3d": [
           {
            "line": {
             "colorbar": {
              "outlinewidth": 0,
              "ticks": ""
             }
            },
            "marker": {
             "colorbar": {
              "outlinewidth": 0,
              "ticks": ""
             }
            },
            "type": "scatter3d"
           }
          ],
          "scattercarpet": [
           {
            "marker": {
             "colorbar": {
              "outlinewidth": 0,
              "ticks": ""
             }
            },
            "type": "scattercarpet"
           }
          ],
          "scattergeo": [
           {
            "marker": {
             "colorbar": {
              "outlinewidth": 0,
              "ticks": ""
             }
            },
            "type": "scattergeo"
           }
          ],
          "scattergl": [
           {
            "marker": {
             "colorbar": {
              "outlinewidth": 0,
              "ticks": ""
             }
            },
            "type": "scattergl"
           }
          ],
          "scattermapbox": [
           {
            "marker": {
             "colorbar": {
              "outlinewidth": 0,
              "ticks": ""
             }
            },
            "type": "scattermapbox"
           }
          ],
          "scatterpolar": [
           {
            "marker": {
             "colorbar": {
              "outlinewidth": 0,
              "ticks": ""
             }
            },
            "type": "scatterpolar"
           }
          ],
          "scatterpolargl": [
           {
            "marker": {
             "colorbar": {
              "outlinewidth": 0,
              "ticks": ""
             }
            },
            "type": "scatterpolargl"
           }
          ],
          "scatterternary": [
           {
            "marker": {
             "colorbar": {
              "outlinewidth": 0,
              "ticks": ""
             }
            },
            "type": "scatterternary"
           }
          ],
          "surface": [
           {
            "colorbar": {
             "outlinewidth": 0,
             "ticks": ""
            },
            "colorscale": [
             [
              0,
              "#0d0887"
             ],
             [
              0.1111111111111111,
              "#46039f"
             ],
             [
              0.2222222222222222,
              "#7201a8"
             ],
             [
              0.3333333333333333,
              "#9c179e"
             ],
             [
              0.4444444444444444,
              "#bd3786"
             ],
             [
              0.5555555555555556,
              "#d8576b"
             ],
             [
              0.6666666666666666,
              "#ed7953"
             ],
             [
              0.7777777777777778,
              "#fb9f3a"
             ],
             [
              0.8888888888888888,
              "#fdca26"
             ],
             [
              1,
              "#f0f921"
             ]
            ],
            "type": "surface"
           }
          ],
          "table": [
           {
            "cells": {
             "fill": {
              "color": "#EBF0F8"
             },
             "line": {
              "color": "white"
             }
            },
            "header": {
             "fill": {
              "color": "#C8D4E3"
             },
             "line": {
              "color": "white"
             }
            },
            "type": "table"
           }
          ]
         },
         "layout": {
          "annotationdefaults": {
           "arrowcolor": "#2a3f5f",
           "arrowhead": 0,
           "arrowwidth": 1
          },
          "autotypenumbers": "strict",
          "coloraxis": {
           "colorbar": {
            "outlinewidth": 0,
            "ticks": ""
           }
          },
          "colorscale": {
           "diverging": [
            [
             0,
             "#8e0152"
            ],
            [
             0.1,
             "#c51b7d"
            ],
            [
             0.2,
             "#de77ae"
            ],
            [
             0.3,
             "#f1b6da"
            ],
            [
             0.4,
             "#fde0ef"
            ],
            [
             0.5,
             "#f7f7f7"
            ],
            [
             0.6,
             "#e6f5d0"
            ],
            [
             0.7,
             "#b8e186"
            ],
            [
             0.8,
             "#7fbc41"
            ],
            [
             0.9,
             "#4d9221"
            ],
            [
             1,
             "#276419"
            ]
           ],
           "sequential": [
            [
             0,
             "#0d0887"
            ],
            [
             0.1111111111111111,
             "#46039f"
            ],
            [
             0.2222222222222222,
             "#7201a8"
            ],
            [
             0.3333333333333333,
             "#9c179e"
            ],
            [
             0.4444444444444444,
             "#bd3786"
            ],
            [
             0.5555555555555556,
             "#d8576b"
            ],
            [
             0.6666666666666666,
             "#ed7953"
            ],
            [
             0.7777777777777778,
             "#fb9f3a"
            ],
            [
             0.8888888888888888,
             "#fdca26"
            ],
            [
             1,
             "#f0f921"
            ]
           ],
           "sequentialminus": [
            [
             0,
             "#0d0887"
            ],
            [
             0.1111111111111111,
             "#46039f"
            ],
            [
             0.2222222222222222,
             "#7201a8"
            ],
            [
             0.3333333333333333,
             "#9c179e"
            ],
            [
             0.4444444444444444,
             "#bd3786"
            ],
            [
             0.5555555555555556,
             "#d8576b"
            ],
            [
             0.6666666666666666,
             "#ed7953"
            ],
            [
             0.7777777777777778,
             "#fb9f3a"
            ],
            [
             0.8888888888888888,
             "#fdca26"
            ],
            [
             1,
             "#f0f921"
            ]
           ]
          },
          "colorway": [
           "#636efa",
           "#EF553B",
           "#00cc96",
           "#ab63fa",
           "#FFA15A",
           "#19d3f3",
           "#FF6692",
           "#B6E880",
           "#FF97FF",
           "#FECB52"
          ],
          "font": {
           "color": "#2a3f5f"
          },
          "geo": {
           "bgcolor": "white",
           "lakecolor": "white",
           "landcolor": "#E5ECF6",
           "showlakes": true,
           "showland": true,
           "subunitcolor": "white"
          },
          "hoverlabel": {
           "align": "left"
          },
          "hovermode": "closest",
          "mapbox": {
           "style": "light"
          },
          "paper_bgcolor": "white",
          "plot_bgcolor": "#E5ECF6",
          "polar": {
           "angularaxis": {
            "gridcolor": "white",
            "linecolor": "white",
            "ticks": ""
           },
           "bgcolor": "#E5ECF6",
           "radialaxis": {
            "gridcolor": "white",
            "linecolor": "white",
            "ticks": ""
           }
          },
          "scene": {
           "xaxis": {
            "backgroundcolor": "#E5ECF6",
            "gridcolor": "white",
            "gridwidth": 2,
            "linecolor": "white",
            "showbackground": true,
            "ticks": "",
            "zerolinecolor": "white"
           },
           "yaxis": {
            "backgroundcolor": "#E5ECF6",
            "gridcolor": "white",
            "gridwidth": 2,
            "linecolor": "white",
            "showbackground": true,
            "ticks": "",
            "zerolinecolor": "white"
           },
           "zaxis": {
            "backgroundcolor": "#E5ECF6",
            "gridcolor": "white",
            "gridwidth": 2,
            "linecolor": "white",
            "showbackground": true,
            "ticks": "",
            "zerolinecolor": "white"
           }
          },
          "shapedefaults": {
           "line": {
            "color": "#2a3f5f"
           }
          },
          "ternary": {
           "aaxis": {
            "gridcolor": "white",
            "linecolor": "white",
            "ticks": ""
           },
           "baxis": {
            "gridcolor": "white",
            "linecolor": "white",
            "ticks": ""
           },
           "bgcolor": "#E5ECF6",
           "caxis": {
            "gridcolor": "white",
            "linecolor": "white",
            "ticks": ""
           }
          },
          "title": {
           "x": 0.05
          },
          "xaxis": {
           "automargin": true,
           "gridcolor": "white",
           "linecolor": "white",
           "ticks": "",
           "title": {
            "standoff": 15
           },
           "zerolinecolor": "white",
           "zerolinewidth": 2
          },
          "yaxis": {
           "automargin": true,
           "gridcolor": "white",
           "linecolor": "white",
           "ticks": "",
           "title": {
            "standoff": 15
           },
           "zerolinecolor": "white",
           "zerolinewidth": 2
          }
         }
        },
        "title": {
         "text": "요일별 시간당 '신규' 구독자 수"
        },
        "xaxis": {
         "ticktext": [
          "0",
          "1",
          "2",
          "3",
          "4",
          "5",
          "6",
          "7",
          "8",
          "9",
          "10",
          "11",
          "12",
          "13",
          "14",
          "15",
          "16",
          "17",
          "18",
          "19",
          "20",
          "21",
          "22",
          "23"
         ],
         "tickvals": [
          0,
          1,
          2,
          3,
          4,
          5,
          6,
          7,
          8,
          9,
          10,
          11,
          12,
          13,
          14,
          15,
          16,
          17,
          18,
          19,
          20,
          21,
          22,
          23
         ],
         "title": {
          "text": "Hour of the Day"
         }
        },
        "yaxis": {
         "title": {
          "text": "Number of Unique Daily Visits"
         }
        }
       }
      },
      "text/html": [
       "<div>                            <div id=\"3ef799d0-6f72-485d-9622-843aadbd3d65\" class=\"plotly-graph-div\" style=\"height:1200px; width:100%;\"></div>            <script type=\"text/javascript\">                require([\"plotly\"], function(Plotly) {                    window.PLOTLYENV=window.PLOTLYENV || {};                                    if (document.getElementById(\"3ef799d0-6f72-485d-9622-843aadbd3d65\")) {                    Plotly.newPlot(                        \"3ef799d0-6f72-485d-9622-843aadbd3d65\",                        [{\"marker\":{\"color\":\"red\"},\"name\":\"\\ud654\",\"text\":[\"1 visits<br>(1.75%)\",\"1 visits<br>(1.75%)\",\"1 visits<br>(1.75%)\",\"3 visits<br>(5.26%)\",\"1 visits<br>(1.75%)\",\"2 visits<br>(3.51%)\",\"1 visits<br>(1.75%)\",\"2 visits<br>(3.51%)\",\"1 visits<br>(1.75%)\"],\"textposition\":\"auto\",\"x\":[5.0,6.0,12.0,13.0,16.0,18.0,19.0,20.0,22.0],\"y\":[1,1,1,3,1,2,1,2,1],\"type\":\"bar\"},{\"marker\":{\"color\":\"orange\"},\"name\":\"\\uc218\",\"text\":[\"1 visits<br>(1.75%)\",\"1 visits<br>(1.75%)\",\"2 visits<br>(3.51%)\",\"2 visits<br>(3.51%)\",\"1 visits<br>(1.75%)\",\"1 visits<br>(1.75%)\",\"1 visits<br>(1.75%)\",\"1 visits<br>(1.75%)\",\"1 visits<br>(1.75%)\",\"1 visits<br>(1.75%)\"],\"textposition\":\"auto\",\"x\":[0.0,6.0,9.0,12.0,15.0,16.0,17.0,20.0,22.0,23.0],\"y\":[1,1,2,2,1,1,1,1,1,1],\"type\":\"bar\"},{\"marker\":{\"color\":\"yellow\"},\"name\":\"\\ubaa9\",\"text\":[\"1 visits<br>(1.75%)\",\"1 visits<br>(1.75%)\",\"1 visits<br>(1.75%)\",\"2 visits<br>(3.51%)\"],\"textposition\":\"auto\",\"x\":[7.0,13.0,17.0,19.0],\"y\":[1,1,1,2],\"type\":\"bar\"},{\"marker\":{\"color\":\"green\"},\"name\":\"\\uae08\",\"text\":[\"1 visits<br>(1.75%)\",\"1 visits<br>(1.75%)\",\"1 visits<br>(1.75%)\"],\"textposition\":\"auto\",\"x\":[9.0,10.0,15.0],\"y\":[1,1,1],\"type\":\"bar\"},{\"marker\":{\"color\":\"blue\"},\"name\":\"\\ud1a0\",\"text\":[\"1 visits<br>(1.75%)\",\"1 visits<br>(1.75%)\",\"1 visits<br>(1.75%)\",\"1 visits<br>(1.75%)\",\"1 visits<br>(1.75%)\",\"1 visits<br>(1.75%)\",\"1 visits<br>(1.75%)\"],\"textposition\":\"auto\",\"x\":[7.0,8.0,11.0,12.0,16.0,19.0,22.0],\"y\":[1,1,1,1,1,1,1],\"type\":\"bar\"},{\"marker\":{\"color\":\"indigo\"},\"name\":\"\\uc77c\",\"text\":[\"1 visits<br>(1.75%)\",\"1 visits<br>(1.75%)\",\"1 visits<br>(1.75%)\",\"1 visits<br>(1.75%)\",\"1 visits<br>(1.75%)\"],\"textposition\":\"auto\",\"x\":[2.0,3.0,14.0,15.0,16.0],\"y\":[1,1,1,1,1],\"type\":\"bar\"}],                        {\"template\":{\"data\":{\"histogram2dcontour\":[{\"type\":\"histogram2dcontour\",\"colorbar\":{\"outlinewidth\":0,\"ticks\":\"\"},\"colorscale\":[[0.0,\"#0d0887\"],[0.1111111111111111,\"#46039f\"],[0.2222222222222222,\"#7201a8\"],[0.3333333333333333,\"#9c179e\"],[0.4444444444444444,\"#bd3786\"],[0.5555555555555556,\"#d8576b\"],[0.6666666666666666,\"#ed7953\"],[0.7777777777777778,\"#fb9f3a\"],[0.8888888888888888,\"#fdca26\"],[1.0,\"#f0f921\"]]}],\"choropleth\":[{\"type\":\"choropleth\",\"colorbar\":{\"outlinewidth\":0,\"ticks\":\"\"}}],\"histogram2d\":[{\"type\":\"histogram2d\",\"colorbar\":{\"outlinewidth\":0,\"ticks\":\"\"},\"colorscale\":[[0.0,\"#0d0887\"],[0.1111111111111111,\"#46039f\"],[0.2222222222222222,\"#7201a8\"],[0.3333333333333333,\"#9c179e\"],[0.4444444444444444,\"#bd3786\"],[0.5555555555555556,\"#d8576b\"],[0.6666666666666666,\"#ed7953\"],[0.7777777777777778,\"#fb9f3a\"],[0.8888888888888888,\"#fdca26\"],[1.0,\"#f0f921\"]]}],\"heatmap\":[{\"type\":\"heatmap\",\"colorbar\":{\"outlinewidth\":0,\"ticks\":\"\"},\"colorscale\":[[0.0,\"#0d0887\"],[0.1111111111111111,\"#46039f\"],[0.2222222222222222,\"#7201a8\"],[0.3333333333333333,\"#9c179e\"],[0.4444444444444444,\"#bd3786\"],[0.5555555555555556,\"#d8576b\"],[0.6666666666666666,\"#ed7953\"],[0.7777777777777778,\"#fb9f3a\"],[0.8888888888888888,\"#fdca26\"],[1.0,\"#f0f921\"]]}],\"heatmapgl\":[{\"type\":\"heatmapgl\",\"colorbar\":{\"outlinewidth\":0,\"ticks\":\"\"},\"colorscale\":[[0.0,\"#0d0887\"],[0.1111111111111111,\"#46039f\"],[0.2222222222222222,\"#7201a8\"],[0.3333333333333333,\"#9c179e\"],[0.4444444444444444,\"#bd3786\"],[0.5555555555555556,\"#d8576b\"],[0.6666666666666666,\"#ed7953\"],[0.7777777777777778,\"#fb9f3a\"],[0.8888888888888888,\"#fdca26\"],[1.0,\"#f0f921\"]]}],\"contourcarpet\":[{\"type\":\"contourcarpet\",\"colorbar\":{\"outlinewidth\":0,\"ticks\":\"\"}}],\"contour\":[{\"type\":\"contour\",\"colorbar\":{\"outlinewidth\":0,\"ticks\":\"\"},\"colorscale\":[[0.0,\"#0d0887\"],[0.1111111111111111,\"#46039f\"],[0.2222222222222222,\"#7201a8\"],[0.3333333333333333,\"#9c179e\"],[0.4444444444444444,\"#bd3786\"],[0.5555555555555556,\"#d8576b\"],[0.6666666666666666,\"#ed7953\"],[0.7777777777777778,\"#fb9f3a\"],[0.8888888888888888,\"#fdca26\"],[1.0,\"#f0f921\"]]}],\"surface\":[{\"type\":\"surface\",\"colorbar\":{\"outlinewidth\":0,\"ticks\":\"\"},\"colorscale\":[[0.0,\"#0d0887\"],[0.1111111111111111,\"#46039f\"],[0.2222222222222222,\"#7201a8\"],[0.3333333333333333,\"#9c179e\"],[0.4444444444444444,\"#bd3786\"],[0.5555555555555556,\"#d8576b\"],[0.6666666666666666,\"#ed7953\"],[0.7777777777777778,\"#fb9f3a\"],[0.8888888888888888,\"#fdca26\"],[1.0,\"#f0f921\"]]}],\"mesh3d\":[{\"type\":\"mesh3d\",\"colorbar\":{\"outlinewidth\":0,\"ticks\":\"\"}}],\"scatter\":[{\"fillpattern\":{\"fillmode\":\"overlay\",\"size\":10,\"solidity\":0.2},\"type\":\"scatter\"}],\"parcoords\":[{\"type\":\"parcoords\",\"line\":{\"colorbar\":{\"outlinewidth\":0,\"ticks\":\"\"}}}],\"scatterpolargl\":[{\"type\":\"scatterpolargl\",\"marker\":{\"colorbar\":{\"outlinewidth\":0,\"ticks\":\"\"}}}],\"bar\":[{\"error_x\":{\"color\":\"#2a3f5f\"},\"error_y\":{\"color\":\"#2a3f5f\"},\"marker\":{\"line\":{\"color\":\"#E5ECF6\",\"width\":0.5},\"pattern\":{\"fillmode\":\"overlay\",\"size\":10,\"solidity\":0.2}},\"type\":\"bar\"}],\"scattergeo\":[{\"type\":\"scattergeo\",\"marker\":{\"colorbar\":{\"outlinewidth\":0,\"ticks\":\"\"}}}],\"scatterpolar\":[{\"type\":\"scatterpolar\",\"marker\":{\"colorbar\":{\"outlinewidth\":0,\"ticks\":\"\"}}}],\"histogram\":[{\"marker\":{\"pattern\":{\"fillmode\":\"overlay\",\"size\":10,\"solidity\":0.2}},\"type\":\"histogram\"}],\"scattergl\":[{\"type\":\"scattergl\",\"marker\":{\"colorbar\":{\"outlinewidth\":0,\"ticks\":\"\"}}}],\"scatter3d\":[{\"type\":\"scatter3d\",\"line\":{\"colorbar\":{\"outlinewidth\":0,\"ticks\":\"\"}},\"marker\":{\"colorbar\":{\"outlinewidth\":0,\"ticks\":\"\"}}}],\"scattermapbox\":[{\"type\":\"scattermapbox\",\"marker\":{\"colorbar\":{\"outlinewidth\":0,\"ticks\":\"\"}}}],\"scatterternary\":[{\"type\":\"scatterternary\",\"marker\":{\"colorbar\":{\"outlinewidth\":0,\"ticks\":\"\"}}}],\"scattercarpet\":[{\"type\":\"scattercarpet\",\"marker\":{\"colorbar\":{\"outlinewidth\":0,\"ticks\":\"\"}}}],\"carpet\":[{\"aaxis\":{\"endlinecolor\":\"#2a3f5f\",\"gridcolor\":\"white\",\"linecolor\":\"white\",\"minorgridcolor\":\"white\",\"startlinecolor\":\"#2a3f5f\"},\"baxis\":{\"endlinecolor\":\"#2a3f5f\",\"gridcolor\":\"white\",\"linecolor\":\"white\",\"minorgridcolor\":\"white\",\"startlinecolor\":\"#2a3f5f\"},\"type\":\"carpet\"}],\"table\":[{\"cells\":{\"fill\":{\"color\":\"#EBF0F8\"},\"line\":{\"color\":\"white\"}},\"header\":{\"fill\":{\"color\":\"#C8D4E3\"},\"line\":{\"color\":\"white\"}},\"type\":\"table\"}],\"barpolar\":[{\"marker\":{\"line\":{\"color\":\"#E5ECF6\",\"width\":0.5},\"pattern\":{\"fillmode\":\"overlay\",\"size\":10,\"solidity\":0.2}},\"type\":\"barpolar\"}],\"pie\":[{\"automargin\":true,\"type\":\"pie\"}]},\"layout\":{\"autotypenumbers\":\"strict\",\"colorway\":[\"#636efa\",\"#EF553B\",\"#00cc96\",\"#ab63fa\",\"#FFA15A\",\"#19d3f3\",\"#FF6692\",\"#B6E880\",\"#FF97FF\",\"#FECB52\"],\"font\":{\"color\":\"#2a3f5f\"},\"hovermode\":\"closest\",\"hoverlabel\":{\"align\":\"left\"},\"paper_bgcolor\":\"white\",\"plot_bgcolor\":\"#E5ECF6\",\"polar\":{\"bgcolor\":\"#E5ECF6\",\"angularaxis\":{\"gridcolor\":\"white\",\"linecolor\":\"white\",\"ticks\":\"\"},\"radialaxis\":{\"gridcolor\":\"white\",\"linecolor\":\"white\",\"ticks\":\"\"}},\"ternary\":{\"bgcolor\":\"#E5ECF6\",\"aaxis\":{\"gridcolor\":\"white\",\"linecolor\":\"white\",\"ticks\":\"\"},\"baxis\":{\"gridcolor\":\"white\",\"linecolor\":\"white\",\"ticks\":\"\"},\"caxis\":{\"gridcolor\":\"white\",\"linecolor\":\"white\",\"ticks\":\"\"}},\"coloraxis\":{\"colorbar\":{\"outlinewidth\":0,\"ticks\":\"\"}},\"colorscale\":{\"sequential\":[[0.0,\"#0d0887\"],[0.1111111111111111,\"#46039f\"],[0.2222222222222222,\"#7201a8\"],[0.3333333333333333,\"#9c179e\"],[0.4444444444444444,\"#bd3786\"],[0.5555555555555556,\"#d8576b\"],[0.6666666666666666,\"#ed7953\"],[0.7777777777777778,\"#fb9f3a\"],[0.8888888888888888,\"#fdca26\"],[1.0,\"#f0f921\"]],\"sequentialminus\":[[0.0,\"#0d0887\"],[0.1111111111111111,\"#46039f\"],[0.2222222222222222,\"#7201a8\"],[0.3333333333333333,\"#9c179e\"],[0.4444444444444444,\"#bd3786\"],[0.5555555555555556,\"#d8576b\"],[0.6666666666666666,\"#ed7953\"],[0.7777777777777778,\"#fb9f3a\"],[0.8888888888888888,\"#fdca26\"],[1.0,\"#f0f921\"]],\"diverging\":[[0,\"#8e0152\"],[0.1,\"#c51b7d\"],[0.2,\"#de77ae\"],[0.3,\"#f1b6da\"],[0.4,\"#fde0ef\"],[0.5,\"#f7f7f7\"],[0.6,\"#e6f5d0\"],[0.7,\"#b8e186\"],[0.8,\"#7fbc41\"],[0.9,\"#4d9221\"],[1,\"#276419\"]]},\"xaxis\":{\"gridcolor\":\"white\",\"linecolor\":\"white\",\"ticks\":\"\",\"title\":{\"standoff\":15},\"zerolinecolor\":\"white\",\"automargin\":true,\"zerolinewidth\":2},\"yaxis\":{\"gridcolor\":\"white\",\"linecolor\":\"white\",\"ticks\":\"\",\"title\":{\"standoff\":15},\"zerolinecolor\":\"white\",\"automargin\":true,\"zerolinewidth\":2},\"scene\":{\"xaxis\":{\"backgroundcolor\":\"#E5ECF6\",\"gridcolor\":\"white\",\"linecolor\":\"white\",\"showbackground\":true,\"ticks\":\"\",\"zerolinecolor\":\"white\",\"gridwidth\":2},\"yaxis\":{\"backgroundcolor\":\"#E5ECF6\",\"gridcolor\":\"white\",\"linecolor\":\"white\",\"showbackground\":true,\"ticks\":\"\",\"zerolinecolor\":\"white\",\"gridwidth\":2},\"zaxis\":{\"backgroundcolor\":\"#E5ECF6\",\"gridcolor\":\"white\",\"linecolor\":\"white\",\"showbackground\":true,\"ticks\":\"\",\"zerolinecolor\":\"white\",\"gridwidth\":2}},\"shapedefaults\":{\"line\":{\"color\":\"#2a3f5f\"}},\"annotationdefaults\":{\"arrowcolor\":\"#2a3f5f\",\"arrowhead\":0,\"arrowwidth\":1},\"geo\":{\"bgcolor\":\"white\",\"landcolor\":\"#E5ECF6\",\"subunitcolor\":\"white\",\"showland\":true,\"showlakes\":true,\"lakecolor\":\"white\"},\"title\":{\"x\":0.05},\"mapbox\":{\"style\":\"light\"}}},\"xaxis\":{\"title\":{\"text\":\"Hour of the Day\"},\"tickvals\":[0,1,2,3,4,5,6,7,8,9,10,11,12,13,14,15,16,17,18,19,20,21,22,23],\"ticktext\":[\"0\",\"1\",\"2\",\"3\",\"4\",\"5\",\"6\",\"7\",\"8\",\"9\",\"10\",\"11\",\"12\",\"13\",\"14\",\"15\",\"16\",\"17\",\"18\",\"19\",\"20\",\"21\",\"22\",\"23\"]},\"title\":{\"text\":\"\\uc694\\uc77c\\ubcc4 \\uc2dc\\uac04\\ub2f9 '\\uc2e0\\uaddc' \\uad6c\\ub3c5\\uc790 \\uc218\"},\"yaxis\":{\"title\":{\"text\":\"Number of Unique Daily Visits\"}},\"barmode\":\"stack\",\"height\":1200},                        {\"responsive\": true}                    ).then(function(){\n",
       "                            \n",
       "var gd = document.getElementById('3ef799d0-6f72-485d-9622-843aadbd3d65');\n",
       "var x = new MutationObserver(function (mutations, observer) {{\n",
       "        var display = window.getComputedStyle(gd).display;\n",
       "        if (!display || display === 'none') {{\n",
       "            console.log([gd, 'removed!']);\n",
       "            Plotly.purge(gd);\n",
       "            observer.disconnect();\n",
       "        }}\n",
       "}});\n",
       "\n",
       "// Listen for the removal of the full notebook cells\n",
       "var notebookContainer = gd.closest('#notebook-container');\n",
       "if (notebookContainer) {{\n",
       "    x.observe(notebookContainer, {childList: true});\n",
       "}}\n",
       "\n",
       "// Listen for the clearing of the current output cell\n",
       "var outputEl = gd.closest('.output');\n",
       "if (outputEl) {{\n",
       "    x.observe(outputEl, {childList: true});\n",
       "}}\n",
       "\n",
       "                        })                };                });            </script>        </div>"
      ]
     },
     "metadata": {},
     "output_type": "display_data"
    }
   ],
   "source": [
    "def day_of_week_korean_pandas(day_num):\n",
    "    \"\"\"\n",
    "    Convert a day number (1-7) to its Korean representation.\n",
    "    Note: MySQL's DAYOFWEEK() function considers 1 as Sunday and 7 as Saturday.\n",
    "    \"\"\"\n",
    "    days_korean = {\n",
    "        6: \"일\",  # Sunday\n",
    "        0: \"월\",  # Monday\n",
    "        1: \"화\",  # Tuesday\n",
    "        2: \"수\",  # Wednesday\n",
    "        3: \"목\",  # Thursday\n",
    "        4: \"금\",  # Friday\n",
    "        5: \"토\"   # Saturday\n",
    "    }\n",
    "    return days_korean.get(day_num, \"\")\n",
    "\n",
    "\n",
    "data = df[df['기존고객'] == '신규']\n",
    "# data = df\n",
    "x_axis_labels = list(range(24))  # Hour labels for x axis\n",
    "\n",
    "# total_visits = new_members_today\n",
    "\n",
    "total_subscribed = data[data['subscription_count'] > 0].shape[0]\n",
    "# total_non_subscribed = data.shape[0] - total_subscribed\n",
    "total_visits = total_subscribed\n",
    "data['first_subscription_time'] = pd.to_datetime(data['first_subscription_time'])\n",
    "data['day_of_week'] = data['first_subscription_time'].dt.dayofweek\n",
    "data['visit_hour'] = data['first_subscription_time'].dt.hour\n",
    "data = data.groupby(['day_of_week', 'visit_hour']).size().reset_index(name='unique_daily_visits')\n",
    "\n",
    "\n",
    "colors = ['red', 'orange', 'yellow', 'green', 'blue', 'indigo', 'violet']\n",
    "\n",
    "# Create a bar chart\n",
    "fig = go.Figure()\n",
    "\n",
    "# for day in range(1, 8):  # Assuming 1 is Sunday and 7 is Saturday as per MySQL's DAYOFWEEK()\n",
    "for day in range(1, 7):  # Assuming 1 is Sunday and 7 is Saturday as per MySQL's DAYOFWEEK()\n",
    "    subset = data[data['day_of_week'] == day]\n",
    "    fig.add_trace(go.Bar(\n",
    "        x=subset['visit_hour'],\n",
    "        y=subset['unique_daily_visits'],\n",
    "        name=day_of_week_korean_pandas(day),  # or replace with actual day names\n",
    "        marker_color=colors[day - 1],\n",
    "        # text=[f\"{hour}시<br>{count} visits<br>({count/total_visits:.2%})\" for hour, count in zip(subset['visit_hour'], subset['unique_daily_visits'])],\n",
    "        text=[f\"{count} visits<br>({count/total_visits:.2%})\" for hour, count in zip(subset['visit_hour'], subset['unique_daily_visits'])],\n",
    "        textposition='auto'\n",
    "    ))\n",
    "\n",
    "\n",
    "fig.update_layout(\n",
    "    title=\"요일별 시간당 '신규' 구독자 수\",\n",
    "    xaxis=dict(\n",
    "        title=\"Hour of the Day\",\n",
    "        tickvals=x_axis_labels,\n",
    "        ticktext=[str(i) for i in x_axis_labels]\n",
    "    ),\n",
    "    yaxis=dict(title=\"Number of Unique Daily Visits\"),\n",
    "    barmode='stack', height=1200\n",
    ")\n",
    "\n",
    "# Show the plot\n",
    "fig.show()"
   ]
  },
  {
   "cell_type": "code",
   "execution_count": 118,
   "metadata": {},
   "outputs": [
    {
     "name": "stderr",
     "output_type": "stream",
     "text": [
      "/tmp/ipykernel_2111613/1465318856.py:6: FutureWarning:\n",
      "\n",
      "In a future version of pandas all arguments of DataFrame.pivot will be keyword-only.\n",
      "\n"
     ]
    },
    {
     "data": {
      "application/vnd.plotly.v1+json": {
       "config": {
        "plotlyServerURL": "https://plot.ly"
       },
       "data": [
        {
         "colorbar": {
          "title": {
           "text": "Unique Visits"
          }
         },
         "colorscale": [
          [
           0,
           "#440154"
          ],
          [
           0.1111111111111111,
           "#482878"
          ],
          [
           0.2222222222222222,
           "#3e4989"
          ],
          [
           0.3333333333333333,
           "#31688e"
          ],
          [
           0.4444444444444444,
           "#26828e"
          ],
          [
           0.5555555555555556,
           "#1f9e89"
          ],
          [
           0.6666666666666666,
           "#35b779"
          ],
          [
           0.7777777777777778,
           "#6ece58"
          ],
          [
           0.8888888888888888,
           "#b5de2b"
          ],
          [
           1,
           "#fde725"
          ]
         ],
         "hoverinfo": "text",
         "text": [
          [
           "3.0 visits<br>월 0.0시",
           "0.0 visits<br>월 2.0시",
           "0.0 visits<br>월 3.0시",
           "0.0 visits<br>월 5.0시",
           "0.0 visits<br>월 6.0시",
           "0.0 visits<br>월 7.0시",
           "1.0 visits<br>월 8.0시",
           "1.0 visits<br>월 9.0시",
           "0.0 visits<br>월 10.0시",
           "0.0 visits<br>월 11.0시",
           "0.0 visits<br>월 12.0시",
           "1.0 visits<br>월 13.0시",
           "1.0 visits<br>월 14.0시",
           "0.0 visits<br>월 15.0시",
           "0.0 visits<br>월 16.0시",
           "1.0 visits<br>월 17.0시",
           "1.0 visits<br>월 18.0시",
           "0.0 visits<br>월 19.0시",
           "0.0 visits<br>월 20.0시",
           "1.0 visits<br>월 21.0시",
           "1.0 visits<br>월 22.0시",
           "1.0 visits<br>월 23.0시"
          ],
          [
           "0.0 visits<br>화 0.0시",
           "0.0 visits<br>화 2.0시",
           "0.0 visits<br>화 3.0시",
           "1.0 visits<br>화 5.0시",
           "1.0 visits<br>화 6.0시",
           "0.0 visits<br>화 7.0시",
           "0.0 visits<br>화 8.0시",
           "0.0 visits<br>화 9.0시",
           "0.0 visits<br>화 10.0시",
           "0.0 visits<br>화 11.0시",
           "1.0 visits<br>화 12.0시",
           "3.0 visits<br>화 13.0시",
           "0.0 visits<br>화 14.0시",
           "0.0 visits<br>화 15.0시",
           "1.0 visits<br>화 16.0시",
           "0.0 visits<br>화 17.0시",
           "2.0 visits<br>화 18.0시",
           "1.0 visits<br>화 19.0시",
           "2.0 visits<br>화 20.0시",
           "0.0 visits<br>화 21.0시",
           "1.0 visits<br>화 22.0시",
           "0.0 visits<br>화 23.0시"
          ],
          [
           "1.0 visits<br>수 0.0시",
           "0.0 visits<br>수 2.0시",
           "0.0 visits<br>수 3.0시",
           "0.0 visits<br>수 5.0시",
           "1.0 visits<br>수 6.0시",
           "0.0 visits<br>수 7.0시",
           "0.0 visits<br>수 8.0시",
           "2.0 visits<br>수 9.0시",
           "0.0 visits<br>수 10.0시",
           "0.0 visits<br>수 11.0시",
           "2.0 visits<br>수 12.0시",
           "0.0 visits<br>수 13.0시",
           "0.0 visits<br>수 14.0시",
           "1.0 visits<br>수 15.0시",
           "1.0 visits<br>수 16.0시",
           "1.0 visits<br>수 17.0시",
           "0.0 visits<br>수 18.0시",
           "0.0 visits<br>수 19.0시",
           "1.0 visits<br>수 20.0시",
           "0.0 visits<br>수 21.0시",
           "1.0 visits<br>수 22.0시",
           "1.0 visits<br>수 23.0시"
          ],
          [
           "0.0 visits<br>목 0.0시",
           "0.0 visits<br>목 2.0시",
           "0.0 visits<br>목 3.0시",
           "0.0 visits<br>목 5.0시",
           "0.0 visits<br>목 6.0시",
           "1.0 visits<br>목 7.0시",
           "0.0 visits<br>목 8.0시",
           "0.0 visits<br>목 9.0시",
           "0.0 visits<br>목 10.0시",
           "0.0 visits<br>목 11.0시",
           "0.0 visits<br>목 12.0시",
           "1.0 visits<br>목 13.0시",
           "0.0 visits<br>목 14.0시",
           "0.0 visits<br>목 15.0시",
           "0.0 visits<br>목 16.0시",
           "1.0 visits<br>목 17.0시",
           "0.0 visits<br>목 18.0시",
           "2.0 visits<br>목 19.0시",
           "0.0 visits<br>목 20.0시",
           "0.0 visits<br>목 21.0시",
           "0.0 visits<br>목 22.0시",
           "0.0 visits<br>목 23.0시"
          ],
          [
           "0.0 visits<br>금 0.0시",
           "0.0 visits<br>금 2.0시",
           "0.0 visits<br>금 3.0시",
           "0.0 visits<br>금 5.0시",
           "0.0 visits<br>금 6.0시",
           "0.0 visits<br>금 7.0시",
           "0.0 visits<br>금 8.0시",
           "1.0 visits<br>금 9.0시",
           "1.0 visits<br>금 10.0시",
           "0.0 visits<br>금 11.0시",
           "0.0 visits<br>금 12.0시",
           "0.0 visits<br>금 13.0시",
           "0.0 visits<br>금 14.0시",
           "1.0 visits<br>금 15.0시",
           "0.0 visits<br>금 16.0시",
           "0.0 visits<br>금 17.0시",
           "0.0 visits<br>금 18.0시",
           "0.0 visits<br>금 19.0시",
           "0.0 visits<br>금 20.0시",
           "0.0 visits<br>금 21.0시",
           "0.0 visits<br>금 22.0시",
           "0.0 visits<br>금 23.0시"
          ],
          [
           "0.0 visits<br>토 0.0시",
           "0.0 visits<br>토 2.0시",
           "0.0 visits<br>토 3.0시",
           "0.0 visits<br>토 5.0시",
           "0.0 visits<br>토 6.0시",
           "1.0 visits<br>토 7.0시",
           "1.0 visits<br>토 8.0시",
           "0.0 visits<br>토 9.0시",
           "0.0 visits<br>토 10.0시",
           "1.0 visits<br>토 11.0시",
           "1.0 visits<br>토 12.0시",
           "0.0 visits<br>토 13.0시",
           "0.0 visits<br>토 14.0시",
           "0.0 visits<br>토 15.0시",
           "1.0 visits<br>토 16.0시",
           "0.0 visits<br>토 17.0시",
           "0.0 visits<br>토 18.0시",
           "1.0 visits<br>토 19.0시",
           "0.0 visits<br>토 20.0시",
           "0.0 visits<br>토 21.0시",
           "1.0 visits<br>토 22.0시",
           "0.0 visits<br>토 23.0시"
          ],
          [
           "0.0 visits<br>일 0.0시",
           "1.0 visits<br>일 2.0시",
           "1.0 visits<br>일 3.0시",
           "0.0 visits<br>일 5.0시",
           "0.0 visits<br>일 6.0시",
           "0.0 visits<br>일 7.0시",
           "0.0 visits<br>일 8.0시",
           "0.0 visits<br>일 9.0시",
           "0.0 visits<br>일 10.0시",
           "0.0 visits<br>일 11.0시",
           "0.0 visits<br>일 12.0시",
           "0.0 visits<br>일 13.0시",
           "1.0 visits<br>일 14.0시",
           "1.0 visits<br>일 15.0시",
           "1.0 visits<br>일 16.0시",
           "0.0 visits<br>일 17.0시",
           "0.0 visits<br>일 18.0시",
           "0.0 visits<br>일 19.0시",
           "0.0 visits<br>일 20.0시",
           "0.0 visits<br>일 21.0시",
           "0.0 visits<br>일 22.0시",
           "0.0 visits<br>일 23.0시"
          ]
         ],
         "type": "heatmap",
         "x": [
          0,
          2,
          3,
          5,
          6,
          7,
          8,
          9,
          10,
          11,
          12,
          13,
          14,
          15,
          16,
          17,
          18,
          19,
          20,
          21,
          22,
          23
         ],
         "y": [
          0,
          1,
          2,
          3,
          4,
          5,
          6
         ],
         "z": [
          [
           3,
           0,
           0,
           0,
           0,
           0,
           1,
           1,
           0,
           0,
           0,
           1,
           1,
           0,
           0,
           1,
           1,
           0,
           0,
           1,
           1,
           1
          ],
          [
           0,
           0,
           0,
           1,
           1,
           0,
           0,
           0,
           0,
           0,
           1,
           3,
           0,
           0,
           1,
           0,
           2,
           1,
           2,
           0,
           1,
           0
          ],
          [
           1,
           0,
           0,
           0,
           1,
           0,
           0,
           2,
           0,
           0,
           2,
           0,
           0,
           1,
           1,
           1,
           0,
           0,
           1,
           0,
           1,
           1
          ],
          [
           0,
           0,
           0,
           0,
           0,
           1,
           0,
           0,
           0,
           0,
           0,
           1,
           0,
           0,
           0,
           1,
           0,
           2,
           0,
           0,
           0,
           0
          ],
          [
           0,
           0,
           0,
           0,
           0,
           0,
           0,
           1,
           1,
           0,
           0,
           0,
           0,
           1,
           0,
           0,
           0,
           0,
           0,
           0,
           0,
           0
          ],
          [
           0,
           0,
           0,
           0,
           0,
           1,
           1,
           0,
           0,
           1,
           1,
           0,
           0,
           0,
           1,
           0,
           0,
           1,
           0,
           0,
           1,
           0
          ],
          [
           0,
           1,
           1,
           0,
           0,
           0,
           0,
           0,
           0,
           0,
           0,
           0,
           1,
           1,
           1,
           0,
           0,
           0,
           0,
           0,
           0,
           0
          ]
         ]
        }
       ],
       "layout": {
        "annotations": [
         {
          "font": {
           "color": "black"
          },
          "showarrow": false,
          "text": "0월<br>3",
          "x": 0,
          "xref": "x",
          "y": 0,
          "yref": "y"
         },
         {
          "font": {
           "color": "black"
          },
          "showarrow": false,
          "text": "8월<br>1",
          "x": 8,
          "xref": "x",
          "y": 0,
          "yref": "y"
         },
         {
          "font": {
           "color": "black"
          },
          "showarrow": false,
          "text": "9월<br>1",
          "x": 9,
          "xref": "x",
          "y": 0,
          "yref": "y"
         },
         {
          "font": {
           "color": "black"
          },
          "showarrow": false,
          "text": "13월<br>1",
          "x": 13,
          "xref": "x",
          "y": 0,
          "yref": "y"
         },
         {
          "font": {
           "color": "black"
          },
          "showarrow": false,
          "text": "14월<br>1",
          "x": 14,
          "xref": "x",
          "y": 0,
          "yref": "y"
         },
         {
          "font": {
           "color": "black"
          },
          "showarrow": false,
          "text": "17월<br>1",
          "x": 17,
          "xref": "x",
          "y": 0,
          "yref": "y"
         },
         {
          "font": {
           "color": "black"
          },
          "showarrow": false,
          "text": "18월<br>1",
          "x": 18,
          "xref": "x",
          "y": 0,
          "yref": "y"
         },
         {
          "font": {
           "color": "black"
          },
          "showarrow": false,
          "text": "21월<br>1",
          "x": 21,
          "xref": "x",
          "y": 0,
          "yref": "y"
         },
         {
          "font": {
           "color": "black"
          },
          "showarrow": false,
          "text": "22월<br>1",
          "x": 22,
          "xref": "x",
          "y": 0,
          "yref": "y"
         },
         {
          "font": {
           "color": "black"
          },
          "showarrow": false,
          "text": "23월<br>1",
          "x": 23,
          "xref": "x",
          "y": 0,
          "yref": "y"
         },
         {
          "font": {
           "color": "black"
          },
          "showarrow": false,
          "text": "5화<br>1",
          "x": 5,
          "xref": "x",
          "y": 1,
          "yref": "y"
         },
         {
          "font": {
           "color": "black"
          },
          "showarrow": false,
          "text": "6화<br>1",
          "x": 6,
          "xref": "x",
          "y": 1,
          "yref": "y"
         },
         {
          "font": {
           "color": "black"
          },
          "showarrow": false,
          "text": "12화<br>1",
          "x": 12,
          "xref": "x",
          "y": 1,
          "yref": "y"
         },
         {
          "font": {
           "color": "black"
          },
          "showarrow": false,
          "text": "13화<br>3",
          "x": 13,
          "xref": "x",
          "y": 1,
          "yref": "y"
         },
         {
          "font": {
           "color": "black"
          },
          "showarrow": false,
          "text": "16화<br>1",
          "x": 16,
          "xref": "x",
          "y": 1,
          "yref": "y"
         },
         {
          "font": {
           "color": "black"
          },
          "showarrow": false,
          "text": "18화<br>2",
          "x": 18,
          "xref": "x",
          "y": 1,
          "yref": "y"
         },
         {
          "font": {
           "color": "black"
          },
          "showarrow": false,
          "text": "19화<br>1",
          "x": 19,
          "xref": "x",
          "y": 1,
          "yref": "y"
         },
         {
          "font": {
           "color": "black"
          },
          "showarrow": false,
          "text": "20화<br>2",
          "x": 20,
          "xref": "x",
          "y": 1,
          "yref": "y"
         },
         {
          "font": {
           "color": "black"
          },
          "showarrow": false,
          "text": "22화<br>1",
          "x": 22,
          "xref": "x",
          "y": 1,
          "yref": "y"
         },
         {
          "font": {
           "color": "black"
          },
          "showarrow": false,
          "text": "0수<br>1",
          "x": 0,
          "xref": "x",
          "y": 2,
          "yref": "y"
         },
         {
          "font": {
           "color": "black"
          },
          "showarrow": false,
          "text": "6수<br>1",
          "x": 6,
          "xref": "x",
          "y": 2,
          "yref": "y"
         },
         {
          "font": {
           "color": "black"
          },
          "showarrow": false,
          "text": "9수<br>2",
          "x": 9,
          "xref": "x",
          "y": 2,
          "yref": "y"
         },
         {
          "font": {
           "color": "black"
          },
          "showarrow": false,
          "text": "12수<br>2",
          "x": 12,
          "xref": "x",
          "y": 2,
          "yref": "y"
         },
         {
          "font": {
           "color": "black"
          },
          "showarrow": false,
          "text": "15수<br>1",
          "x": 15,
          "xref": "x",
          "y": 2,
          "yref": "y"
         },
         {
          "font": {
           "color": "black"
          },
          "showarrow": false,
          "text": "16수<br>1",
          "x": 16,
          "xref": "x",
          "y": 2,
          "yref": "y"
         },
         {
          "font": {
           "color": "black"
          },
          "showarrow": false,
          "text": "17수<br>1",
          "x": 17,
          "xref": "x",
          "y": 2,
          "yref": "y"
         },
         {
          "font": {
           "color": "black"
          },
          "showarrow": false,
          "text": "20수<br>1",
          "x": 20,
          "xref": "x",
          "y": 2,
          "yref": "y"
         },
         {
          "font": {
           "color": "black"
          },
          "showarrow": false,
          "text": "22수<br>1",
          "x": 22,
          "xref": "x",
          "y": 2,
          "yref": "y"
         },
         {
          "font": {
           "color": "black"
          },
          "showarrow": false,
          "text": "23수<br>1",
          "x": 23,
          "xref": "x",
          "y": 2,
          "yref": "y"
         },
         {
          "font": {
           "color": "black"
          },
          "showarrow": false,
          "text": "7목<br>1",
          "x": 7,
          "xref": "x",
          "y": 3,
          "yref": "y"
         },
         {
          "font": {
           "color": "black"
          },
          "showarrow": false,
          "text": "13목<br>1",
          "x": 13,
          "xref": "x",
          "y": 3,
          "yref": "y"
         },
         {
          "font": {
           "color": "black"
          },
          "showarrow": false,
          "text": "17목<br>1",
          "x": 17,
          "xref": "x",
          "y": 3,
          "yref": "y"
         },
         {
          "font": {
           "color": "black"
          },
          "showarrow": false,
          "text": "19목<br>2",
          "x": 19,
          "xref": "x",
          "y": 3,
          "yref": "y"
         },
         {
          "font": {
           "color": "black"
          },
          "showarrow": false,
          "text": "9금<br>1",
          "x": 9,
          "xref": "x",
          "y": 4,
          "yref": "y"
         },
         {
          "font": {
           "color": "black"
          },
          "showarrow": false,
          "text": "10금<br>1",
          "x": 10,
          "xref": "x",
          "y": 4,
          "yref": "y"
         },
         {
          "font": {
           "color": "black"
          },
          "showarrow": false,
          "text": "15금<br>1",
          "x": 15,
          "xref": "x",
          "y": 4,
          "yref": "y"
         },
         {
          "font": {
           "color": "black"
          },
          "showarrow": false,
          "text": "7토<br>1",
          "x": 7,
          "xref": "x",
          "y": 5,
          "yref": "y"
         },
         {
          "font": {
           "color": "black"
          },
          "showarrow": false,
          "text": "8토<br>1",
          "x": 8,
          "xref": "x",
          "y": 5,
          "yref": "y"
         },
         {
          "font": {
           "color": "black"
          },
          "showarrow": false,
          "text": "11토<br>1",
          "x": 11,
          "xref": "x",
          "y": 5,
          "yref": "y"
         },
         {
          "font": {
           "color": "black"
          },
          "showarrow": false,
          "text": "12토<br>1",
          "x": 12,
          "xref": "x",
          "y": 5,
          "yref": "y"
         },
         {
          "font": {
           "color": "black"
          },
          "showarrow": false,
          "text": "16토<br>1",
          "x": 16,
          "xref": "x",
          "y": 5,
          "yref": "y"
         },
         {
          "font": {
           "color": "black"
          },
          "showarrow": false,
          "text": "19토<br>1",
          "x": 19,
          "xref": "x",
          "y": 5,
          "yref": "y"
         },
         {
          "font": {
           "color": "black"
          },
          "showarrow": false,
          "text": "22토<br>1",
          "x": 22,
          "xref": "x",
          "y": 5,
          "yref": "y"
         },
         {
          "font": {
           "color": "black"
          },
          "showarrow": false,
          "text": "2일<br>1",
          "x": 2,
          "xref": "x",
          "y": 6,
          "yref": "y"
         },
         {
          "font": {
           "color": "black"
          },
          "showarrow": false,
          "text": "3일<br>1",
          "x": 3,
          "xref": "x",
          "y": 6,
          "yref": "y"
         },
         {
          "font": {
           "color": "black"
          },
          "showarrow": false,
          "text": "14일<br>1",
          "x": 14,
          "xref": "x",
          "y": 6,
          "yref": "y"
         },
         {
          "font": {
           "color": "black"
          },
          "showarrow": false,
          "text": "15일<br>1",
          "x": 15,
          "xref": "x",
          "y": 6,
          "yref": "y"
         },
         {
          "font": {
           "color": "black"
          },
          "showarrow": false,
          "text": "16일<br>1",
          "x": 16,
          "xref": "x",
          "y": 6,
          "yref": "y"
         }
        ],
        "height": 650,
        "template": {
         "data": {
          "bar": [
           {
            "error_x": {
             "color": "#2a3f5f"
            },
            "error_y": {
             "color": "#2a3f5f"
            },
            "marker": {
             "line": {
              "color": "#E5ECF6",
              "width": 0.5
             },
             "pattern": {
              "fillmode": "overlay",
              "size": 10,
              "solidity": 0.2
             }
            },
            "type": "bar"
           }
          ],
          "barpolar": [
           {
            "marker": {
             "line": {
              "color": "#E5ECF6",
              "width": 0.5
             },
             "pattern": {
              "fillmode": "overlay",
              "size": 10,
              "solidity": 0.2
             }
            },
            "type": "barpolar"
           }
          ],
          "carpet": [
           {
            "aaxis": {
             "endlinecolor": "#2a3f5f",
             "gridcolor": "white",
             "linecolor": "white",
             "minorgridcolor": "white",
             "startlinecolor": "#2a3f5f"
            },
            "baxis": {
             "endlinecolor": "#2a3f5f",
             "gridcolor": "white",
             "linecolor": "white",
             "minorgridcolor": "white",
             "startlinecolor": "#2a3f5f"
            },
            "type": "carpet"
           }
          ],
          "choropleth": [
           {
            "colorbar": {
             "outlinewidth": 0,
             "ticks": ""
            },
            "type": "choropleth"
           }
          ],
          "contour": [
           {
            "colorbar": {
             "outlinewidth": 0,
             "ticks": ""
            },
            "colorscale": [
             [
              0,
              "#0d0887"
             ],
             [
              0.1111111111111111,
              "#46039f"
             ],
             [
              0.2222222222222222,
              "#7201a8"
             ],
             [
              0.3333333333333333,
              "#9c179e"
             ],
             [
              0.4444444444444444,
              "#bd3786"
             ],
             [
              0.5555555555555556,
              "#d8576b"
             ],
             [
              0.6666666666666666,
              "#ed7953"
             ],
             [
              0.7777777777777778,
              "#fb9f3a"
             ],
             [
              0.8888888888888888,
              "#fdca26"
             ],
             [
              1,
              "#f0f921"
             ]
            ],
            "type": "contour"
           }
          ],
          "contourcarpet": [
           {
            "colorbar": {
             "outlinewidth": 0,
             "ticks": ""
            },
            "type": "contourcarpet"
           }
          ],
          "heatmap": [
           {
            "colorbar": {
             "outlinewidth": 0,
             "ticks": ""
            },
            "colorscale": [
             [
              0,
              "#0d0887"
             ],
             [
              0.1111111111111111,
              "#46039f"
             ],
             [
              0.2222222222222222,
              "#7201a8"
             ],
             [
              0.3333333333333333,
              "#9c179e"
             ],
             [
              0.4444444444444444,
              "#bd3786"
             ],
             [
              0.5555555555555556,
              "#d8576b"
             ],
             [
              0.6666666666666666,
              "#ed7953"
             ],
             [
              0.7777777777777778,
              "#fb9f3a"
             ],
             [
              0.8888888888888888,
              "#fdca26"
             ],
             [
              1,
              "#f0f921"
             ]
            ],
            "type": "heatmap"
           }
          ],
          "heatmapgl": [
           {
            "colorbar": {
             "outlinewidth": 0,
             "ticks": ""
            },
            "colorscale": [
             [
              0,
              "#0d0887"
             ],
             [
              0.1111111111111111,
              "#46039f"
             ],
             [
              0.2222222222222222,
              "#7201a8"
             ],
             [
              0.3333333333333333,
              "#9c179e"
             ],
             [
              0.4444444444444444,
              "#bd3786"
             ],
             [
              0.5555555555555556,
              "#d8576b"
             ],
             [
              0.6666666666666666,
              "#ed7953"
             ],
             [
              0.7777777777777778,
              "#fb9f3a"
             ],
             [
              0.8888888888888888,
              "#fdca26"
             ],
             [
              1,
              "#f0f921"
             ]
            ],
            "type": "heatmapgl"
           }
          ],
          "histogram": [
           {
            "marker": {
             "pattern": {
              "fillmode": "overlay",
              "size": 10,
              "solidity": 0.2
             }
            },
            "type": "histogram"
           }
          ],
          "histogram2d": [
           {
            "colorbar": {
             "outlinewidth": 0,
             "ticks": ""
            },
            "colorscale": [
             [
              0,
              "#0d0887"
             ],
             [
              0.1111111111111111,
              "#46039f"
             ],
             [
              0.2222222222222222,
              "#7201a8"
             ],
             [
              0.3333333333333333,
              "#9c179e"
             ],
             [
              0.4444444444444444,
              "#bd3786"
             ],
             [
              0.5555555555555556,
              "#d8576b"
             ],
             [
              0.6666666666666666,
              "#ed7953"
             ],
             [
              0.7777777777777778,
              "#fb9f3a"
             ],
             [
              0.8888888888888888,
              "#fdca26"
             ],
             [
              1,
              "#f0f921"
             ]
            ],
            "type": "histogram2d"
           }
          ],
          "histogram2dcontour": [
           {
            "colorbar": {
             "outlinewidth": 0,
             "ticks": ""
            },
            "colorscale": [
             [
              0,
              "#0d0887"
             ],
             [
              0.1111111111111111,
              "#46039f"
             ],
             [
              0.2222222222222222,
              "#7201a8"
             ],
             [
              0.3333333333333333,
              "#9c179e"
             ],
             [
              0.4444444444444444,
              "#bd3786"
             ],
             [
              0.5555555555555556,
              "#d8576b"
             ],
             [
              0.6666666666666666,
              "#ed7953"
             ],
             [
              0.7777777777777778,
              "#fb9f3a"
             ],
             [
              0.8888888888888888,
              "#fdca26"
             ],
             [
              1,
              "#f0f921"
             ]
            ],
            "type": "histogram2dcontour"
           }
          ],
          "mesh3d": [
           {
            "colorbar": {
             "outlinewidth": 0,
             "ticks": ""
            },
            "type": "mesh3d"
           }
          ],
          "parcoords": [
           {
            "line": {
             "colorbar": {
              "outlinewidth": 0,
              "ticks": ""
             }
            },
            "type": "parcoords"
           }
          ],
          "pie": [
           {
            "automargin": true,
            "type": "pie"
           }
          ],
          "scatter": [
           {
            "fillpattern": {
             "fillmode": "overlay",
             "size": 10,
             "solidity": 0.2
            },
            "type": "scatter"
           }
          ],
          "scatter3d": [
           {
            "line": {
             "colorbar": {
              "outlinewidth": 0,
              "ticks": ""
             }
            },
            "marker": {
             "colorbar": {
              "outlinewidth": 0,
              "ticks": ""
             }
            },
            "type": "scatter3d"
           }
          ],
          "scattercarpet": [
           {
            "marker": {
             "colorbar": {
              "outlinewidth": 0,
              "ticks": ""
             }
            },
            "type": "scattercarpet"
           }
          ],
          "scattergeo": [
           {
            "marker": {
             "colorbar": {
              "outlinewidth": 0,
              "ticks": ""
             }
            },
            "type": "scattergeo"
           }
          ],
          "scattergl": [
           {
            "marker": {
             "colorbar": {
              "outlinewidth": 0,
              "ticks": ""
             }
            },
            "type": "scattergl"
           }
          ],
          "scattermapbox": [
           {
            "marker": {
             "colorbar": {
              "outlinewidth": 0,
              "ticks": ""
             }
            },
            "type": "scattermapbox"
           }
          ],
          "scatterpolar": [
           {
            "marker": {
             "colorbar": {
              "outlinewidth": 0,
              "ticks": ""
             }
            },
            "type": "scatterpolar"
           }
          ],
          "scatterpolargl": [
           {
            "marker": {
             "colorbar": {
              "outlinewidth": 0,
              "ticks": ""
             }
            },
            "type": "scatterpolargl"
           }
          ],
          "scatterternary": [
           {
            "marker": {
             "colorbar": {
              "outlinewidth": 0,
              "ticks": ""
             }
            },
            "type": "scatterternary"
           }
          ],
          "surface": [
           {
            "colorbar": {
             "outlinewidth": 0,
             "ticks": ""
            },
            "colorscale": [
             [
              0,
              "#0d0887"
             ],
             [
              0.1111111111111111,
              "#46039f"
             ],
             [
              0.2222222222222222,
              "#7201a8"
             ],
             [
              0.3333333333333333,
              "#9c179e"
             ],
             [
              0.4444444444444444,
              "#bd3786"
             ],
             [
              0.5555555555555556,
              "#d8576b"
             ],
             [
              0.6666666666666666,
              "#ed7953"
             ],
             [
              0.7777777777777778,
              "#fb9f3a"
             ],
             [
              0.8888888888888888,
              "#fdca26"
             ],
             [
              1,
              "#f0f921"
             ]
            ],
            "type": "surface"
           }
          ],
          "table": [
           {
            "cells": {
             "fill": {
              "color": "#EBF0F8"
             },
             "line": {
              "color": "white"
             }
            },
            "header": {
             "fill": {
              "color": "#C8D4E3"
             },
             "line": {
              "color": "white"
             }
            },
            "type": "table"
           }
          ]
         },
         "layout": {
          "annotationdefaults": {
           "arrowcolor": "#2a3f5f",
           "arrowhead": 0,
           "arrowwidth": 1
          },
          "autotypenumbers": "strict",
          "coloraxis": {
           "colorbar": {
            "outlinewidth": 0,
            "ticks": ""
           }
          },
          "colorscale": {
           "diverging": [
            [
             0,
             "#8e0152"
            ],
            [
             0.1,
             "#c51b7d"
            ],
            [
             0.2,
             "#de77ae"
            ],
            [
             0.3,
             "#f1b6da"
            ],
            [
             0.4,
             "#fde0ef"
            ],
            [
             0.5,
             "#f7f7f7"
            ],
            [
             0.6,
             "#e6f5d0"
            ],
            [
             0.7,
             "#b8e186"
            ],
            [
             0.8,
             "#7fbc41"
            ],
            [
             0.9,
             "#4d9221"
            ],
            [
             1,
             "#276419"
            ]
           ],
           "sequential": [
            [
             0,
             "#0d0887"
            ],
            [
             0.1111111111111111,
             "#46039f"
            ],
            [
             0.2222222222222222,
             "#7201a8"
            ],
            [
             0.3333333333333333,
             "#9c179e"
            ],
            [
             0.4444444444444444,
             "#bd3786"
            ],
            [
             0.5555555555555556,
             "#d8576b"
            ],
            [
             0.6666666666666666,
             "#ed7953"
            ],
            [
             0.7777777777777778,
             "#fb9f3a"
            ],
            [
             0.8888888888888888,
             "#fdca26"
            ],
            [
             1,
             "#f0f921"
            ]
           ],
           "sequentialminus": [
            [
             0,
             "#0d0887"
            ],
            [
             0.1111111111111111,
             "#46039f"
            ],
            [
             0.2222222222222222,
             "#7201a8"
            ],
            [
             0.3333333333333333,
             "#9c179e"
            ],
            [
             0.4444444444444444,
             "#bd3786"
            ],
            [
             0.5555555555555556,
             "#d8576b"
            ],
            [
             0.6666666666666666,
             "#ed7953"
            ],
            [
             0.7777777777777778,
             "#fb9f3a"
            ],
            [
             0.8888888888888888,
             "#fdca26"
            ],
            [
             1,
             "#f0f921"
            ]
           ]
          },
          "colorway": [
           "#636efa",
           "#EF553B",
           "#00cc96",
           "#ab63fa",
           "#FFA15A",
           "#19d3f3",
           "#FF6692",
           "#B6E880",
           "#FF97FF",
           "#FECB52"
          ],
          "font": {
           "color": "#2a3f5f"
          },
          "geo": {
           "bgcolor": "white",
           "lakecolor": "white",
           "landcolor": "#E5ECF6",
           "showlakes": true,
           "showland": true,
           "subunitcolor": "white"
          },
          "hoverlabel": {
           "align": "left"
          },
          "hovermode": "closest",
          "mapbox": {
           "style": "light"
          },
          "paper_bgcolor": "white",
          "plot_bgcolor": "#E5ECF6",
          "polar": {
           "angularaxis": {
            "gridcolor": "white",
            "linecolor": "white",
            "ticks": ""
           },
           "bgcolor": "#E5ECF6",
           "radialaxis": {
            "gridcolor": "white",
            "linecolor": "white",
            "ticks": ""
           }
          },
          "scene": {
           "xaxis": {
            "backgroundcolor": "#E5ECF6",
            "gridcolor": "white",
            "gridwidth": 2,
            "linecolor": "white",
            "showbackground": true,
            "ticks": "",
            "zerolinecolor": "white"
           },
           "yaxis": {
            "backgroundcolor": "#E5ECF6",
            "gridcolor": "white",
            "gridwidth": 2,
            "linecolor": "white",
            "showbackground": true,
            "ticks": "",
            "zerolinecolor": "white"
           },
           "zaxis": {
            "backgroundcolor": "#E5ECF6",
            "gridcolor": "white",
            "gridwidth": 2,
            "linecolor": "white",
            "showbackground": true,
            "ticks": "",
            "zerolinecolor": "white"
           }
          },
          "shapedefaults": {
           "line": {
            "color": "#2a3f5f"
           }
          },
          "ternary": {
           "aaxis": {
            "gridcolor": "white",
            "linecolor": "white",
            "ticks": ""
           },
           "baxis": {
            "gridcolor": "white",
            "linecolor": "white",
            "ticks": ""
           },
           "bgcolor": "#E5ECF6",
           "caxis": {
            "gridcolor": "white",
            "linecolor": "white",
            "ticks": ""
           }
          },
          "title": {
           "x": 0.05
          },
          "xaxis": {
           "automargin": true,
           "gridcolor": "white",
           "linecolor": "white",
           "ticks": "",
           "title": {
            "standoff": 15
           },
           "zerolinecolor": "white",
           "zerolinewidth": 2
          },
          "yaxis": {
           "automargin": true,
           "gridcolor": "white",
           "linecolor": "white",
           "ticks": "",
           "title": {
            "standoff": 15
           },
           "zerolinecolor": "white",
           "zerolinewidth": 2
          }
         }
        },
        "title": {
         "text": "요일별 시간당 '신규' 구독자 수 matrix"
        },
        "width": 2000,
        "xaxis": {
         "ticktext": [
          "0",
          "1",
          "2",
          "3",
          "4",
          "5",
          "6",
          "7",
          "8",
          "9",
          "10",
          "11",
          "12",
          "13",
          "14",
          "15",
          "16",
          "17",
          "18",
          "19",
          "20",
          "21",
          "22",
          "23",
          "24"
         ],
         "tickvals": [
          0,
          1,
          2,
          3,
          4,
          5,
          6,
          7,
          8,
          9,
          10,
          11,
          12,
          13,
          14,
          15,
          16,
          17,
          18,
          19,
          20,
          21,
          22,
          23,
          24
         ],
         "title": {
          "text": "Hour of Day"
         }
        },
        "yaxis": {
         "ticktext": [
          "월",
          "화",
          "수",
          "목",
          "금",
          "토",
          "일"
         ],
         "tickvals": [
          0,
          1,
          2,
          3,
          4,
          5,
          6,
          7
         ],
         "title": {
          "text": "Day of Week"
         }
        }
       }
      },
      "text/html": [
       "<div>                            <div id=\"381b2867-ace4-421f-b8bf-0f3e28b4086b\" class=\"plotly-graph-div\" style=\"height:650px; width:2000px;\"></div>            <script type=\"text/javascript\">                require([\"plotly\"], function(Plotly) {                    window.PLOTLYENV=window.PLOTLYENV || {};                                    if (document.getElementById(\"381b2867-ace4-421f-b8bf-0f3e28b4086b\")) {                    Plotly.newPlot(                        \"381b2867-ace4-421f-b8bf-0f3e28b4086b\",                        [{\"colorbar\":{\"title\":{\"text\":\"Unique Visits\"}},\"colorscale\":[[0.0,\"#440154\"],[0.1111111111111111,\"#482878\"],[0.2222222222222222,\"#3e4989\"],[0.3333333333333333,\"#31688e\"],[0.4444444444444444,\"#26828e\"],[0.5555555555555556,\"#1f9e89\"],[0.6666666666666666,\"#35b779\"],[0.7777777777777778,\"#6ece58\"],[0.8888888888888888,\"#b5de2b\"],[1.0,\"#fde725\"]],\"hoverinfo\":\"text\",\"text\":[[\"3.0 visits<br>\\uc6d4 0.0\\uc2dc\",\"0.0 visits<br>\\uc6d4 2.0\\uc2dc\",\"0.0 visits<br>\\uc6d4 3.0\\uc2dc\",\"0.0 visits<br>\\uc6d4 5.0\\uc2dc\",\"0.0 visits<br>\\uc6d4 6.0\\uc2dc\",\"0.0 visits<br>\\uc6d4 7.0\\uc2dc\",\"1.0 visits<br>\\uc6d4 8.0\\uc2dc\",\"1.0 visits<br>\\uc6d4 9.0\\uc2dc\",\"0.0 visits<br>\\uc6d4 10.0\\uc2dc\",\"0.0 visits<br>\\uc6d4 11.0\\uc2dc\",\"0.0 visits<br>\\uc6d4 12.0\\uc2dc\",\"1.0 visits<br>\\uc6d4 13.0\\uc2dc\",\"1.0 visits<br>\\uc6d4 14.0\\uc2dc\",\"0.0 visits<br>\\uc6d4 15.0\\uc2dc\",\"0.0 visits<br>\\uc6d4 16.0\\uc2dc\",\"1.0 visits<br>\\uc6d4 17.0\\uc2dc\",\"1.0 visits<br>\\uc6d4 18.0\\uc2dc\",\"0.0 visits<br>\\uc6d4 19.0\\uc2dc\",\"0.0 visits<br>\\uc6d4 20.0\\uc2dc\",\"1.0 visits<br>\\uc6d4 21.0\\uc2dc\",\"1.0 visits<br>\\uc6d4 22.0\\uc2dc\",\"1.0 visits<br>\\uc6d4 23.0\\uc2dc\"],[\"0.0 visits<br>\\ud654 0.0\\uc2dc\",\"0.0 visits<br>\\ud654 2.0\\uc2dc\",\"0.0 visits<br>\\ud654 3.0\\uc2dc\",\"1.0 visits<br>\\ud654 5.0\\uc2dc\",\"1.0 visits<br>\\ud654 6.0\\uc2dc\",\"0.0 visits<br>\\ud654 7.0\\uc2dc\",\"0.0 visits<br>\\ud654 8.0\\uc2dc\",\"0.0 visits<br>\\ud654 9.0\\uc2dc\",\"0.0 visits<br>\\ud654 10.0\\uc2dc\",\"0.0 visits<br>\\ud654 11.0\\uc2dc\",\"1.0 visits<br>\\ud654 12.0\\uc2dc\",\"3.0 visits<br>\\ud654 13.0\\uc2dc\",\"0.0 visits<br>\\ud654 14.0\\uc2dc\",\"0.0 visits<br>\\ud654 15.0\\uc2dc\",\"1.0 visits<br>\\ud654 16.0\\uc2dc\",\"0.0 visits<br>\\ud654 17.0\\uc2dc\",\"2.0 visits<br>\\ud654 18.0\\uc2dc\",\"1.0 visits<br>\\ud654 19.0\\uc2dc\",\"2.0 visits<br>\\ud654 20.0\\uc2dc\",\"0.0 visits<br>\\ud654 21.0\\uc2dc\",\"1.0 visits<br>\\ud654 22.0\\uc2dc\",\"0.0 visits<br>\\ud654 23.0\\uc2dc\"],[\"1.0 visits<br>\\uc218 0.0\\uc2dc\",\"0.0 visits<br>\\uc218 2.0\\uc2dc\",\"0.0 visits<br>\\uc218 3.0\\uc2dc\",\"0.0 visits<br>\\uc218 5.0\\uc2dc\",\"1.0 visits<br>\\uc218 6.0\\uc2dc\",\"0.0 visits<br>\\uc218 7.0\\uc2dc\",\"0.0 visits<br>\\uc218 8.0\\uc2dc\",\"2.0 visits<br>\\uc218 9.0\\uc2dc\",\"0.0 visits<br>\\uc218 10.0\\uc2dc\",\"0.0 visits<br>\\uc218 11.0\\uc2dc\",\"2.0 visits<br>\\uc218 12.0\\uc2dc\",\"0.0 visits<br>\\uc218 13.0\\uc2dc\",\"0.0 visits<br>\\uc218 14.0\\uc2dc\",\"1.0 visits<br>\\uc218 15.0\\uc2dc\",\"1.0 visits<br>\\uc218 16.0\\uc2dc\",\"1.0 visits<br>\\uc218 17.0\\uc2dc\",\"0.0 visits<br>\\uc218 18.0\\uc2dc\",\"0.0 visits<br>\\uc218 19.0\\uc2dc\",\"1.0 visits<br>\\uc218 20.0\\uc2dc\",\"0.0 visits<br>\\uc218 21.0\\uc2dc\",\"1.0 visits<br>\\uc218 22.0\\uc2dc\",\"1.0 visits<br>\\uc218 23.0\\uc2dc\"],[\"0.0 visits<br>\\ubaa9 0.0\\uc2dc\",\"0.0 visits<br>\\ubaa9 2.0\\uc2dc\",\"0.0 visits<br>\\ubaa9 3.0\\uc2dc\",\"0.0 visits<br>\\ubaa9 5.0\\uc2dc\",\"0.0 visits<br>\\ubaa9 6.0\\uc2dc\",\"1.0 visits<br>\\ubaa9 7.0\\uc2dc\",\"0.0 visits<br>\\ubaa9 8.0\\uc2dc\",\"0.0 visits<br>\\ubaa9 9.0\\uc2dc\",\"0.0 visits<br>\\ubaa9 10.0\\uc2dc\",\"0.0 visits<br>\\ubaa9 11.0\\uc2dc\",\"0.0 visits<br>\\ubaa9 12.0\\uc2dc\",\"1.0 visits<br>\\ubaa9 13.0\\uc2dc\",\"0.0 visits<br>\\ubaa9 14.0\\uc2dc\",\"0.0 visits<br>\\ubaa9 15.0\\uc2dc\",\"0.0 visits<br>\\ubaa9 16.0\\uc2dc\",\"1.0 visits<br>\\ubaa9 17.0\\uc2dc\",\"0.0 visits<br>\\ubaa9 18.0\\uc2dc\",\"2.0 visits<br>\\ubaa9 19.0\\uc2dc\",\"0.0 visits<br>\\ubaa9 20.0\\uc2dc\",\"0.0 visits<br>\\ubaa9 21.0\\uc2dc\",\"0.0 visits<br>\\ubaa9 22.0\\uc2dc\",\"0.0 visits<br>\\ubaa9 23.0\\uc2dc\"],[\"0.0 visits<br>\\uae08 0.0\\uc2dc\",\"0.0 visits<br>\\uae08 2.0\\uc2dc\",\"0.0 visits<br>\\uae08 3.0\\uc2dc\",\"0.0 visits<br>\\uae08 5.0\\uc2dc\",\"0.0 visits<br>\\uae08 6.0\\uc2dc\",\"0.0 visits<br>\\uae08 7.0\\uc2dc\",\"0.0 visits<br>\\uae08 8.0\\uc2dc\",\"1.0 visits<br>\\uae08 9.0\\uc2dc\",\"1.0 visits<br>\\uae08 10.0\\uc2dc\",\"0.0 visits<br>\\uae08 11.0\\uc2dc\",\"0.0 visits<br>\\uae08 12.0\\uc2dc\",\"0.0 visits<br>\\uae08 13.0\\uc2dc\",\"0.0 visits<br>\\uae08 14.0\\uc2dc\",\"1.0 visits<br>\\uae08 15.0\\uc2dc\",\"0.0 visits<br>\\uae08 16.0\\uc2dc\",\"0.0 visits<br>\\uae08 17.0\\uc2dc\",\"0.0 visits<br>\\uae08 18.0\\uc2dc\",\"0.0 visits<br>\\uae08 19.0\\uc2dc\",\"0.0 visits<br>\\uae08 20.0\\uc2dc\",\"0.0 visits<br>\\uae08 21.0\\uc2dc\",\"0.0 visits<br>\\uae08 22.0\\uc2dc\",\"0.0 visits<br>\\uae08 23.0\\uc2dc\"],[\"0.0 visits<br>\\ud1a0 0.0\\uc2dc\",\"0.0 visits<br>\\ud1a0 2.0\\uc2dc\",\"0.0 visits<br>\\ud1a0 3.0\\uc2dc\",\"0.0 visits<br>\\ud1a0 5.0\\uc2dc\",\"0.0 visits<br>\\ud1a0 6.0\\uc2dc\",\"1.0 visits<br>\\ud1a0 7.0\\uc2dc\",\"1.0 visits<br>\\ud1a0 8.0\\uc2dc\",\"0.0 visits<br>\\ud1a0 9.0\\uc2dc\",\"0.0 visits<br>\\ud1a0 10.0\\uc2dc\",\"1.0 visits<br>\\ud1a0 11.0\\uc2dc\",\"1.0 visits<br>\\ud1a0 12.0\\uc2dc\",\"0.0 visits<br>\\ud1a0 13.0\\uc2dc\",\"0.0 visits<br>\\ud1a0 14.0\\uc2dc\",\"0.0 visits<br>\\ud1a0 15.0\\uc2dc\",\"1.0 visits<br>\\ud1a0 16.0\\uc2dc\",\"0.0 visits<br>\\ud1a0 17.0\\uc2dc\",\"0.0 visits<br>\\ud1a0 18.0\\uc2dc\",\"1.0 visits<br>\\ud1a0 19.0\\uc2dc\",\"0.0 visits<br>\\ud1a0 20.0\\uc2dc\",\"0.0 visits<br>\\ud1a0 21.0\\uc2dc\",\"1.0 visits<br>\\ud1a0 22.0\\uc2dc\",\"0.0 visits<br>\\ud1a0 23.0\\uc2dc\"],[\"0.0 visits<br>\\uc77c 0.0\\uc2dc\",\"1.0 visits<br>\\uc77c 2.0\\uc2dc\",\"1.0 visits<br>\\uc77c 3.0\\uc2dc\",\"0.0 visits<br>\\uc77c 5.0\\uc2dc\",\"0.0 visits<br>\\uc77c 6.0\\uc2dc\",\"0.0 visits<br>\\uc77c 7.0\\uc2dc\",\"0.0 visits<br>\\uc77c 8.0\\uc2dc\",\"0.0 visits<br>\\uc77c 9.0\\uc2dc\",\"0.0 visits<br>\\uc77c 10.0\\uc2dc\",\"0.0 visits<br>\\uc77c 11.0\\uc2dc\",\"0.0 visits<br>\\uc77c 12.0\\uc2dc\",\"0.0 visits<br>\\uc77c 13.0\\uc2dc\",\"1.0 visits<br>\\uc77c 14.0\\uc2dc\",\"1.0 visits<br>\\uc77c 15.0\\uc2dc\",\"1.0 visits<br>\\uc77c 16.0\\uc2dc\",\"0.0 visits<br>\\uc77c 17.0\\uc2dc\",\"0.0 visits<br>\\uc77c 18.0\\uc2dc\",\"0.0 visits<br>\\uc77c 19.0\\uc2dc\",\"0.0 visits<br>\\uc77c 20.0\\uc2dc\",\"0.0 visits<br>\\uc77c 21.0\\uc2dc\",\"0.0 visits<br>\\uc77c 22.0\\uc2dc\",\"0.0 visits<br>\\uc77c 23.0\\uc2dc\"]],\"x\":[0.0,2.0,3.0,5.0,6.0,7.0,8.0,9.0,10.0,11.0,12.0,13.0,14.0,15.0,16.0,17.0,18.0,19.0,20.0,21.0,22.0,23.0],\"y\":[0.0,1.0,2.0,3.0,4.0,5.0,6.0],\"z\":[[3.0,0.0,0.0,0.0,0.0,0.0,1.0,1.0,0.0,0.0,0.0,1.0,1.0,0.0,0.0,1.0,1.0,0.0,0.0,1.0,1.0,1.0],[0.0,0.0,0.0,1.0,1.0,0.0,0.0,0.0,0.0,0.0,1.0,3.0,0.0,0.0,1.0,0.0,2.0,1.0,2.0,0.0,1.0,0.0],[1.0,0.0,0.0,0.0,1.0,0.0,0.0,2.0,0.0,0.0,2.0,0.0,0.0,1.0,1.0,1.0,0.0,0.0,1.0,0.0,1.0,1.0],[0.0,0.0,0.0,0.0,0.0,1.0,0.0,0.0,0.0,0.0,0.0,1.0,0.0,0.0,0.0,1.0,0.0,2.0,0.0,0.0,0.0,0.0],[0.0,0.0,0.0,0.0,0.0,0.0,0.0,1.0,1.0,0.0,0.0,0.0,0.0,1.0,0.0,0.0,0.0,0.0,0.0,0.0,0.0,0.0],[0.0,0.0,0.0,0.0,0.0,1.0,1.0,0.0,0.0,1.0,1.0,0.0,0.0,0.0,1.0,0.0,0.0,1.0,0.0,0.0,1.0,0.0],[0.0,1.0,1.0,0.0,0.0,0.0,0.0,0.0,0.0,0.0,0.0,0.0,1.0,1.0,1.0,0.0,0.0,0.0,0.0,0.0,0.0,0.0]],\"type\":\"heatmap\"}],                        {\"template\":{\"data\":{\"histogram2dcontour\":[{\"type\":\"histogram2dcontour\",\"colorbar\":{\"outlinewidth\":0,\"ticks\":\"\"},\"colorscale\":[[0.0,\"#0d0887\"],[0.1111111111111111,\"#46039f\"],[0.2222222222222222,\"#7201a8\"],[0.3333333333333333,\"#9c179e\"],[0.4444444444444444,\"#bd3786\"],[0.5555555555555556,\"#d8576b\"],[0.6666666666666666,\"#ed7953\"],[0.7777777777777778,\"#fb9f3a\"],[0.8888888888888888,\"#fdca26\"],[1.0,\"#f0f921\"]]}],\"choropleth\":[{\"type\":\"choropleth\",\"colorbar\":{\"outlinewidth\":0,\"ticks\":\"\"}}],\"histogram2d\":[{\"type\":\"histogram2d\",\"colorbar\":{\"outlinewidth\":0,\"ticks\":\"\"},\"colorscale\":[[0.0,\"#0d0887\"],[0.1111111111111111,\"#46039f\"],[0.2222222222222222,\"#7201a8\"],[0.3333333333333333,\"#9c179e\"],[0.4444444444444444,\"#bd3786\"],[0.5555555555555556,\"#d8576b\"],[0.6666666666666666,\"#ed7953\"],[0.7777777777777778,\"#fb9f3a\"],[0.8888888888888888,\"#fdca26\"],[1.0,\"#f0f921\"]]}],\"heatmap\":[{\"type\":\"heatmap\",\"colorbar\":{\"outlinewidth\":0,\"ticks\":\"\"},\"colorscale\":[[0.0,\"#0d0887\"],[0.1111111111111111,\"#46039f\"],[0.2222222222222222,\"#7201a8\"],[0.3333333333333333,\"#9c179e\"],[0.4444444444444444,\"#bd3786\"],[0.5555555555555556,\"#d8576b\"],[0.6666666666666666,\"#ed7953\"],[0.7777777777777778,\"#fb9f3a\"],[0.8888888888888888,\"#fdca26\"],[1.0,\"#f0f921\"]]}],\"heatmapgl\":[{\"type\":\"heatmapgl\",\"colorbar\":{\"outlinewidth\":0,\"ticks\":\"\"},\"colorscale\":[[0.0,\"#0d0887\"],[0.1111111111111111,\"#46039f\"],[0.2222222222222222,\"#7201a8\"],[0.3333333333333333,\"#9c179e\"],[0.4444444444444444,\"#bd3786\"],[0.5555555555555556,\"#d8576b\"],[0.6666666666666666,\"#ed7953\"],[0.7777777777777778,\"#fb9f3a\"],[0.8888888888888888,\"#fdca26\"],[1.0,\"#f0f921\"]]}],\"contourcarpet\":[{\"type\":\"contourcarpet\",\"colorbar\":{\"outlinewidth\":0,\"ticks\":\"\"}}],\"contour\":[{\"type\":\"contour\",\"colorbar\":{\"outlinewidth\":0,\"ticks\":\"\"},\"colorscale\":[[0.0,\"#0d0887\"],[0.1111111111111111,\"#46039f\"],[0.2222222222222222,\"#7201a8\"],[0.3333333333333333,\"#9c179e\"],[0.4444444444444444,\"#bd3786\"],[0.5555555555555556,\"#d8576b\"],[0.6666666666666666,\"#ed7953\"],[0.7777777777777778,\"#fb9f3a\"],[0.8888888888888888,\"#fdca26\"],[1.0,\"#f0f921\"]]}],\"surface\":[{\"type\":\"surface\",\"colorbar\":{\"outlinewidth\":0,\"ticks\":\"\"},\"colorscale\":[[0.0,\"#0d0887\"],[0.1111111111111111,\"#46039f\"],[0.2222222222222222,\"#7201a8\"],[0.3333333333333333,\"#9c179e\"],[0.4444444444444444,\"#bd3786\"],[0.5555555555555556,\"#d8576b\"],[0.6666666666666666,\"#ed7953\"],[0.7777777777777778,\"#fb9f3a\"],[0.8888888888888888,\"#fdca26\"],[1.0,\"#f0f921\"]]}],\"mesh3d\":[{\"type\":\"mesh3d\",\"colorbar\":{\"outlinewidth\":0,\"ticks\":\"\"}}],\"scatter\":[{\"fillpattern\":{\"fillmode\":\"overlay\",\"size\":10,\"solidity\":0.2},\"type\":\"scatter\"}],\"parcoords\":[{\"type\":\"parcoords\",\"line\":{\"colorbar\":{\"outlinewidth\":0,\"ticks\":\"\"}}}],\"scatterpolargl\":[{\"type\":\"scatterpolargl\",\"marker\":{\"colorbar\":{\"outlinewidth\":0,\"ticks\":\"\"}}}],\"bar\":[{\"error_x\":{\"color\":\"#2a3f5f\"},\"error_y\":{\"color\":\"#2a3f5f\"},\"marker\":{\"line\":{\"color\":\"#E5ECF6\",\"width\":0.5},\"pattern\":{\"fillmode\":\"overlay\",\"size\":10,\"solidity\":0.2}},\"type\":\"bar\"}],\"scattergeo\":[{\"type\":\"scattergeo\",\"marker\":{\"colorbar\":{\"outlinewidth\":0,\"ticks\":\"\"}}}],\"scatterpolar\":[{\"type\":\"scatterpolar\",\"marker\":{\"colorbar\":{\"outlinewidth\":0,\"ticks\":\"\"}}}],\"histogram\":[{\"marker\":{\"pattern\":{\"fillmode\":\"overlay\",\"size\":10,\"solidity\":0.2}},\"type\":\"histogram\"}],\"scattergl\":[{\"type\":\"scattergl\",\"marker\":{\"colorbar\":{\"outlinewidth\":0,\"ticks\":\"\"}}}],\"scatter3d\":[{\"type\":\"scatter3d\",\"line\":{\"colorbar\":{\"outlinewidth\":0,\"ticks\":\"\"}},\"marker\":{\"colorbar\":{\"outlinewidth\":0,\"ticks\":\"\"}}}],\"scattermapbox\":[{\"type\":\"scattermapbox\",\"marker\":{\"colorbar\":{\"outlinewidth\":0,\"ticks\":\"\"}}}],\"scatterternary\":[{\"type\":\"scatterternary\",\"marker\":{\"colorbar\":{\"outlinewidth\":0,\"ticks\":\"\"}}}],\"scattercarpet\":[{\"type\":\"scattercarpet\",\"marker\":{\"colorbar\":{\"outlinewidth\":0,\"ticks\":\"\"}}}],\"carpet\":[{\"aaxis\":{\"endlinecolor\":\"#2a3f5f\",\"gridcolor\":\"white\",\"linecolor\":\"white\",\"minorgridcolor\":\"white\",\"startlinecolor\":\"#2a3f5f\"},\"baxis\":{\"endlinecolor\":\"#2a3f5f\",\"gridcolor\":\"white\",\"linecolor\":\"white\",\"minorgridcolor\":\"white\",\"startlinecolor\":\"#2a3f5f\"},\"type\":\"carpet\"}],\"table\":[{\"cells\":{\"fill\":{\"color\":\"#EBF0F8\"},\"line\":{\"color\":\"white\"}},\"header\":{\"fill\":{\"color\":\"#C8D4E3\"},\"line\":{\"color\":\"white\"}},\"type\":\"table\"}],\"barpolar\":[{\"marker\":{\"line\":{\"color\":\"#E5ECF6\",\"width\":0.5},\"pattern\":{\"fillmode\":\"overlay\",\"size\":10,\"solidity\":0.2}},\"type\":\"barpolar\"}],\"pie\":[{\"automargin\":true,\"type\":\"pie\"}]},\"layout\":{\"autotypenumbers\":\"strict\",\"colorway\":[\"#636efa\",\"#EF553B\",\"#00cc96\",\"#ab63fa\",\"#FFA15A\",\"#19d3f3\",\"#FF6692\",\"#B6E880\",\"#FF97FF\",\"#FECB52\"],\"font\":{\"color\":\"#2a3f5f\"},\"hovermode\":\"closest\",\"hoverlabel\":{\"align\":\"left\"},\"paper_bgcolor\":\"white\",\"plot_bgcolor\":\"#E5ECF6\",\"polar\":{\"bgcolor\":\"#E5ECF6\",\"angularaxis\":{\"gridcolor\":\"white\",\"linecolor\":\"white\",\"ticks\":\"\"},\"radialaxis\":{\"gridcolor\":\"white\",\"linecolor\":\"white\",\"ticks\":\"\"}},\"ternary\":{\"bgcolor\":\"#E5ECF6\",\"aaxis\":{\"gridcolor\":\"white\",\"linecolor\":\"white\",\"ticks\":\"\"},\"baxis\":{\"gridcolor\":\"white\",\"linecolor\":\"white\",\"ticks\":\"\"},\"caxis\":{\"gridcolor\":\"white\",\"linecolor\":\"white\",\"ticks\":\"\"}},\"coloraxis\":{\"colorbar\":{\"outlinewidth\":0,\"ticks\":\"\"}},\"colorscale\":{\"sequential\":[[0.0,\"#0d0887\"],[0.1111111111111111,\"#46039f\"],[0.2222222222222222,\"#7201a8\"],[0.3333333333333333,\"#9c179e\"],[0.4444444444444444,\"#bd3786\"],[0.5555555555555556,\"#d8576b\"],[0.6666666666666666,\"#ed7953\"],[0.7777777777777778,\"#fb9f3a\"],[0.8888888888888888,\"#fdca26\"],[1.0,\"#f0f921\"]],\"sequentialminus\":[[0.0,\"#0d0887\"],[0.1111111111111111,\"#46039f\"],[0.2222222222222222,\"#7201a8\"],[0.3333333333333333,\"#9c179e\"],[0.4444444444444444,\"#bd3786\"],[0.5555555555555556,\"#d8576b\"],[0.6666666666666666,\"#ed7953\"],[0.7777777777777778,\"#fb9f3a\"],[0.8888888888888888,\"#fdca26\"],[1.0,\"#f0f921\"]],\"diverging\":[[0,\"#8e0152\"],[0.1,\"#c51b7d\"],[0.2,\"#de77ae\"],[0.3,\"#f1b6da\"],[0.4,\"#fde0ef\"],[0.5,\"#f7f7f7\"],[0.6,\"#e6f5d0\"],[0.7,\"#b8e186\"],[0.8,\"#7fbc41\"],[0.9,\"#4d9221\"],[1,\"#276419\"]]},\"xaxis\":{\"gridcolor\":\"white\",\"linecolor\":\"white\",\"ticks\":\"\",\"title\":{\"standoff\":15},\"zerolinecolor\":\"white\",\"automargin\":true,\"zerolinewidth\":2},\"yaxis\":{\"gridcolor\":\"white\",\"linecolor\":\"white\",\"ticks\":\"\",\"title\":{\"standoff\":15},\"zerolinecolor\":\"white\",\"automargin\":true,\"zerolinewidth\":2},\"scene\":{\"xaxis\":{\"backgroundcolor\":\"#E5ECF6\",\"gridcolor\":\"white\",\"linecolor\":\"white\",\"showbackground\":true,\"ticks\":\"\",\"zerolinecolor\":\"white\",\"gridwidth\":2},\"yaxis\":{\"backgroundcolor\":\"#E5ECF6\",\"gridcolor\":\"white\",\"linecolor\":\"white\",\"showbackground\":true,\"ticks\":\"\",\"zerolinecolor\":\"white\",\"gridwidth\":2},\"zaxis\":{\"backgroundcolor\":\"#E5ECF6\",\"gridcolor\":\"white\",\"linecolor\":\"white\",\"showbackground\":true,\"ticks\":\"\",\"zerolinecolor\":\"white\",\"gridwidth\":2}},\"shapedefaults\":{\"line\":{\"color\":\"#2a3f5f\"}},\"annotationdefaults\":{\"arrowcolor\":\"#2a3f5f\",\"arrowhead\":0,\"arrowwidth\":1},\"geo\":{\"bgcolor\":\"white\",\"landcolor\":\"#E5ECF6\",\"subunitcolor\":\"white\",\"showland\":true,\"showlakes\":true,\"lakecolor\":\"white\"},\"title\":{\"x\":0.05},\"mapbox\":{\"style\":\"light\"}}},\"xaxis\":{\"title\":{\"text\":\"Hour of Day\"},\"tickvals\":[0,1,2,3,4,5,6,7,8,9,10,11,12,13,14,15,16,17,18,19,20,21,22,23,24],\"ticktext\":[\"0\",\"1\",\"2\",\"3\",\"4\",\"5\",\"6\",\"7\",\"8\",\"9\",\"10\",\"11\",\"12\",\"13\",\"14\",\"15\",\"16\",\"17\",\"18\",\"19\",\"20\",\"21\",\"22\",\"23\",\"24\"]},\"yaxis\":{\"title\":{\"text\":\"Day of Week\"},\"tickvals\":[0,1,2,3,4,5,6,7],\"ticktext\":[\"\\uc6d4\",\"\\ud654\",\"\\uc218\",\"\\ubaa9\",\"\\uae08\",\"\\ud1a0\",\"\\uc77c\"]},\"title\":{\"text\":\"\\uc694\\uc77c\\ubcc4 \\uc2dc\\uac04\\ub2f9 '\\uc2e0\\uaddc' \\uad6c\\ub3c5\\uc790 \\uc218 matrix\"},\"annotations\":[{\"font\":{\"color\":\"black\"},\"showarrow\":false,\"text\":\"0\\uc6d4<br>3\",\"x\":0.0,\"xref\":\"x\",\"y\":0.0,\"yref\":\"y\"},{\"font\":{\"color\":\"black\"},\"showarrow\":false,\"text\":\"8\\uc6d4<br>1\",\"x\":8.0,\"xref\":\"x\",\"y\":0.0,\"yref\":\"y\"},{\"font\":{\"color\":\"black\"},\"showarrow\":false,\"text\":\"9\\uc6d4<br>1\",\"x\":9.0,\"xref\":\"x\",\"y\":0.0,\"yref\":\"y\"},{\"font\":{\"color\":\"black\"},\"showarrow\":false,\"text\":\"13\\uc6d4<br>1\",\"x\":13.0,\"xref\":\"x\",\"y\":0.0,\"yref\":\"y\"},{\"font\":{\"color\":\"black\"},\"showarrow\":false,\"text\":\"14\\uc6d4<br>1\",\"x\":14.0,\"xref\":\"x\",\"y\":0.0,\"yref\":\"y\"},{\"font\":{\"color\":\"black\"},\"showarrow\":false,\"text\":\"17\\uc6d4<br>1\",\"x\":17.0,\"xref\":\"x\",\"y\":0.0,\"yref\":\"y\"},{\"font\":{\"color\":\"black\"},\"showarrow\":false,\"text\":\"18\\uc6d4<br>1\",\"x\":18.0,\"xref\":\"x\",\"y\":0.0,\"yref\":\"y\"},{\"font\":{\"color\":\"black\"},\"showarrow\":false,\"text\":\"21\\uc6d4<br>1\",\"x\":21.0,\"xref\":\"x\",\"y\":0.0,\"yref\":\"y\"},{\"font\":{\"color\":\"black\"},\"showarrow\":false,\"text\":\"22\\uc6d4<br>1\",\"x\":22.0,\"xref\":\"x\",\"y\":0.0,\"yref\":\"y\"},{\"font\":{\"color\":\"black\"},\"showarrow\":false,\"text\":\"23\\uc6d4<br>1\",\"x\":23.0,\"xref\":\"x\",\"y\":0.0,\"yref\":\"y\"},{\"font\":{\"color\":\"black\"},\"showarrow\":false,\"text\":\"5\\ud654<br>1\",\"x\":5.0,\"xref\":\"x\",\"y\":1.0,\"yref\":\"y\"},{\"font\":{\"color\":\"black\"},\"showarrow\":false,\"text\":\"6\\ud654<br>1\",\"x\":6.0,\"xref\":\"x\",\"y\":1.0,\"yref\":\"y\"},{\"font\":{\"color\":\"black\"},\"showarrow\":false,\"text\":\"12\\ud654<br>1\",\"x\":12.0,\"xref\":\"x\",\"y\":1.0,\"yref\":\"y\"},{\"font\":{\"color\":\"black\"},\"showarrow\":false,\"text\":\"13\\ud654<br>3\",\"x\":13.0,\"xref\":\"x\",\"y\":1.0,\"yref\":\"y\"},{\"font\":{\"color\":\"black\"},\"showarrow\":false,\"text\":\"16\\ud654<br>1\",\"x\":16.0,\"xref\":\"x\",\"y\":1.0,\"yref\":\"y\"},{\"font\":{\"color\":\"black\"},\"showarrow\":false,\"text\":\"18\\ud654<br>2\",\"x\":18.0,\"xref\":\"x\",\"y\":1.0,\"yref\":\"y\"},{\"font\":{\"color\":\"black\"},\"showarrow\":false,\"text\":\"19\\ud654<br>1\",\"x\":19.0,\"xref\":\"x\",\"y\":1.0,\"yref\":\"y\"},{\"font\":{\"color\":\"black\"},\"showarrow\":false,\"text\":\"20\\ud654<br>2\",\"x\":20.0,\"xref\":\"x\",\"y\":1.0,\"yref\":\"y\"},{\"font\":{\"color\":\"black\"},\"showarrow\":false,\"text\":\"22\\ud654<br>1\",\"x\":22.0,\"xref\":\"x\",\"y\":1.0,\"yref\":\"y\"},{\"font\":{\"color\":\"black\"},\"showarrow\":false,\"text\":\"0\\uc218<br>1\",\"x\":0.0,\"xref\":\"x\",\"y\":2.0,\"yref\":\"y\"},{\"font\":{\"color\":\"black\"},\"showarrow\":false,\"text\":\"6\\uc218<br>1\",\"x\":6.0,\"xref\":\"x\",\"y\":2.0,\"yref\":\"y\"},{\"font\":{\"color\":\"black\"},\"showarrow\":false,\"text\":\"9\\uc218<br>2\",\"x\":9.0,\"xref\":\"x\",\"y\":2.0,\"yref\":\"y\"},{\"font\":{\"color\":\"black\"},\"showarrow\":false,\"text\":\"12\\uc218<br>2\",\"x\":12.0,\"xref\":\"x\",\"y\":2.0,\"yref\":\"y\"},{\"font\":{\"color\":\"black\"},\"showarrow\":false,\"text\":\"15\\uc218<br>1\",\"x\":15.0,\"xref\":\"x\",\"y\":2.0,\"yref\":\"y\"},{\"font\":{\"color\":\"black\"},\"showarrow\":false,\"text\":\"16\\uc218<br>1\",\"x\":16.0,\"xref\":\"x\",\"y\":2.0,\"yref\":\"y\"},{\"font\":{\"color\":\"black\"},\"showarrow\":false,\"text\":\"17\\uc218<br>1\",\"x\":17.0,\"xref\":\"x\",\"y\":2.0,\"yref\":\"y\"},{\"font\":{\"color\":\"black\"},\"showarrow\":false,\"text\":\"20\\uc218<br>1\",\"x\":20.0,\"xref\":\"x\",\"y\":2.0,\"yref\":\"y\"},{\"font\":{\"color\":\"black\"},\"showarrow\":false,\"text\":\"22\\uc218<br>1\",\"x\":22.0,\"xref\":\"x\",\"y\":2.0,\"yref\":\"y\"},{\"font\":{\"color\":\"black\"},\"showarrow\":false,\"text\":\"23\\uc218<br>1\",\"x\":23.0,\"xref\":\"x\",\"y\":2.0,\"yref\":\"y\"},{\"font\":{\"color\":\"black\"},\"showarrow\":false,\"text\":\"7\\ubaa9<br>1\",\"x\":7.0,\"xref\":\"x\",\"y\":3.0,\"yref\":\"y\"},{\"font\":{\"color\":\"black\"},\"showarrow\":false,\"text\":\"13\\ubaa9<br>1\",\"x\":13.0,\"xref\":\"x\",\"y\":3.0,\"yref\":\"y\"},{\"font\":{\"color\":\"black\"},\"showarrow\":false,\"text\":\"17\\ubaa9<br>1\",\"x\":17.0,\"xref\":\"x\",\"y\":3.0,\"yref\":\"y\"},{\"font\":{\"color\":\"black\"},\"showarrow\":false,\"text\":\"19\\ubaa9<br>2\",\"x\":19.0,\"xref\":\"x\",\"y\":3.0,\"yref\":\"y\"},{\"font\":{\"color\":\"black\"},\"showarrow\":false,\"text\":\"9\\uae08<br>1\",\"x\":9.0,\"xref\":\"x\",\"y\":4.0,\"yref\":\"y\"},{\"font\":{\"color\":\"black\"},\"showarrow\":false,\"text\":\"10\\uae08<br>1\",\"x\":10.0,\"xref\":\"x\",\"y\":4.0,\"yref\":\"y\"},{\"font\":{\"color\":\"black\"},\"showarrow\":false,\"text\":\"15\\uae08<br>1\",\"x\":15.0,\"xref\":\"x\",\"y\":4.0,\"yref\":\"y\"},{\"font\":{\"color\":\"black\"},\"showarrow\":false,\"text\":\"7\\ud1a0<br>1\",\"x\":7.0,\"xref\":\"x\",\"y\":5.0,\"yref\":\"y\"},{\"font\":{\"color\":\"black\"},\"showarrow\":false,\"text\":\"8\\ud1a0<br>1\",\"x\":8.0,\"xref\":\"x\",\"y\":5.0,\"yref\":\"y\"},{\"font\":{\"color\":\"black\"},\"showarrow\":false,\"text\":\"11\\ud1a0<br>1\",\"x\":11.0,\"xref\":\"x\",\"y\":5.0,\"yref\":\"y\"},{\"font\":{\"color\":\"black\"},\"showarrow\":false,\"text\":\"12\\ud1a0<br>1\",\"x\":12.0,\"xref\":\"x\",\"y\":5.0,\"yref\":\"y\"},{\"font\":{\"color\":\"black\"},\"showarrow\":false,\"text\":\"16\\ud1a0<br>1\",\"x\":16.0,\"xref\":\"x\",\"y\":5.0,\"yref\":\"y\"},{\"font\":{\"color\":\"black\"},\"showarrow\":false,\"text\":\"19\\ud1a0<br>1\",\"x\":19.0,\"xref\":\"x\",\"y\":5.0,\"yref\":\"y\"},{\"font\":{\"color\":\"black\"},\"showarrow\":false,\"text\":\"22\\ud1a0<br>1\",\"x\":22.0,\"xref\":\"x\",\"y\":5.0,\"yref\":\"y\"},{\"font\":{\"color\":\"black\"},\"showarrow\":false,\"text\":\"2\\uc77c<br>1\",\"x\":2.0,\"xref\":\"x\",\"y\":6.0,\"yref\":\"y\"},{\"font\":{\"color\":\"black\"},\"showarrow\":false,\"text\":\"3\\uc77c<br>1\",\"x\":3.0,\"xref\":\"x\",\"y\":6.0,\"yref\":\"y\"},{\"font\":{\"color\":\"black\"},\"showarrow\":false,\"text\":\"14\\uc77c<br>1\",\"x\":14.0,\"xref\":\"x\",\"y\":6.0,\"yref\":\"y\"},{\"font\":{\"color\":\"black\"},\"showarrow\":false,\"text\":\"15\\uc77c<br>1\",\"x\":15.0,\"xref\":\"x\",\"y\":6.0,\"yref\":\"y\"},{\"font\":{\"color\":\"black\"},\"showarrow\":false,\"text\":\"16\\uc77c<br>1\",\"x\":16.0,\"xref\":\"x\",\"y\":6.0,\"yref\":\"y\"}],\"height\":650,\"width\":2000},                        {\"responsive\": true}                    ).then(function(){\n",
       "                            \n",
       "var gd = document.getElementById('381b2867-ace4-421f-b8bf-0f3e28b4086b');\n",
       "var x = new MutationObserver(function (mutations, observer) {{\n",
       "        var display = window.getComputedStyle(gd).display;\n",
       "        if (!display || display === 'none') {{\n",
       "            console.log([gd, 'removed!']);\n",
       "            Plotly.purge(gd);\n",
       "            observer.disconnect();\n",
       "        }}\n",
       "}});\n",
       "\n",
       "// Listen for the removal of the full notebook cells\n",
       "var notebookContainer = gd.closest('#notebook-container');\n",
       "if (notebookContainer) {{\n",
       "    x.observe(notebookContainer, {childList: true});\n",
       "}}\n",
       "\n",
       "// Listen for the clearing of the current output cell\n",
       "var outputEl = gd.closest('.output');\n",
       "if (outputEl) {{\n",
       "    x.observe(outputEl, {childList: true});\n",
       "}}\n",
       "\n",
       "                        })                };                });            </script>        </div>"
      ]
     },
     "metadata": {},
     "output_type": "display_data"
    }
   ],
   "source": [
    "import plotly.graph_objects as go\n",
    "import numpy as np\n",
    "\n",
    "\n",
    "# Pivot the data to create a matrix\n",
    "matrix = data.pivot('day_of_week', 'visit_hour', 'unique_daily_visits').fillna(0)\n",
    "\n",
    "# Calculate the total for percentages\n",
    "total = matrix.sum().sum()\n",
    "\n",
    "# Create the hover text and annotations: count, and merged labels\n",
    "hover_text = []\n",
    "annotations = []\n",
    "days_of_week = ['월', '화', '수', '목', '금', '토', '일']\n",
    "for i, day in enumerate(matrix.index):\n",
    "    hover_row = []\n",
    "    for j, hour in enumerate(matrix.columns):\n",
    "        text = f\"{matrix.at[day, hour]} visits<br>{days_of_week[i]} {hour}시\"\n",
    "        hover_row.append(text)\n",
    "\n",
    "        # If count is more than 0, create an annotation\n",
    "        if matrix.at[day, hour] > 0:\n",
    "            annotations.append({\n",
    "                \"x\": hour,\n",
    "                \"y\": day,\n",
    "                \"xref\": \"x\",\n",
    "                \"yref\": \"y\",\n",
    "                \"text\": f\"{int(hour)}{days_of_week[i]}<br>{int(matrix.at[day, hour])}\",\n",
    "                \"showarrow\": False,\n",
    "                \"font\": {\n",
    "                    \"color\": \"black\"\n",
    "                }\n",
    "            })\n",
    "    hover_text.append(hover_row)\n",
    "\n",
    "# Create the heatmap\n",
    "fig = go.Figure(data=go.Heatmap(\n",
    "    z=matrix.values,\n",
    "    x=matrix.columns,\n",
    "    y=matrix.index,\n",
    "    colorscale='Viridis',\n",
    "    hoverinfo='text',\n",
    "    text=hover_text,\n",
    "    colorbar=dict(title='Unique Visits')\n",
    "))\n",
    "\n",
    "fig.update_layout(\n",
    "    title=\"요일별 시간당 '신규' 구독자 수 matrix\",\n",
    "    xaxis=dict(title=\"Hour of Day\", tickvals=list(range(25)), ticktext=[str(i) for i in range(25)]),\n",
    "    yaxis=dict(title=\"Day of Week\", tickvals=list(range(8)), ticktext=days_of_week),\n",
    "    annotations=annotations, height=650, width=2000\n",
    ")\n",
    "\n",
    "fig.show()"
   ]
  },
  {
   "cell_type": "code",
   "execution_count": null,
   "metadata": {},
   "outputs": [],
   "source": []
  }
 ],
 "metadata": {
  "kernelspec": {
   "display_name": "base",
   "language": "python",
   "name": "python3"
  },
  "language_info": {
   "codemirror_mode": {
    "name": "ipython",
    "version": 3
   },
   "file_extension": ".py",
   "mimetype": "text/x-python",
   "name": "python",
   "nbconvert_exporter": "python",
   "pygments_lexer": "ipython3",
   "version": "3.10.13"
  },
  "orig_nbformat": 4
 },
 "nbformat": 4,
 "nbformat_minor": 2
}
