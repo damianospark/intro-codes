{
 "cells": [
  {
   "cell_type": "code",
   "execution_count": null,
   "metadata": {},
   "outputs": [],
   "source": [
    "import pandas as pd\n",
    "from io import StringIO\n",
    "from IPython.display import display, HTML\n",
    "\n",
    "# pandas read_csv 함수를 사용하여 데이터를 DataFrame으로 읽기\n",
    "df = pd.read_csv('test2.log', quotechar='\"', skipinitialspace=True, dtype=str)\n",
    "pd.set_option('display.max_rows', None)\n",
    "pd.set_option('display.max_columns', None)\n",
    "df = df.fillna('')\n",
    "# df = df.drop_duplicates()\n",
    "df = df.drop_duplicates(subset=[col for col in df.columns if col != '답변일시'])\n",
    "\n",
    "# Convert '응답일시' to datetime before aggregation\n",
    "df['응답일시'] = pd.to_datetime(df['응답일시'])\n",
    "# Filter rows where '응답일시' is on or after '2023-06-18'\n",
    "df = df[df['응답일시'] >= '2023-06-18']\n",
    "df.to_csv('parsed.csv', index=False)\n",
    "\n",
    "df.reset_index() \n",
    "\n",
    "# # Aggregate rows with the same '고객명'\n",
    "# aggregated_df = df.groupby('고객명').agg({\n",
    "#     '카카오날짜': '\\n'.join,\n",
    "#     '두었습니다': '\\n'.join,\n",
    "#     '문의내용': '\\n'.join,\n",
    "#     '메세지수': '\\n'.join,\n",
    "#     '발견된질문': '\\n'.join,\n",
    "#     '응답일시': lambda x: '\\n'.join(x.dt.strftime('%Y-%m-%d %H:%M:%S')),  # Convert datetime back to string for aggregation\n",
    "#     '답변일시': '\\n'.join,\n",
    "#     '답변내용': '\\n'.join,\n",
    "# }).reset_index()\n",
    "\n",
    "# aggregated_df.to_csv('parsed.csv', index=False)\n",
    "\n",
    "# # Filter rows where '응답일시' is after 2023-06-18\n",
    "\n",
    "# tab_separated = df.to_csv(sep='\\t', index=False)\n",
    "# df = df.applymap(lambda x: x.replace('\\n', '<br>') if isinstance(x, str) else x)\n",
    "\n",
    "# df['문의내용'] = df['문의내용'].str.replace('\\n', '<br>')\n",
    "# df['답변내용'] = df['답변내용'].str.replace('\\n', '<br>')\n",
    "# display(HTML(df.to_html(index=False)))\n",
    "\n",
    "# print(tab_separated)\n"
   ]
  }
 ],
 "metadata": {
  "kernelspec": {
   "display_name": "Python 3",
   "language": "python",
   "name": "python3"
  },
  "language_info": {
   "codemirror_mode": {
    "name": "ipython",
    "version": 3
   },
   "file_extension": ".py",
   "mimetype": "text/x-python",
   "name": "python",
   "nbconvert_exporter": "python",
   "pygments_lexer": "ipython3",
   "version": "3.8.10"
  },
  "orig_nbformat": 4
 },
 "nbformat": 4,
 "nbformat_minor": 2
}
